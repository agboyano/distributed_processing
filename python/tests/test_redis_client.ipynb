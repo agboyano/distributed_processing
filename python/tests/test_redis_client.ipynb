{
 "cells": [
  {
   "cell_type": "code",
   "execution_count": 1,
   "metadata": {},
   "outputs": [],
   "source": [
    "import random\n",
    "\n",
    "from distributed_processing.serializers import JsonSerializer\n",
    "from distributed_processing.client import Client\n",
    "from distributed_processing.redis_connector import RedisConnector\n"
   ]
  },
  {
   "cell_type": "code",
   "execution_count": 2,
   "metadata": {},
   "outputs": [],
   "source": [
    "REDIS_HOST = \"localhost\"\n",
    "REDIS_PORT = 6379\n",
    "REDIS_DB = 0\n",
    "NAMESPACE = \"tasks\""
   ]
  },
  {
   "cell_type": "code",
   "execution_count": 3,
   "metadata": {
    "tags": []
   },
   "outputs": [
    {
     "name": "stderr",
     "output_type": "stream",
     "text": [
      "Client with id: tasks:redis_client:8\n",
      "Results queue: tasks:redis_client:8:responses\n"
     ]
    }
   ],
   "source": [
    "redis_connector = RedisConnector(redis_host=REDIS_HOST, redis_port=REDIS_PORT, \n",
    "                                 redis_db=REDIS_DB, namespace=NAMESPACE)\n",
    "\n",
    "client = Client(JsonSerializer(), redis_connector, check_registry=\"cache\")"
   ]
  },
  {
   "cell_type": "code",
   "execution_count": 4,
   "metadata": {},
   "outputs": [],
   "source": [
    "y = client.rpc_async(\"add\", [1, 0])"
   ]
  },
  {
   "cell_type": "code",
   "execution_count": 5,
   "metadata": {},
   "outputs": [
    {
     "data": {
      "text/plain": [
       "1"
      ]
     },
     "execution_count": 5,
     "metadata": {},
     "output_type": "execute_result"
    }
   ],
   "source": [
    "y.get()"
   ]
  },
  {
   "cell_type": "code",
   "execution_count": 6,
   "metadata": {},
   "outputs": [
    {
     "name": "stdout",
     "output_type": "stream",
     "text": [
      "Method fake does not exist/is not available.\n"
     ]
    }
   ],
   "source": [
    "client.check_registry =\"allways\"\n",
    "\n",
    "try:\n",
    "    y = client.rpc_async(\"fake\", [1, 0])\n",
    "except Exception as e:\n",
    "    print(e)"
   ]
  },
  {
   "cell_type": "code",
   "execution_count": 7,
   "metadata": {},
   "outputs": [
    {
     "name": "stdout",
     "output_type": "stream",
     "text": [
      "Error -32601 : The method does not exist/is not available.\n",
      "\n",
      " \n"
     ]
    }
   ],
   "source": [
    "client.check_registry =\"never\"\n",
    "client.set_default_queue(\"cola_1\")\n",
    "\n",
    "y = client.rpc_async(\"fake\", [1, 0])\n",
    "\n",
    "try:\n",
    "    y.get()\n",
    "except Exception as e:\n",
    "    print(e)\n"
   ]
  },
  {
   "cell_type": "code",
   "execution_count": 8,
   "metadata": {},
   "outputs": [
    {
     "data": {
      "text/plain": [
       "'Esto es un error'"
      ]
     },
     "execution_count": 8,
     "metadata": {},
     "output_type": "execute_result"
    }
   ],
   "source": [
    "client.check_registry =\"never\"\n",
    "client.set_default_queue(\"cola_1\")\n",
    "\n",
    "y = client.rpc_async(\"fake\", [1, 0])\n",
    "\n",
    "y.safe_get(default=\"Esto es un error\")"
   ]
  },
  {
   "cell_type": "code",
   "execution_count": 9,
   "metadata": {},
   "outputs": [],
   "source": [
    "client.check_registry =\"cache\""
   ]
  },
  {
   "cell_type": "code",
   "execution_count": 10,
   "metadata": {},
   "outputs": [],
   "source": [
    "x = client.rpc_async(\"div\", [1, 0])"
   ]
  },
  {
   "cell_type": "code",
   "execution_count": 11,
   "metadata": {},
   "outputs": [
    {
     "name": "stdout",
     "output_type": "stream",
     "text": [
      "Error -32603 : Internal RPC error.\n",
      "\n",
      " Traceback (most recent call last):\n",
      "  File \"/home/augusto/tfm/distributed_processing/python/distributed_processing/worker.py\", line 155, in _process_single_request\n",
      "    result = func[request[\"method\"]](*args, **kwargs)\n",
      "  File \"<ipython-input-4-119847af5757>\", line 8, in div\n",
      "    return x / y\n",
      "ZeroDivisionError: division by zero\n",
      "\n"
     ]
    }
   ],
   "source": [
    "try:\n",
    "    x.get()\n",
    "except Exception as e:\n",
    "    print(e)"
   ]
  },
  {
   "cell_type": "code",
   "execution_count": 12,
   "metadata": {},
   "outputs": [
    {
     "data": {
      "text/plain": [
       "2"
      ]
     },
     "execution_count": 12,
     "metadata": {},
     "output_type": "execute_result"
    }
   ],
   "source": [
    "client.rpc_sync(\"add\", [1, 1])"
   ]
  },
  {
   "cell_type": "code",
   "execution_count": 13,
   "metadata": {},
   "outputs": [],
   "source": [
    "def f(x,y): return x + y\n",
    "\n",
    "y = client.rpc_async_fn(f, [1, 2.0])"
   ]
  },
  {
   "cell_type": "code",
   "execution_count": 14,
   "metadata": {},
   "outputs": [
    {
     "data": {
      "text/plain": [
       "3.0"
      ]
     },
     "execution_count": 14,
     "metadata": {},
     "output_type": "execute_result"
    }
   ],
   "source": [
    "y.get()"
   ]
  },
  {
   "cell_type": "code",
   "execution_count": 15,
   "metadata": {},
   "outputs": [
    {
     "data": {
      "text/plain": [
       "5.0"
      ]
     },
     "execution_count": 15,
     "metadata": {},
     "output_type": "execute_result"
    }
   ],
   "source": [
    "client.rpc_sync_fn(f, [3.0, 2.0])"
   ]
  },
  {
   "cell_type": "code",
   "execution_count": 16,
   "metadata": {
    "tags": []
   },
   "outputs": [
    {
     "name": "stdout",
     "output_type": "stream",
     "text": [
      "('add', [0.9091075812107953, 0.04696808482934378], {})\n",
      "('add', [0.23304927679876353, 0.378677128484019], {})\n",
      "('add', [0.10228898210372384, 0.6891919091747304], {})\n",
      "('div', [0.8318694376151906, 0.16326322168353813], {})\n",
      "('mul', [0.7637391941538142, 0.7968327465404933], {})\n",
      "('add', [0.7646976400709941, 0.6552168493793303], {})\n",
      "('mul', [0.7985779086179677, 0.3470352997609364], {})\n",
      "('div', [0.1732385545966293, 0.945310535090183], {})\n",
      "('mul', [0.6147309712888489, 0.5416947499030671], {})\n",
      "('add', [0.3576197313349665, 0.2028774897856157], {})\n"
     ]
    }
   ],
   "source": [
    "fs =[]\n",
    "tp = []\n",
    "N = 10\n",
    "for i in range(N):\n",
    "    fn = random.choice((\"add\", \"mul\", \"div\"))\n",
    "    t = (fn, [random.random(),random.random()], {})\n",
    "    print(t)\n",
    "    tp.append(t)\n",
    "    fs.append(client.rpc_async(t[0], t[1]))"
   ]
  },
  {
   "cell_type": "code",
   "execution_count": 17,
   "metadata": {},
   "outputs": [
    {
     "data": {
      "text/plain": [
       "[0.956075666040139,\n",
       " 0.6117264052827825,\n",
       " 0.7914808912784542,\n",
       " 5.095265357605449,\n",
       " 0.6085723997182069,\n",
       " 1.4199144894503244,\n",
       " 0.2771347238996981,\n",
       " 0.18326100066165268,\n",
       " 0.3329965397499825,\n",
       " 0.5604972211205822]"
      ]
     },
     "execution_count": 17,
     "metadata": {},
     "output_type": "execute_result"
    }
   ],
   "source": [
    "[f.get() for f in fs]"
   ]
  },
  {
   "cell_type": "code",
   "execution_count": 18,
   "metadata": {},
   "outputs": [
    {
     "data": {
      "text/plain": [
       "[('add', [0.9091075812107953, 0.04696808482934378], {}),\n",
       " ('add', [0.23304927679876353, 0.378677128484019], {}),\n",
       " ('add', [0.10228898210372384, 0.6891919091747304], {}),\n",
       " ('div', [0.8318694376151906, 0.16326322168353813], {}),\n",
       " ('mul', [0.7637391941538142, 0.7968327465404933], {}),\n",
       " ('add', [0.7646976400709941, 0.6552168493793303], {}),\n",
       " ('mul', [0.7985779086179677, 0.3470352997609364], {}),\n",
       " ('div', [0.1732385545966293, 0.945310535090183], {}),\n",
       " ('mul', [0.6147309712888489, 0.5416947499030671], {}),\n",
       " ('add', [0.3576197313349665, 0.2028774897856157], {})]"
      ]
     },
     "execution_count": 18,
     "metadata": {},
     "output_type": "execute_result"
    }
   ],
   "source": [
    "tp"
   ]
  },
  {
   "cell_type": "code",
   "execution_count": 19,
   "metadata": {},
   "outputs": [],
   "source": [
    "fs = client.rpc_batch_async(tp)"
   ]
  },
  {
   "cell_type": "code",
   "execution_count": 20,
   "metadata": {},
   "outputs": [
    {
     "data": {
      "text/plain": [
       "[0.956075666040139,\n",
       " 0.6117264052827825,\n",
       " 0.7914808912784542,\n",
       " 5.095265357605449,\n",
       " 0.6085723997182069,\n",
       " 1.4199144894503244,\n",
       " 0.2771347238996981,\n",
       " 0.18326100066165268,\n",
       " 0.3329965397499825,\n",
       " 0.5604972211205822]"
      ]
     },
     "execution_count": 20,
     "metadata": {},
     "output_type": "execute_result"
    }
   ],
   "source": [
    "[f.get() for f in fs]"
   ]
  },
  {
   "cell_type": "code",
   "execution_count": 21,
   "metadata": {},
   "outputs": [
    {
     "data": {
      "text/plain": [
       "[0.956075666040139,\n",
       " 0.6117264052827825,\n",
       " 0.7914808912784542,\n",
       " 5.095265357605449,\n",
       " 0.6085723997182069,\n",
       " 1.4199144894503244,\n",
       " 0.2771347238996981,\n",
       " 0.18326100066165268,\n",
       " 0.3329965397499825,\n",
       " 0.5604972211205822]"
      ]
     },
     "execution_count": 21,
     "metadata": {},
     "output_type": "execute_result"
    }
   ],
   "source": [
    "client.rpc_batch_sync(tp)"
   ]
  },
  {
   "cell_type": "code",
   "execution_count": 22,
   "metadata": {
    "tags": []
   },
   "outputs": [
    {
     "name": "stdout",
     "output_type": "stream",
     "text": [
      "('mul', [0.3946327028711428, 0.6245348725493295], {})\n",
      "('add', [0.25322651648770567, 0.8720561101882707], {})\n",
      "('fake', [0.9354624323824687, 0.5438217644348127], {})\n",
      "('mul', [0.09614924643205969, 0.9031611633359359], {})\n",
      "('div', [0.08219849565150694, 0.16681538306609023], {})\n",
      "('div', [0.5550417849669401, 0.3606881947268552], {})\n",
      "('add', [0.9594337489889184, 0.021774519440847295], {})\n",
      "('mul', [0.5389812978767485, 0.09280279140271608], {})\n",
      "('add', [0.9987943764613024, 0.24963096969691023], {})\n",
      "('fake', [0.7157054340816611, 0.6751113108355713], {})\n"
     ]
    }
   ],
   "source": [
    "fs =[]\n",
    "tp = []\n",
    "N = 10\n",
    "for i in range(N):\n",
    "    fn = random.choice((\"add\", \"mul\", \"div\", \"fake\"))\n",
    "    t = (fn, [random.random(),random.random()], {})\n",
    "    print(t)\n",
    "    tp.append(t)"
   ]
  },
  {
   "cell_type": "code",
   "execution_count": 23,
   "metadata": {},
   "outputs": [
    {
     "data": {
      "text/plain": [
       "[('mul', [0.3946327028711428, 0.6245348725493295], {}),\n",
       " ('add', [0.25322651648770567, 0.8720561101882707], {}),\n",
       " ('fake', [0.9354624323824687, 0.5438217644348127], {}),\n",
       " ('mul', [0.09614924643205969, 0.9031611633359359], {}),\n",
       " ('div', [0.08219849565150694, 0.16681538306609023], {}),\n",
       " ('div', [0.5550417849669401, 0.3606881947268552], {}),\n",
       " ('add', [0.9594337489889184, 0.021774519440847295], {}),\n",
       " ('mul', [0.5389812978767485, 0.09280279140271608], {}),\n",
       " ('add', [0.9987943764613024, 0.24963096969691023], {}),\n",
       " ('fake', [0.7157054340816611, 0.6751113108355713], {})]"
      ]
     },
     "execution_count": 23,
     "metadata": {},
     "output_type": "execute_result"
    }
   ],
   "source": [
    "tp"
   ]
  },
  {
   "cell_type": "code",
   "execution_count": 24,
   "metadata": {
    "tags": []
   },
   "outputs": [],
   "source": [
    "client.check_registry =\"never\"\n",
    "client.set_default_queue(\"cola_1\")\n",
    "\n",
    "fs = client.rpc_batch_async(tp)"
   ]
  },
  {
   "cell_type": "code",
   "execution_count": 25,
   "metadata": {},
   "outputs": [
    {
     "data": {
      "text/plain": [
       "[0.2464618847914266,\n",
       " 1.1252826266759763,\n",
       " None,\n",
       " 0.08683826526145261,\n",
       " 0.4927512927206533,\n",
       " 1.5388410075003052,\n",
       " 0.9812082684297657,\n",
       " 0.05001896895682107,\n",
       " 1.2484253461582127,\n",
       " None]"
      ]
     },
     "execution_count": 25,
     "metadata": {},
     "output_type": "execute_result"
    }
   ],
   "source": [
    "[f.safe_get() for f in fs]"
   ]
  },
  {
   "cell_type": "code",
   "execution_count": 26,
   "metadata": {},
   "outputs": [],
   "source": [
    "client.check_registry =\"cache\""
   ]
  },
  {
   "cell_type": "code",
   "execution_count": 27,
   "metadata": {
    "tags": []
   },
   "outputs": [
    {
     "name": "stdout",
     "output_type": "stream",
     "text": [
      "Method fake does not exist/is not available.\n"
     ]
    }
   ],
   "source": [
    "try:\n",
    "    x = client.rpc_batch_sync(tp, timeout=5)\n",
    "except Exception as e:\n",
    "    print(e)"
   ]
  },
  {
   "cell_type": "code",
   "execution_count": 28,
   "metadata": {
    "tags": []
   },
   "outputs": [
    {
     "name": "stdout",
     "output_type": "stream",
     "text": [
      "Method fake does not exist/is not available.\n"
     ]
    }
   ],
   "source": [
    "try:    \n",
    "    x = client.rpc_batch_sync(tp, timeout=5)\n",
    "except Exception as e:\n",
    "    print(e)"
   ]
  },
  {
   "cell_type": "code",
   "execution_count": 29,
   "metadata": {},
   "outputs": [],
   "source": [
    "client.check_registry=\"never\"\n",
    "client.set_default_queue(\"cola_1\")\n",
    "\n",
    "x = client.rpc_async(\"kk\", [1, 0])"
   ]
  },
  {
   "cell_type": "code",
   "execution_count": 30,
   "metadata": {
    "tags": []
   },
   "outputs": [
    {
     "name": "stdout",
     "output_type": "stream",
     "text": [
      "Error -32601 : The method does not exist/is not available.\n",
      "\n",
      " \n"
     ]
    }
   ],
   "source": [
    "try:\n",
    "    x.get()\n",
    "except Exception as e:\n",
    "    print(e)"
   ]
  },
  {
   "cell_type": "code",
   "execution_count": 31,
   "metadata": {},
   "outputs": [],
   "source": [
    "y = client.rpc_async(\"add\", [1, 0])"
   ]
  },
  {
   "cell_type": "code",
   "execution_count": 32,
   "metadata": {},
   "outputs": [
    {
     "data": {
      "text/plain": [
       "1"
      ]
     },
     "execution_count": 32,
     "metadata": {},
     "output_type": "execute_result"
    }
   ],
   "source": [
    "y.get(5)"
   ]
  },
  {
   "cell_type": "code",
   "execution_count": 33,
   "metadata": {
    "tags": []
   },
   "outputs": [
    {
     "name": "stdout",
     "output_type": "stream",
     "text": [
      "Error -32601 : The method does not exist/is not available.\n",
      "\n",
      " \n"
     ]
    }
   ],
   "source": [
    "def f(x,y): return x + y\n",
    "\n",
    "client.check_registry=\"never\"\n",
    "y = client.rpc_async_fn(f, [1, 2.0])\n",
    "try:\n",
    "    y.get()\n",
    "except Exception as e:\n",
    "    print(e)"
   ]
  },
  {
   "cell_type": "code",
   "execution_count": null,
   "metadata": {},
   "outputs": [],
   "source": []
  }
 ],
 "metadata": {
  "kernelspec": {
   "display_name": "Python 3",
   "language": "python",
   "name": "python3"
  },
  "language_info": {
   "codemirror_mode": {
    "name": "ipython",
    "version": 3
   },
   "file_extension": ".py",
   "mimetype": "text/x-python",
   "name": "python",
   "nbconvert_exporter": "python",
   "pygments_lexer": "ipython3",
   "version": "3.7.7"
  }
 },
 "nbformat": 4,
 "nbformat_minor": 4
}
