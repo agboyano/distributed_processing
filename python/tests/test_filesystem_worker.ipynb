{
 "cells": [
  {
   "cell_type": "code",
   "execution_count": 1,
   "metadata": {},
   "outputs": [],
   "source": [
    "import sys\n",
    "sys.path.insert(0,'C:\\home\\distributed_processing\\python')"
   ]
  },
  {
   "cell_type": "code",
   "execution_count": 2,
   "metadata": {},
   "outputs": [],
   "source": [
    "from distributed_processing.serializers import DummySerializer\n",
    "from distributed_processing.worker import Worker\n",
    "from distributed_processing.filesystem_connector import FileSystemConnector"
   ]
  },
  {
   "cell_type": "code",
   "execution_count": 3,
   "metadata": {},
   "outputs": [],
   "source": [
    "DIRECTORY = 'G:\\home\\prueba_ditribuida_fs'\n",
    "NAMESPACE = \"tasks\""
   ]
  },
  {
   "cell_type": "code",
   "execution_count": 4,
   "metadata": {
    "tags": []
   },
   "outputs": [
    {
     "name": "stderr",
     "output_type": "stream",
     "text": [
      "Worker id: redis_server_1\n"
     ]
    }
   ],
   "source": [
    "fs_connector = FileSystemConnector(directory=DIRECTORY, namespace=NAMESPACE)\n",
    "\n",
    "# Podemos limpiar el namespace por si quedan restos de ejecuciones anteriores.\n",
    "fs_connector.clean_namespace()\n",
    "\n",
    "server = Worker(DummySerializer(), fs_connector)\n",
    "\n"
   ]
  },
  {
   "cell_type": "code",
   "execution_count": 5,
   "metadata": {
    "tags": []
   },
   "outputs": [],
   "source": [
    "def add(x, y):\n",
    "    return x + y\n",
    "\n",
    "def mul(x, y):\n",
    "    return x * y\n",
    "\n",
    "def div(x, y):\n",
    "    return x / y\n",
    "\n",
    "func_dict1 = {\"add\" : add,\n",
    "              \"mul\" : mul,\n",
    "              \"div\" : div}\n",
    "\n",
    "server.add_requests_queue(\"cola_1\", func_dict1)\n"
   ]
  },
  {
   "cell_type": "code",
   "execution_count": 6,
   "metadata": {},
   "outputs": [],
   "source": [
    "def hola(nombre, calificativo=\"listo\"):\n",
    "    return f\"Hola {nombre}, eres muy {calificativo}\"\n",
    "\n",
    "func_dict2 = {\"hola\": hola}\n",
    "\n",
    "# Los métodos disponibles en cola_2 no los vamos a hacer públicos\n",
    "server.add_requests_queue(\"cola_2\", func_dict2, register=False)"
   ]
  },
  {
   "cell_type": "code",
   "execution_count": 7,
   "metadata": {},
   "outputs": [
    {
     "data": {
      "text/plain": [
       "''"
      ]
     },
     "execution_count": 7,
     "metadata": {},
     "output_type": "execute_result"
    }
   ],
   "source": [
    "server.add_python_eval()\n",
    "\n",
    "\"\"\"\n",
    "# Equivalente a:\n",
    "import dill\n",
    "import base64\n",
    "\n",
    "def eval_py_function(str_fn, args=[], kwargs={}):\n",
    "    \"str_fn encoded en base64 ascii\"\n",
    "    return dill.loads(base64.b64decode(str_fn))(*args, **kwargs)\n",
    "\n",
    "server.add_requests_queue(\"py_eval\", {\"eval_py_function\": eval_py_function})\n",
    "\"\"\"\n",
    "\n",
    "_"
   ]
  },
  {
   "cell_type": "code",
   "execution_count": 8,
   "metadata": {
    "tags": []
   },
   "outputs": [
    {
     "name": "stderr",
     "output_type": "stream",
     "text": [
      "Method add published as available for queues: requests_cola_1\n",
      "Method mul published as available for queues: requests_cola_1\n",
      "Method div published as available for queues: requests_cola_1\n",
      "Method eval_py_function published as available for queues: requests_py_eval\n"
     ]
    }
   ],
   "source": [
    "# Publicamos todos los métodos de las colas \n",
    "server.update_methods_registry()"
   ]
  },
  {
   "cell_type": "code",
   "execution_count": 9,
   "metadata": {},
   "outputs": [
    {
     "ename": "KeyboardInterrupt",
     "evalue": "",
     "output_type": "error",
     "traceback": [
      "\u001b[1;31m---------------------------------------------------------------------------\u001b[0m",
      "\u001b[1;31mIndexError\u001b[0m                                Traceback (most recent call last)",
      "File \u001b[1;32mC:\\home\\distributed_processing\\python\\distributed_processing\\filesystem_connector.py:140\u001b[0m, in \u001b[0;36mFileSystemConnector.pop_multiple\u001b[1;34m(self, queues, timeout)\u001b[0m\n\u001b[0;32m    139\u001b[0m \u001b[38;5;28;01mtry\u001b[39;00m:\n\u001b[1;32m--> 140\u001b[0m     \u001b[38;5;28;01mreturn\u001b[39;00m (queue, lst\u001b[38;5;241m.\u001b[39mpop(\u001b[38;5;241m0\u001b[39m))\n\u001b[0;32m    141\u001b[0m \u001b[38;5;28;01mexcept\u001b[39;00m \u001b[38;5;167;01mIndexError\u001b[39;00m:\n",
      "File \u001b[1;32mC:\\home\\distributed_processing\\python\\fsutils.py:332\u001b[0m, in \u001b[0;36mFSList.pop\u001b[1;34m(self, key)\u001b[0m\n\u001b[0;32m    331\u001b[0m \u001b[38;5;28;01mdef\u001b[39;00m \u001b[38;5;21mpop\u001b[39m(\u001b[38;5;28mself\u001b[39m, key\u001b[38;5;241m=\u001b[39m\u001b[38;5;241m-\u001b[39m\u001b[38;5;241m1\u001b[39m):\n\u001b[1;32m--> 332\u001b[0m     value \u001b[38;5;241m=\u001b[39m \u001b[38;5;28mself\u001b[39m[key]\n\u001b[0;32m    333\u001b[0m     \u001b[38;5;28;01mdel\u001b[39;00m \u001b[38;5;28mself\u001b[39m[key]\n",
      "File \u001b[1;32mC:\\home\\distributed_processing\\python\\fsutils.py:305\u001b[0m, in \u001b[0;36mFSList.__getitem__\u001b[1;34m(self, key)\u001b[0m\n\u001b[0;32m    304\u001b[0m lst \u001b[38;5;241m=\u001b[39m \u001b[38;5;28mself\u001b[39m\u001b[38;5;241m.\u001b[39m_sorted_items()\n\u001b[1;32m--> 305\u001b[0m \u001b[38;5;28;01mreturn\u001b[39;00m \u001b[38;5;28mself\u001b[39m\u001b[38;5;241m.\u001b[39m_load(os\u001b[38;5;241m.\u001b[39mpath\u001b[38;5;241m.\u001b[39mjoin(\u001b[38;5;28mself\u001b[39m\u001b[38;5;241m.\u001b[39m_dir, lst[key][\u001b[38;5;241m0\u001b[39m]))\n",
      "\u001b[1;31mIndexError\u001b[0m: list index out of range",
      "\nDuring handling of the above exception, another exception occurred:\n",
      "\u001b[1;31mKeyboardInterrupt\u001b[0m                         Traceback (most recent call last)",
      "Cell \u001b[1;32mIn[9], line 1\u001b[0m\n\u001b[1;32m----> 1\u001b[0m server\u001b[38;5;241m.\u001b[39mrun()\n",
      "File \u001b[1;32mC:\\home\\distributed_processing\\python\\distributed_processing\\worker.py:209\u001b[0m, in \u001b[0;36mWorker.run\u001b[1;34m(self, timeout)\u001b[0m\n\u001b[0;32m    206\u001b[0m     time_left \u001b[38;5;241m=\u001b[39m timeout\n\u001b[0;32m    208\u001b[0m \u001b[38;5;28;01mwhile\u001b[39;00m forever \u001b[38;5;129;01mor\u001b[39;00m time_left \u001b[38;5;241m>\u001b[39m \u001b[38;5;241m0\u001b[39m:\n\u001b[1;32m--> 209\u001b[0m     \u001b[38;5;28mself\u001b[39m\u001b[38;5;241m.\u001b[39mrun_once(timeout\u001b[38;5;241m=\u001b[39mtimeout)\n\u001b[0;32m    210\u001b[0m     \u001b[38;5;28;01mif\u001b[39;00m \u001b[38;5;129;01mnot\u001b[39;00m forever:\n\u001b[0;32m    211\u001b[0m         time_left \u001b[38;5;241m=\u001b[39m timeout \u001b[38;5;241m-\u001b[39m (time\u001b[38;5;241m.\u001b[39mtime() \u001b[38;5;241m-\u001b[39m t_0)\n",
      "File \u001b[1;32mC:\\home\\distributed_processing\\python\\distributed_processing\\worker.py:173\u001b[0m, in \u001b[0;36mWorker.run_once\u001b[1;34m(self, timeout)\u001b[0m\n\u001b[0;32m    170\u001b[0m     \u001b[38;5;28;01mraise\u001b[39;00m \u001b[38;5;167;01mValueError\u001b[39;00m(\u001b[38;5;124m\"\u001b[39m\u001b[38;5;124mNo queues to listen.\u001b[39m\u001b[38;5;124m\"\u001b[39m)\n\u001b[0;32m    172\u001b[0m \u001b[38;5;66;03m# pop_multiple devuelve el nombre de la cola y el resultadado o None si timeout\u001b[39;00m\n\u001b[1;32m--> 173\u001b[0m request_with_priority \u001b[38;5;241m=\u001b[39m \u001b[38;5;28mself\u001b[39m\u001b[38;5;241m.\u001b[39mconnector\u001b[38;5;241m.\u001b[39mpop_multiple(sorted_queues, timeout\u001b[38;5;241m=\u001b[39mtimeout)\n\u001b[0;32m    175\u001b[0m \u001b[38;5;28;01mif\u001b[39;00m request_with_priority \u001b[38;5;129;01mis\u001b[39;00m \u001b[38;5;129;01mnot\u001b[39;00m \u001b[38;5;28;01mNone\u001b[39;00m:\n\u001b[0;32m    176\u001b[0m     request_queue, serialized_request \u001b[38;5;241m=\u001b[39m request_with_priority\n",
      "File \u001b[1;32mC:\\home\\distributed_processing\\python\\distributed_processing\\filesystem_connector.py:142\u001b[0m, in \u001b[0;36mFileSystemConnector.pop_multiple\u001b[1;34m(self, queues, timeout)\u001b[0m\n\u001b[0;32m    140\u001b[0m             \u001b[38;5;28;01mreturn\u001b[39;00m (queue, lst\u001b[38;5;241m.\u001b[39mpop(\u001b[38;5;241m0\u001b[39m))\n\u001b[0;32m    141\u001b[0m         \u001b[38;5;28;01mexcept\u001b[39;00m \u001b[38;5;167;01mIndexError\u001b[39;00m:\n\u001b[1;32m--> 142\u001b[0m             sleep(\u001b[38;5;241m0.1\u001b[39m, \u001b[38;5;241m0.5\u001b[39m)\n\u001b[0;32m    143\u001b[0m \u001b[38;5;28;01mreturn\u001b[39;00m \u001b[38;5;28;01mNone\u001b[39;00m\n",
      "File \u001b[1;32mC:\\home\\distributed_processing\\python\\distributed_processing\\filesystem_connector.py:10\u001b[0m, in \u001b[0;36msleep\u001b[1;34m(a, b)\u001b[0m\n\u001b[0;32m      8\u001b[0m     time\u001b[38;5;241m.\u001b[39msleep(a)\n\u001b[0;32m      9\u001b[0m \u001b[38;5;28;01melse\u001b[39;00m:\n\u001b[1;32m---> 10\u001b[0m     time\u001b[38;5;241m.\u001b[39msleep(random\u001b[38;5;241m.\u001b[39muniform(a,b ))\n",
      "\u001b[1;31mKeyboardInterrupt\u001b[0m: "
     ]
    }
   ],
   "source": [
    "server.run()"
   ]
  }
 ],
 "metadata": {
  "kernelspec": {
   "display_name": "base",
   "language": "python",
   "name": "python3"
  },
  "language_info": {
   "codemirror_mode": {
    "name": "ipython",
    "version": 3
   },
   "file_extension": ".py",
   "mimetype": "text/x-python",
   "name": "python",
   "nbconvert_exporter": "python",
   "pygments_lexer": "ipython3",
   "version": "3.11.5"
  }
 },
 "nbformat": 4,
 "nbformat_minor": 4
}
