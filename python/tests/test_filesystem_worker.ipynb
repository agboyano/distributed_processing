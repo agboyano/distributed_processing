{
 "cells": [
  {
   "cell_type": "code",
   "execution_count": 1,
   "metadata": {},
   "outputs": [],
   "source": [
    "from distributed_processing.serializers import DummySerializer\n",
    "from distributed_processing.worker import Worker\n",
    "from distributed_processing.filesystem_connector import FileSystemConnector"
   ]
  },
  {
   "cell_type": "code",
   "execution_count": 2,
   "metadata": {},
   "outputs": [],
   "source": [
    "CURRO = False\n",
    "\n",
    "if CURRO:\n",
    "    NS_PATH =\"G:\\\\fs_namespaces\\\\prueba_distribuida\"\n",
    "    #NS_PATH =\"C:\\\\fs_namespaces\\\\prueba_distribuida\"\n",
    "\n",
    "else:\n",
    "    NS_PATH = \"/home/augusto/python/notebooks/fs_namespaces/prueba_distribuida\"\n"
   ]
  },
  {
   "cell_type": "code",
   "execution_count": 3,
   "metadata": {},
   "outputs": [],
   "source": [
    "import logging\n",
    "logging.basicConfig(level=logging.DEBUG)"
   ]
  },
  {
   "cell_type": "markdown",
   "metadata": {},
   "source": []
  },
  {
   "cell_type": "markdown",
   "metadata": {},
   "source": []
  },
  {
   "cell_type": "code",
   "execution_count": 4,
   "metadata": {},
   "outputs": [
    {
     "name": "stderr",
     "output_type": "stream",
     "text": [
      "{lock_name} unset\n",
      "Worker id: fs_server_7\n"
     ]
    }
   ],
   "source": [
    "fs_connector = FileSystemConnector(NS_PATH)\n",
    "fs_connector.with_watchdog = True\n",
    "# Podemos limpiar el namespace por si quedan restos de ejecuciones anteriores.\n",
    "#fs_connector.clean_namespace()\n",
    "\n",
    "server = Worker(DummySerializer(), fs_connector)\n"
   ]
  },
  {
   "cell_type": "code",
   "execution_count": null,
   "metadata": {},
   "outputs": [],
   "source": []
  },
  {
   "cell_type": "code",
   "execution_count": 5,
   "metadata": {
    "tags": []
   },
   "outputs": [],
   "source": [
    "def add(x, y):\n",
    "    return x + y\n",
    "\n",
    "def mul(x, y):\n",
    "    return x * y\n",
    "\n",
    "def div(x, y):\n",
    "    return x / y\n",
    "\n",
    "func_dict1 = {\"add\" : add,\n",
    "              \"mul\" : mul,\n",
    "              \"div\" : div}\n",
    "\n",
    "server.add_requests_queue(\"cola_1\", func_dict1)\n"
   ]
  },
  {
   "cell_type": "code",
   "execution_count": 6,
   "metadata": {},
   "outputs": [],
   "source": [
    "def hola(nombre, calificativo=\"listo\"):\n",
    "    return f\"Hola {nombre}, eres muy {calificativo}\"\n",
    "\n",
    "func_dict2 = {\"hola\": hola}\n",
    "\n",
    "# Los métodos disponibles en cola_2 no los vamos a hacer públicos\n",
    "server.add_requests_queue(\"cola_2\", func_dict2, register=False)"
   ]
  },
  {
   "cell_type": "code",
   "execution_count": 7,
   "metadata": {},
   "outputs": [
    {
     "data": {
      "text/plain": [
       "'\\n# Equivalente a:\\nimport dill\\nimport base64\\n\\ndef eval_py_function(str_fn, args=[], kwargs={}):\\n    \"str_fn encoded en base64 ascii\"\\n    return dill.loads(base64.b64decode(str_fn))(*args, **kwargs)\\n\\nserver.add_requests_queue(\"py_eval\", {\"eval_py_function\": eval_py_function})\\n'"
      ]
     },
     "execution_count": 7,
     "metadata": {},
     "output_type": "execute_result"
    }
   ],
   "source": [
    "server.add_python_eval()\n",
    "\n",
    "\"\"\"\n",
    "# Equivalente a:\n",
    "import dill\n",
    "import base64\n",
    "\n",
    "def eval_py_function(str_fn, args=[], kwargs={}):\n",
    "    \"str_fn encoded en base64 ascii\"\n",
    "    return dill.loads(base64.b64decode(str_fn))(*args, **kwargs)\n",
    "\n",
    "server.add_requests_queue(\"py_eval\", {\"eval_py_function\": eval_py_function})\n",
    "\"\"\"\n",
    "\n"
   ]
  },
  {
   "cell_type": "code",
   "execution_count": 8,
   "metadata": {},
   "outputs": [
    {
     "data": {
      "text/plain": [
       "{'requests_cola_1', 'requests_py_eval'}"
      ]
     },
     "execution_count": 8,
     "metadata": {},
     "output_type": "execute_result"
    }
   ],
   "source": [
    "server.queues_to_register"
   ]
  },
  {
   "cell_type": "code",
   "execution_count": 9,
   "metadata": {
    "tags": []
   },
   "outputs": [
    {
     "name": "stderr",
     "output_type": "stream",
     "text": [
      "Method add published as available for queues: requests_cola_1\n",
      "Method mul published as available for queues: requests_cola_1\n",
      "Method div published as available for queues: requests_cola_1\n",
      "Method eval_py_function published as available for queues: requests_py_eval\n",
      "{lock_name} unset\n"
     ]
    }
   ],
   "source": [
    "# Publicamos todos los métodos de las colas \n",
    "server.update_methods_registry()"
   ]
  },
  {
   "cell_type": "code",
   "execution_count": null,
   "metadata": {},
   "outputs": [
    {
     "name": "stderr",
     "output_type": "stream",
     "text": [
      "in-event <InotifyEvent: src_path=b\"/home/augusto/python/notebooks/fs_namespaces/prueba_distribuida/li_requests_cola_1/('8118958.453521', 320148.2188230901).jbl\", wd=1, mask=IN_MOVED_TO, cookie=1985420, name=\"('8118958.453521', 320148.2188230901).jbl\">\n",
      "could not find matching move_from event\n",
      "in-event <InotifyEvent: src_path=b\"/home/augusto/python/notebooks/fs_namespaces/prueba_distribuida/li_requests_cola_1/('8118958.788368', 211827.24262082076).jbl\", wd=1, mask=IN_MOVED_TO, cookie=1985424, name=\"('8118958.788368', 211827.24262082076).jbl\">\n",
      "could not find matching move_from event\n",
      "in-event <InotifyEvent: src_path=b\"/home/augusto/python/notebooks/fs_namespaces/prueba_distribuida/li_requests_cola_1/('8118959.340232', 981907.2844726092).jbl\", wd=1, mask=IN_MOVED_TO, cookie=1985428, name=\"('8118959.340232', 981907.2844726092).jbl\">\n",
      "could not find matching move_from event\n",
      "in-event <InotifyEvent: src_path=b\"/home/augusto/python/notebooks/fs_namespaces/prueba_distribuida/li_requests_cola_1/('8118960.000251', 524611.0879516692).jbl\", wd=1, mask=IN_MOVED_TO, cookie=1985432, name=\"('8118960.000251', 524611.0879516692).jbl\">\n",
      "could not find matching move_from event\n",
      "in-event <InotifyEvent: src_path=b\"/home/augusto/python/notebooks/fs_namespaces/prueba_distribuida/li_requests_cola_1/('8118960.33917', 390756.1851549015).jbl\", wd=1, mask=IN_MOVED_TO, cookie=1985436, name=\"('8118960.33917', 390756.1851549015).jbl\">\n",
      "could not find matching move_from event\n",
      "in-event <InotifyEvent: src_path=b\"/home/augusto/python/notebooks/fs_namespaces/prueba_distribuida/li_requests_py_eval/('8118960.840393', 378634.7162733653).jbl\", wd=1, mask=IN_MOVED_TO, cookie=1985440, name=\"('8118960.840393', 378634.7162733653).jbl\">\n",
      "could not find matching move_from event\n",
      "in-event <InotifyEvent: src_path=b\"/home/augusto/python/notebooks/fs_namespaces/prueba_distribuida/li_requests_py_eval/('8118961.309866', 660974.7076474013).jbl\", wd=1, mask=IN_MOVED_TO, cookie=1985444, name=\"('8118961.309866', 660974.7076474013).jbl\">\n",
      "could not find matching move_from event\n",
      "in-event <InotifyEvent: src_path=b\"/home/augusto/python/notebooks/fs_namespaces/prueba_distribuida/li_requests_cola_1/('8118961.680039', 196469.06082443948).jbl\", wd=1, mask=IN_MOVED_TO, cookie=1985448, name=\"('8118961.680039', 196469.06082443948).jbl\">\n",
      "could not find matching move_from event\n",
      "in-event <InotifyEvent: src_path=b\"/home/augusto/python/notebooks/fs_namespaces/prueba_distribuida/li_requests_cola_1/('8118962.195797', 658900.013246319).jbl\", wd=1, mask=IN_MOVED_TO, cookie=1985488, name=\"('8118962.195797', 658900.013246319).jbl\">\n",
      "could not find matching move_from event\n",
      "in-event <InotifyEvent: src_path=b\"/home/augusto/python/notebooks/fs_namespaces/prueba_distribuida/li_requests_cola_1/('8118962.504976', 912076.1149938909).jbl\", wd=1, mask=IN_MOVED_TO, cookie=1985528, name=\"('8118962.504976', 912076.1149938909).jbl\">\n",
      "could not find matching move_from event\n",
      "in-event <InotifyEvent: src_path=b\"/home/augusto/python/notebooks/fs_namespaces/prueba_distribuida/li_requests_cola_1/('8118962.944502', 303073.3809363861).jbl\", wd=1, mask=IN_MOVED_TO, cookie=1985550, name=\"('8118962.944502', 303073.3809363861).jbl\">\n",
      "could not find matching move_from event\n",
      "in-event <InotifyEvent: src_path=b\"/home/augusto/python/notebooks/fs_namespaces/prueba_distribuida/li_requests_cola_1/('8118963.444095', 548553.3801103809).jbl\", wd=1, mask=IN_MOVED_TO, cookie=1985572, name=\"('8118963.444095', 548553.3801103809).jbl\">\n",
      "could not find matching move_from event\n",
      "in-event <InotifyEvent: src_path=b\"/home/augusto/python/notebooks/fs_namespaces/prueba_distribuida/li_requests_cola_1/('8118964.204251', 323390.79262173007).jbl\", wd=1, mask=IN_MOVED_TO, cookie=1985594, name=\"('8118964.204251', 323390.79262173007).jbl\">\n",
      "could not find matching move_from event\n",
      "in-event <InotifyEvent: src_path=b\"/home/augusto/python/notebooks/fs_namespaces/prueba_distribuida/li_requests_cola_1/('8118964.51821', 697415.6117341599).jbl\", wd=1, mask=IN_MOVED_TO, cookie=1985598, name=\"('8118964.51821', 697415.6117341599).jbl\">\n",
      "could not find matching move_from event\n",
      "in-event <InotifyEvent: src_path=b\"/home/augusto/python/notebooks/fs_namespaces/prueba_distribuida/li_requests_cola_1/('8118964.989281', 579830.0002876567).jbl\", wd=1, mask=IN_MOVED_TO, cookie=1985602, name=\"('8118964.989281', 579830.0002876567).jbl\">\n",
      "could not find matching move_from event\n"
     ]
    },
    {
     "ename": "KeyboardInterrupt",
     "evalue": "",
     "output_type": "error",
     "traceback": [
      "\u001b[31m---------------------------------------------------------------------------\u001b[39m",
      "\u001b[31mKeyboardInterrupt\u001b[39m                         Traceback (most recent call last)",
      "\u001b[36mCell\u001b[39m\u001b[36m \u001b[39m\u001b[32mIn[10]\u001b[39m\u001b[32m, line 1\u001b[39m\n\u001b[32m----> \u001b[39m\u001b[32m1\u001b[39m \u001b[43mserver\u001b[49m\u001b[43m.\u001b[49m\u001b[43mrun\u001b[49m\u001b[43m(\u001b[49m\u001b[43m)\u001b[49m\n",
      "\u001b[36mFile \u001b[39m\u001b[32m~/python/distributed_processing/python/distributed_processing/worker.py:205\u001b[39m, in \u001b[36mWorker.run\u001b[39m\u001b[34m(self, timeout)\u001b[39m\n\u001b[32m    202\u001b[39m     time_left = timeout\n\u001b[32m    204\u001b[39m \u001b[38;5;28;01mwhile\u001b[39;00m forever \u001b[38;5;129;01mor\u001b[39;00m time_left > \u001b[32m0\u001b[39m:\n\u001b[32m--> \u001b[39m\u001b[32m205\u001b[39m     \u001b[38;5;28;43mself\u001b[39;49m\u001b[43m.\u001b[49m\u001b[43mrun_once\u001b[49m\u001b[43m(\u001b[49m\u001b[43mtimeout\u001b[49m\u001b[43m=\u001b[49m\u001b[43mtimeout\u001b[49m\u001b[43m)\u001b[49m\n\u001b[32m    206\u001b[39m     \u001b[38;5;28;01mif\u001b[39;00m \u001b[38;5;129;01mnot\u001b[39;00m forever:\n\u001b[32m    207\u001b[39m         time_left = timeout - (time.time() - t_0)\n",
      "\u001b[36mFile \u001b[39m\u001b[32m~/python/distributed_processing/python/distributed_processing/worker.py:170\u001b[39m, in \u001b[36mWorker.run_once\u001b[39m\u001b[34m(self, timeout)\u001b[39m\n\u001b[32m    167\u001b[39m     \u001b[38;5;28;01mraise\u001b[39;00m \u001b[38;5;167;01mValueError\u001b[39;00m(\u001b[33m\"\u001b[39m\u001b[33mNo queues to listen.\u001b[39m\u001b[33m\"\u001b[39m)\n\u001b[32m    169\u001b[39m \u001b[38;5;66;03m# pop_multiple devuelve el nombre de la cola y el resultado o None si timeout\u001b[39;00m\n\u001b[32m--> \u001b[39m\u001b[32m170\u001b[39m request_with_priority = \u001b[38;5;28;43mself\u001b[39;49m\u001b[43m.\u001b[49m\u001b[43mconnector\u001b[49m\u001b[43m.\u001b[49m\u001b[43mpop_multiple\u001b[49m\u001b[43m(\u001b[49m\u001b[43msorted_queues\u001b[49m\u001b[43m,\u001b[49m\u001b[43m \u001b[49m\u001b[43mtimeout\u001b[49m\u001b[43m=\u001b[49m\u001b[43mtimeout\u001b[49m\u001b[43m)\u001b[49m\n\u001b[32m    172\u001b[39m \u001b[38;5;28;01mif\u001b[39;00m request_with_priority \u001b[38;5;129;01mis\u001b[39;00m \u001b[38;5;129;01mnot\u001b[39;00m \u001b[38;5;28;01mNone\u001b[39;00m:\n\u001b[32m    173\u001b[39m     request_queue, serialized_request = request_with_priority\n",
      "\u001b[36mFile \u001b[39m\u001b[32m~/python/distributed_processing/python/distributed_processing/filesystem_connector.py:217\u001b[39m, in \u001b[36mFileSystemConnector.pop_multiple\u001b[39m\u001b[34m(self, queue_names, timeout)\u001b[39m\n\u001b[32m    214\u001b[39m         \u001b[38;5;28;01mcontinue\u001b[39;00m\n\u001b[32m    216\u001b[39m \u001b[38;5;28;01mif\u001b[39;00m \u001b[38;5;28mself\u001b[39m.with_watchdog:\n\u001b[32m--> \u001b[39m\u001b[32m217\u001b[39m     _ = \u001b[43mfsutils\u001b[49m\u001b[43m.\u001b[49m\u001b[43mwatchdog\u001b[49m\u001b[43m.\u001b[49m\u001b[43mwait_until_file_event\u001b[49m\u001b[43m(\u001b[49m\n\u001b[32m    218\u001b[39m \u001b[43m        \u001b[49m\u001b[43mwatch_paths\u001b[49m\u001b[43m,\u001b[49m\u001b[43m \u001b[49m\u001b[43m[\u001b[49m\u001b[43m]\u001b[49m\u001b[43m,\u001b[49m\u001b[43m \u001b[49m\u001b[43m[\u001b[49m\u001b[33;43m\"\u001b[39;49m\u001b[33;43mcreated\u001b[39;49m\u001b[33;43m\"\u001b[39;49m\u001b[43m]\u001b[49m\u001b[43m,\u001b[49m\u001b[43m \u001b[49m\u001b[43mtimeout\u001b[49m\u001b[43m=\u001b[49m\u001b[38;5;28;43mself\u001b[39;49m\u001b[43m.\u001b[49m\u001b[43mpop_timeout\u001b[49m\n\u001b[32m    219\u001b[39m \u001b[43m    \u001b[49m\u001b[43m)\u001b[49m\n\u001b[32m    220\u001b[39m     sleep(*\u001b[38;5;28mself\u001b[39m.pop_sleep_watchdog)\n\u001b[32m    221\u001b[39m \u001b[38;5;28;01melse\u001b[39;00m:\n",
      "\u001b[36mFile \u001b[39m\u001b[32m~/python/distributed_processing/python/fsutils/watchdog.py:99\u001b[39m, in \u001b[36mwait_until_file_event\u001b[39m\u001b[34m(dir_list, filenames, events, strict, timeout)\u001b[39m\n\u001b[32m     97\u001b[39m \u001b[38;5;28;01mif\u001b[39;00m events \u001b[38;5;129;01mis\u001b[39;00m \u001b[38;5;28;01mNone\u001b[39;00m \u001b[38;5;129;01mor\u001b[39;00m \u001b[38;5;28mlen\u001b[39m(events) == \u001b[32m0\u001b[39m:\n\u001b[32m     98\u001b[39m     events = event_types[:]\n\u001b[32m---> \u001b[39m\u001b[32m99\u001b[39m \u001b[38;5;28;01mreturn\u001b[39;00m \u001b[43mwait_until\u001b[49m\u001b[43m(\u001b[49m\u001b[43mdir_list\u001b[49m\u001b[43m,\u001b[49m\u001b[43m \u001b[49m\u001b[43mf\u001b[49m\u001b[43m,\u001b[49m\u001b[43m \u001b[49m\u001b[43mtimeout\u001b[49m\u001b[43m=\u001b[49m\u001b[43mtimeout\u001b[49m\u001b[43m)\u001b[49m\n",
      "\u001b[36mFile \u001b[39m\u001b[32m~/python/distributed_processing/python/fsutils/watchdog.py:57\u001b[39m, in \u001b[36mwait_until\u001b[39m\u001b[34m(dir_list, f, timeout)\u001b[39m\n\u001b[32m     54\u001b[39m observer.start()  \u001b[38;5;66;03m# Start the observer thread\u001b[39;00m\n\u001b[32m     56\u001b[39m \u001b[38;5;66;03m# Wait for the event to be triggered or timeout\u001b[39;00m\n\u001b[32m---> \u001b[39m\u001b[32m57\u001b[39m \u001b[43mevent_handler\u001b[49m\u001b[43m.\u001b[49m\u001b[43mevent\u001b[49m\u001b[43m.\u001b[49m\u001b[43mwait\u001b[49m\u001b[43m(\u001b[49m\u001b[43mtimeout\u001b[49m\u001b[43m=\u001b[49m\u001b[43mtimeout\u001b[49m\u001b[43m)\u001b[49m\n\u001b[32m     59\u001b[39m \u001b[38;5;66;03m# Cleanup: stop and join the observer thread\u001b[39;00m\n\u001b[32m     60\u001b[39m observer.stop()\n",
      "\u001b[36mFile \u001b[39m\u001b[32m/usr/lib/python3.13/threading.py:659\u001b[39m, in \u001b[36mEvent.wait\u001b[39m\u001b[34m(self, timeout)\u001b[39m\n\u001b[32m    657\u001b[39m signaled = \u001b[38;5;28mself\u001b[39m._flag\n\u001b[32m    658\u001b[39m \u001b[38;5;28;01mif\u001b[39;00m \u001b[38;5;129;01mnot\u001b[39;00m signaled:\n\u001b[32m--> \u001b[39m\u001b[32m659\u001b[39m     signaled = \u001b[38;5;28;43mself\u001b[39;49m\u001b[43m.\u001b[49m\u001b[43m_cond\u001b[49m\u001b[43m.\u001b[49m\u001b[43mwait\u001b[49m\u001b[43m(\u001b[49m\u001b[43mtimeout\u001b[49m\u001b[43m)\u001b[49m\n\u001b[32m    660\u001b[39m \u001b[38;5;28;01mreturn\u001b[39;00m signaled\n",
      "\u001b[36mFile \u001b[39m\u001b[32m/usr/lib/python3.13/threading.py:363\u001b[39m, in \u001b[36mCondition.wait\u001b[39m\u001b[34m(self, timeout)\u001b[39m\n\u001b[32m    361\u001b[39m \u001b[38;5;28;01melse\u001b[39;00m:\n\u001b[32m    362\u001b[39m     \u001b[38;5;28;01mif\u001b[39;00m timeout > \u001b[32m0\u001b[39m:\n\u001b[32m--> \u001b[39m\u001b[32m363\u001b[39m         gotit = \u001b[43mwaiter\u001b[49m\u001b[43m.\u001b[49m\u001b[43macquire\u001b[49m\u001b[43m(\u001b[49m\u001b[38;5;28;43;01mTrue\u001b[39;49;00m\u001b[43m,\u001b[49m\u001b[43m \u001b[49m\u001b[43mtimeout\u001b[49m\u001b[43m)\u001b[49m\n\u001b[32m    364\u001b[39m     \u001b[38;5;28;01melse\u001b[39;00m:\n\u001b[32m    365\u001b[39m         gotit = waiter.acquire(\u001b[38;5;28;01mFalse\u001b[39;00m)\n",
      "\u001b[31mKeyboardInterrupt\u001b[39m: "
     ]
    }
   ],
   "source": [
    "server.run()"
   ]
  }
 ],
 "metadata": {
  "kernelspec": {
   "display_name": "Python 3 (ipykernel)",
   "language": "python",
   "name": "python3"
  }
 },
 "nbformat": 4,
 "nbformat_minor": 4
}
