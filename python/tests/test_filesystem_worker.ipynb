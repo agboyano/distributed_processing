{
 "cells": [
  {
   "cell_type": "code",
   "execution_count": 1,
   "metadata": {},
   "outputs": [],
   "source": [
    "import sys"
   ]
  },
  {
   "cell_type": "code",
   "execution_count": 2,
   "metadata": {},
   "outputs": [],
   "source": [
    "from distributed_processing.serializers import DummySerializer\n",
    "from distributed_processing.worker import Worker\n",
    "from distributed_processing.filesystem_connector import FileSystemConnector"
   ]
  },
  {
   "cell_type": "code",
   "execution_count": 3,
   "metadata": {},
   "outputs": [],
   "source": [
    "DIRECTORY = 'G:/home/prueba_distribuida_fs'\n",
    "NAMESPACE = \"tasks\""
   ]
  },
  {
   "cell_type": "code",
   "execution_count": null,
   "metadata": {
    "tags": []
   },
   "outputs": [
    {
     "name": "stderr",
     "output_type": "stream",
     "text": [
      "Worker id: redis_server_1\n"
     ]
    }
   ],
   "source": [
    "fs_connector = FileSystemConnector(directory=DIRECTORY, namespace=NAMESPACE)\n",
    "\n",
    "# Podemos limpiar el namespace por si quedan restos de ejecuciones anteriores.\n",
    "fs_connector.clean_namespace()\n",
    "\n",
    "server = Worker(DummySerializer(), fs_connector)"
   ]
  },
  {
   "cell_type": "code",
   "execution_count": 5,
   "metadata": {
    "tags": []
   },
   "outputs": [],
   "source": [
    "def add(x, y):\n",
    "    return x + y\n",
    "\n",
    "def mul(x, y):\n",
    "    return x * y\n",
    "\n",
    "def div(x, y):\n",
    "    return x / y\n",
    "\n",
    "func_dict1 = {\"add\" : add,\n",
    "              \"mul\" : mul,\n",
    "              \"div\" : div}\n",
    "\n",
    "server.add_requests_queue(\"cola_1\", func_dict1)\n"
   ]
  },
  {
   "cell_type": "code",
   "execution_count": 6,
   "metadata": {},
   "outputs": [],
   "source": [
    "def hola(nombre, calificativo=\"listo\"):\n",
    "    return f\"Hola {nombre}, eres muy {calificativo}\"\n",
    "\n",
    "func_dict2 = {\"hola\": hola}\n",
    "\n",
    "# Los métodos disponibles en cola_2 no los vamos a hacer públicos\n",
    "server.add_requests_queue(\"cola_2\", func_dict2, register=False)"
   ]
  },
  {
   "cell_type": "code",
   "execution_count": 7,
   "metadata": {},
   "outputs": [
    {
     "data": {
      "text/plain": [
       "''"
      ]
     },
     "execution_count": 7,
     "metadata": {},
     "output_type": "execute_result"
    }
   ],
   "source": [
    "server.add_python_eval()\n",
    "\n",
    "\"\"\"\n",
    "# Equivalente a:\n",
    "import dill\n",
    "import base64\n",
    "\n",
    "def eval_py_function(str_fn, args=[], kwargs={}):\n",
    "    \"str_fn encoded en base64 ascii\"\n",
    "    return dill.loads(base64.b64decode(str_fn))(*args, **kwargs)\n",
    "\n",
    "server.add_requests_queue(\"py_eval\", {\"eval_py_function\": eval_py_function})\n",
    "\"\"\"\n",
    "\n",
    "_"
   ]
  },
  {
   "cell_type": "code",
   "execution_count": 8,
   "metadata": {
    "tags": []
   },
   "outputs": [
    {
     "name": "stderr",
     "output_type": "stream",
     "text": [
      "Method add published as available for queues: requests_cola_1\n",
      "Method mul published as available for queues: requests_cola_1\n",
      "Method div published as available for queues: requests_cola_1\n",
      "Method eval_py_function published as available for queues: requests_py_eval\n"
     ]
    }
   ],
   "source": [
    "# Publicamos todos los métodos de las colas \n",
    "server.update_methods_registry()"
   ]
  },
  {
   "cell_type": "code",
   "execution_count": null,
   "metadata": {},
   "outputs": [],
   "source": [
    "server.run()"
   ]
  }
 ],
 "metadata": {
  "kernelspec": {
   "display_name": "Python 3 (ipykernel)",
   "language": "python",
   "name": "python3"
  },
  "language_info": {
   "codemirror_mode": {
    "name": "ipython",
    "version": 3
   },
   "file_extension": ".py",
   "mimetype": "text/x-python",
   "name": "python",
   "nbconvert_exporter": "python",
   "pygments_lexer": "ipython3",
   "version": "3.12.9"
  }
 },
 "nbformat": 4,
 "nbformat_minor": 4
}
