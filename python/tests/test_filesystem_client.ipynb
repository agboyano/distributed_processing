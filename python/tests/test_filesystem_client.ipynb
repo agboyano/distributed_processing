{
 "cells": [
  {
   "cell_type": "code",
   "execution_count": 1,
   "metadata": {},
   "outputs": [],
   "source": [
    "import random\n",
    "\n",
    "from distributed_processing.serializers import DummySerializer\n",
    "from distributed_processing.client import Client\n",
    "from distributed_processing.filesystem_connector import FileSystemConnector\n"
   ]
  },
  {
   "cell_type": "code",
   "execution_count": 2,
   "metadata": {},
   "outputs": [],
   "source": [
    "CURRO = True\n",
    "\n",
    "if CURRO:\n",
    "    NS_PATH =\"G:\\\\fs_namespaces\\\\prueba_distribuida\"\n",
    "    NS_PATH =\"C:\\\\fs_namespaces\\\\prueba_distribuida\"\n",
    "\n",
    "else:\n",
    "    NS_PATH = \"/home/augusto/python/notebooks/fs_namespaces/prueba_distribuida\"\n"
   ]
  },
  {
   "cell_type": "code",
   "execution_count": 3,
   "metadata": {},
   "outputs": [],
   "source": [
    "import logging\n",
    "logging.getLogger(\"distributed_processing\").setLevel(logging.DEBUG)\n",
    "#logging.getLogger(\"distributed_processing.filesystem_connector\").setLevel(logging.DEBUG)"
   ]
  },
  {
   "cell_type": "code",
   "execution_count": 4,
   "metadata": {
    "tags": []
   },
   "outputs": [
    {
     "name": "stderr",
     "output_type": "stream",
     "text": [
      "registry_lock set\n",
      "registry_lock unset\n",
      "nclients_lock set\n"
     ]
    },
    {
     "name": "stderr",
     "output_type": "stream",
     "text": [
      "nclients_lock unset\n",
      "Client with id: fs_client_4\n",
      "Results queue: fs_client_4_responses\n"
     ]
    }
   ],
   "source": [
    "fs_connector = FileSystemConnector(NS_PATH)\n",
    "fs_connector.with_watchdog=True\n",
    "fs_connector.pop_watchdog_timeout = 10\n",
    "\n",
    "client = Client(DummySerializer(), fs_connector, check_registry=\"cache\")"
   ]
  },
  {
   "cell_type": "code",
   "execution_count": 5,
   "metadata": {},
   "outputs": [
    {
     "name": "stderr",
     "output_type": "stream",
     "text": [
      "registry_lock set\n",
      "registry_lock unset\n"
     ]
    },
    {
     "data": {
      "text/plain": [
       "{'add': ['requests_cola_1'],\n",
       " 'dic': ['requests_cola_1'],\n",
       " 'div': ['requests_cola_1'],\n",
       " 'eval_py_function': ['requests_py_eval'],\n",
       " 'lista': ['requests_cola_1'],\n",
       " 'mul': ['requests_cola_1'],\n",
       " 'sleep': ['requests_cola_1'],\n",
       " 'tupla': ['requests_cola_1']}"
      ]
     },
     "execution_count": 5,
     "metadata": {},
     "output_type": "execute_result"
    }
   ],
   "source": [
    "fs_connector.methods_registry()"
   ]
  },
  {
   "cell_type": "code",
   "execution_count": 6,
   "metadata": {},
   "outputs": [
    {
     "name": "stderr",
     "output_type": "stream",
     "text": [
      "Sent request with id: fs_client_4:1 to queue requests_cola_1\n"
     ]
    }
   ],
   "source": [
    "y = client.rpc_async(\"add\", [1, 0])"
   ]
  },
  {
   "cell_type": "code",
   "execution_count": 7,
   "metadata": {},
   "outputs": [
    {
     "data": {
      "text/plain": [
       "1"
      ]
     },
     "execution_count": 7,
     "metadata": {},
     "output_type": "execute_result"
    }
   ],
   "source": [
    "y.get()"
   ]
  },
  {
   "cell_type": "code",
   "execution_count": 8,
   "metadata": {},
   "outputs": [
    {
     "name": "stdout",
     "output_type": "stream",
     "text": [
      "'method_queues_fake'\n"
     ]
    }
   ],
   "source": [
    "client.check_registry =\"always\"\n",
    "\n",
    "try:\n",
    "    y = client.rpc_async(\"fake\", [1, 0])\n",
    "except Exception as e:\n",
    "    print(e)"
   ]
  },
  {
   "cell_type": "code",
   "execution_count": 9,
   "metadata": {},
   "outputs": [
    {
     "name": "stderr",
     "output_type": "stream",
     "text": [
      "Sent request with id: fs_client_4:2 to queue requests_cola_1\n"
     ]
    },
    {
     "name": "stdout",
     "output_type": "stream",
     "text": [
      "Error -32601 : The method does not exist/is not available.\n",
      "\n",
      " \n"
     ]
    }
   ],
   "source": [
    "client.check_registry =\"never\" # use queue client.default_queue, by default \"default\"\n",
    "client.set_default_queue(\"cola_1\")\n",
    "\n",
    "y = client.rpc_async(\"fake\", [1, 0])\n",
    "\n",
    "try:\n",
    "    y.get()\n",
    "except Exception as e:\n",
    "    print(e)\n"
   ]
  },
  {
   "cell_type": "code",
   "execution_count": 10,
   "metadata": {},
   "outputs": [
    {
     "name": "stderr",
     "output_type": "stream",
     "text": [
      "Sent request with id: fs_client_4:3 to queue requests_cola_1\n"
     ]
    },
    {
     "data": {
      "text/plain": [
       "'Esto es un error'"
      ]
     },
     "execution_count": 10,
     "metadata": {},
     "output_type": "execute_result"
    }
   ],
   "source": [
    "client.check_registry =\"never\"\n",
    "client.set_default_queue(\"cola_1\")\n",
    "\n",
    "y = client.rpc_async(\"fake\", [1, 0])\n",
    "\n",
    "y.safe_get(default=\"Esto es un error\")"
   ]
  },
  {
   "cell_type": "code",
   "execution_count": 11,
   "metadata": {},
   "outputs": [],
   "source": [
    "client.check_registry =\"cache\""
   ]
  },
  {
   "cell_type": "code",
   "execution_count": 12,
   "metadata": {},
   "outputs": [
    {
     "name": "stderr",
     "output_type": "stream",
     "text": [
      "Sent request with id: fs_client_4:4 to queue requests_cola_1\n"
     ]
    }
   ],
   "source": [
    "x = client.rpc_async(\"div\", [1, 0])"
   ]
  },
  {
   "cell_type": "code",
   "execution_count": 13,
   "metadata": {},
   "outputs": [
    {
     "name": "stdout",
     "output_type": "stream",
     "text": [
      "Error -32603 : Internal RPC error.\n",
      "\n",
      " Traceback (most recent call last):\n",
      "  File \"G:\\python\\distributed_processing\\python\\distributed_processing\\worker.py\", line 167, in _process_single_request\n",
      "    result = func[request[\"method\"]](*args, **kwargs)\n",
      "             ^^^^^^^^^^^^^^^^^^^^^^^^^^^^^^^^^^^^^^^^\n",
      "  File \"C:\\Users\\agarcia\\AppData\\Local\\Temp\\ipykernel_24900\\1531640066.py\", line 8, in div\n",
      "    return x / y\n",
      "           ~~^~~\n",
      "ZeroDivisionError: division by zero\n",
      "\n"
     ]
    }
   ],
   "source": [
    "try:\n",
    "    x.get()\n",
    "except Exception as e:\n",
    "    print(e)"
   ]
  },
  {
   "cell_type": "code",
   "execution_count": 14,
   "metadata": {},
   "outputs": [
    {
     "name": "stderr",
     "output_type": "stream",
     "text": [
      "Sent request with id: fs_client_4:5 to queue requests_cola_1\n"
     ]
    },
    {
     "data": {
      "text/plain": [
       "2"
      ]
     },
     "execution_count": 14,
     "metadata": {},
     "output_type": "execute_result"
    }
   ],
   "source": [
    "client.rpc_sync(\"add\", [1, 1])"
   ]
  },
  {
   "cell_type": "code",
   "execution_count": 15,
   "metadata": {},
   "outputs": [
    {
     "name": "stderr",
     "output_type": "stream",
     "text": [
      "Sent request with id: fs_client_4:6 to queue requests_py_eval\n"
     ]
    }
   ],
   "source": [
    "def f(x,y): return x + y\n",
    "\n",
    "y = client.rpc_async_fn(f, [1, 2.0])"
   ]
  },
  {
   "cell_type": "code",
   "execution_count": 16,
   "metadata": {},
   "outputs": [
    {
     "data": {
      "text/plain": [
       "3.0"
      ]
     },
     "execution_count": 16,
     "metadata": {},
     "output_type": "execute_result"
    }
   ],
   "source": [
    "y.get()"
   ]
  },
  {
   "cell_type": "code",
   "execution_count": 17,
   "metadata": {},
   "outputs": [
    {
     "name": "stderr",
     "output_type": "stream",
     "text": [
      "Sent request with id: fs_client_4:7 to queue requests_py_eval\n"
     ]
    },
    {
     "data": {
      "text/plain": [
       "5.0"
      ]
     },
     "execution_count": 17,
     "metadata": {},
     "output_type": "execute_result"
    }
   ],
   "source": [
    "client.rpc_sync_fn(f, [3.0, 2.0])"
   ]
  },
  {
   "cell_type": "code",
   "execution_count": 18,
   "metadata": {
    "tags": []
   },
   "outputs": [
    {
     "name": "stderr",
     "output_type": "stream",
     "text": [
      "Sent request with id: fs_client_4:8 to queue requests_cola_1\n",
      "Sent request with id: fs_client_4:9 to queue requests_cola_1\n",
      "Sent request with id: fs_client_4:10 to queue requests_cola_1\n",
      "Sent request with id: fs_client_4:11 to queue requests_cola_1\n",
      "Sent request with id: fs_client_4:12 to queue requests_cola_1\n",
      "Sent request with id: fs_client_4:13 to queue requests_cola_1\n",
      "Sent request with id: fs_client_4:14 to queue requests_cola_1\n",
      "Sent request with id: fs_client_4:15 to queue requests_cola_1\n",
      "Sent request with id: fs_client_4:16 to queue requests_cola_1\n"
     ]
    },
    {
     "name": "stdout",
     "output_type": "stream",
     "text": [
      "('add', [0.402695368850597, 0.8895395419335642], {})\n",
      "('lista', [0.4072618751051509, 0.07709283265778166], {})\n",
      "('dic', [0.8557629447951, 0.2635348478597973], {})\n",
      "('mul', [0.7003913403445665, 0.3774671962726365], {})\n",
      "('lista', [0.8173668596607947, 0.4091287348837197], {})\n",
      "('div', [0.8599152331652826, 0.914408463861556], {})\n",
      "('tupla', [0.6934656745983323, 0.580003823182854], {})\n",
      "('mul', [0.09972881343035134, 0.01953440385013827], {})\n",
      "('lista', [0.2806713992453813, 0.5560523891767433], {})\n"
     ]
    },
    {
     "name": "stderr",
     "output_type": "stream",
     "text": [
      "Sent request with id: fs_client_4:17 to queue requests_cola_1\n",
      "Sent request with id: fs_client_4:18 to queue requests_cola_1\n"
     ]
    },
    {
     "name": "stdout",
     "output_type": "stream",
     "text": [
      "('mul', [0.9393637101022132, 0.8644570202479022], {})\n"
     ]
    }
   ],
   "source": [
    "fs =[]\n",
    "tp = []\n",
    "N = 10\n",
    "for i in range(N):\n",
    "    fn = random.choice((\"add\", \"mul\", \"div\", \"lista\", \"tupla\", \"dic\"))\n",
    "    t = (fn, [random.random(),random.random()], {})\n",
    "    print(t)\n",
    "    tp.append(t)\n",
    "    fs.append(client.rpc_async(t[0], t[1]))\n",
    "\n",
    "t = (\"sleep\", [10], {})\n",
    "tp.append(t)\n",
    "fs.append(client.rpc_async(t[0], t[1]))\n",
    "\n"
   ]
  },
  {
   "cell_type": "code",
   "execution_count": 19,
   "metadata": {},
   "outputs": [
    {
     "data": {
      "text/plain": [
       "[1.292234910784161,\n",
       " [0.4072618751051509, 0.07709283265778166],\n",
       " {'a': 0.8557629447951, 'b': [0.8557629447951, 0.2635348478597973]},\n",
       " 0.26437475553349743,\n",
       " [0.8173668596607947, 0.4091287348837197],\n",
       " 0.9404060298543738,\n",
       " (0.6934656745983323, 0.580003823182854),\n",
       " 0.0019481429170435764,\n",
       " [0.2806713992453813, 0.5560523891767433],\n",
       " 0.8120395537639734,\n",
       " None]"
      ]
     },
     "execution_count": 19,
     "metadata": {},
     "output_type": "execute_result"
    }
   ],
   "source": [
    "resultados = [f.get() for f in fs]\n",
    "resultados"
   ]
  },
  {
   "cell_type": "code",
   "execution_count": 20,
   "metadata": {},
   "outputs": [
    {
     "name": "stderr",
     "output_type": "stream",
     "text": [
      "Sent request with id: fs_client_4:19 to queue requests_cola_1\n",
      "Sent request with id: fs_client_4:20 to queue requests_cola_1\n",
      "Sent request with id: fs_client_4:21 to queue requests_cola_1\n",
      "Sent request with id: fs_client_4:22 to queue requests_cola_1\n",
      "Sent request with id: fs_client_4:23 to queue requests_cola_1\n",
      "Sent request with id: fs_client_4:24 to queue requests_cola_1\n",
      "Sent request with id: fs_client_4:25 to queue requests_cola_1\n",
      "Sent request with id: fs_client_4:26 to queue requests_cola_1\n",
      "Sent request with id: fs_client_4:27 to queue requests_cola_1\n",
      "Sent request with id: fs_client_4:28 to queue requests_cola_1\n",
      "Sent request with id: fs_client_4:29 to queue requests_cola_1\n"
     ]
    }
   ],
   "source": [
    "fs = client.rpc_multi_async(tp)"
   ]
  },
  {
   "cell_type": "code",
   "execution_count": 21,
   "metadata": {},
   "outputs": [
    {
     "data": {
      "text/plain": [
       "['OK',\n",
       " 'OK',\n",
       " 'OK',\n",
       " 'OK',\n",
       " 'OK',\n",
       " 'PENDING',\n",
       " 'PENDING',\n",
       " 'PENDING',\n",
       " 'PENDING',\n",
       " 'PENDING',\n",
       " 'PENDING']"
      ]
     },
     "execution_count": 21,
     "metadata": {},
     "output_type": "execute_result"
    }
   ],
   "source": [
    "# AsynResult.status updates the information every time it is called.\n",
    "# 'PENDING' state should be assumed as transitory. \n",
    "# If there are responses available in the queue or in the cache \n",
    "# status or pending() updates the AsyncResult object.\n",
    "\n",
    "[f.status for f in fs]"
   ]
  },
  {
   "cell_type": "code",
   "execution_count": 22,
   "metadata": {},
   "outputs": [
    {
     "data": {
      "text/plain": [
       "['fs_client_4:29']"
      ]
     },
     "execution_count": 22,
     "metadata": {},
     "output_type": "execute_result"
    }
   ],
   "source": [
    "client.wait_responses(timeout=2)"
   ]
  },
  {
   "cell_type": "code",
   "execution_count": 23,
   "metadata": {},
   "outputs": [
    {
     "data": {
      "text/plain": [
       "['OK', 'OK', 'OK', 'OK', 'OK', 'OK', 'OK', 'OK', 'OK', 'OK', 'PENDING']"
      ]
     },
     "execution_count": 23,
     "metadata": {},
     "output_type": "execute_result"
    }
   ],
   "source": [
    "[f.status for f in fs]"
   ]
  },
  {
   "cell_type": "code",
   "execution_count": 24,
   "metadata": {},
   "outputs": [
    {
     "data": {
      "text/plain": [
       "[]"
      ]
     },
     "execution_count": 24,
     "metadata": {},
     "output_type": "execute_result"
    }
   ],
   "source": [
    "client.wait_responses()"
   ]
  },
  {
   "cell_type": "code",
   "execution_count": 25,
   "metadata": {},
   "outputs": [
    {
     "data": {
      "text/plain": [
       "['OK', 'OK', 'OK', 'OK', 'OK', 'OK', 'OK', 'OK', 'OK', 'OK', 'OK']"
      ]
     },
     "execution_count": 25,
     "metadata": {},
     "output_type": "execute_result"
    }
   ],
   "source": [
    "# AsynResult.status updates information\n",
    "\n",
    "[f.status for f in fs]"
   ]
  },
  {
   "cell_type": "code",
   "execution_count": 26,
   "metadata": {},
   "outputs": [
    {
     "name": "stdout",
     "output_type": "stream",
     "text": [
      "wait_responses: ['kk', 'qq'] neither in responses nor in pending.\n"
     ]
    }
   ],
   "source": [
    "try:\n",
    "    client.wait_responses([\"kk\", \"qq\"])\n",
    "except ValueError as e:\n",
    "    print(e)"
   ]
  },
  {
   "cell_type": "code",
   "execution_count": 27,
   "metadata": {},
   "outputs": [],
   "source": [
    "client._update_cache_with_all_available_responses()"
   ]
  },
  {
   "cell_type": "code",
   "execution_count": 28,
   "metadata": {},
   "outputs": [
    {
     "data": {
      "text/plain": [
       "{}"
      ]
     },
     "execution_count": 28,
     "metadata": {},
     "output_type": "execute_result"
    }
   ],
   "source": [
    "client.pending"
   ]
  },
  {
   "cell_type": "code",
   "execution_count": 29,
   "metadata": {},
   "outputs": [
    {
     "data": {
      "text/plain": [
       "[1.292234910784161,\n",
       " [0.4072618751051509, 0.07709283265778166],\n",
       " {'a': 0.8557629447951, 'b': [0.8557629447951, 0.2635348478597973]},\n",
       " 0.26437475553349743,\n",
       " [0.8173668596607947, 0.4091287348837197],\n",
       " 0.9404060298543738,\n",
       " (0.6934656745983323, 0.580003823182854),\n",
       " 0.0019481429170435764,\n",
       " [0.2806713992453813, 0.5560523891767433],\n",
       " 0.8120395537639734,\n",
       " None]"
      ]
     },
     "execution_count": 29,
     "metadata": {},
     "output_type": "execute_result"
    }
   ],
   "source": [
    "[f.get() for f in fs]"
   ]
  },
  {
   "cell_type": "code",
   "execution_count": 30,
   "metadata": {},
   "outputs": [
    {
     "name": "stderr",
     "output_type": "stream",
     "text": [
      "Sent batch request with 11 requests to requests_cola_1\n"
     ]
    }
   ],
   "source": [
    "fs = client.rpc_batch_async(tp)"
   ]
  },
  {
   "cell_type": "code",
   "execution_count": 31,
   "metadata": {},
   "outputs": [
    {
     "data": {
      "text/plain": [
       "[1.292234910784161,\n",
       " [0.4072618751051509, 0.07709283265778166],\n",
       " {'a': 0.8557629447951, 'b': [0.8557629447951, 0.2635348478597973]},\n",
       " 0.26437475553349743,\n",
       " [0.8173668596607947, 0.4091287348837197],\n",
       " 0.9404060298543738,\n",
       " (0.6934656745983323, 0.580003823182854),\n",
       " 0.0019481429170435764,\n",
       " [0.2806713992453813, 0.5560523891767433],\n",
       " 0.8120395537639734,\n",
       " None]"
      ]
     },
     "execution_count": 31,
     "metadata": {},
     "output_type": "execute_result"
    }
   ],
   "source": [
    "[f.get() for f in fs]"
   ]
  },
  {
   "cell_type": "code",
   "execution_count": 32,
   "metadata": {},
   "outputs": [
    {
     "name": "stderr",
     "output_type": "stream",
     "text": [
      "Sent batch request with 11 requests to requests_cola_1\n"
     ]
    },
    {
     "data": {
      "text/plain": [
       "[1.292234910784161,\n",
       " [0.4072618751051509, 0.07709283265778166],\n",
       " {'a': 0.8557629447951, 'b': [0.8557629447951, 0.2635348478597973]},\n",
       " 0.26437475553349743,\n",
       " [0.8173668596607947, 0.4091287348837197],\n",
       " 0.9404060298543738,\n",
       " (0.6934656745983323, 0.580003823182854),\n",
       " 0.0019481429170435764,\n",
       " [0.2806713992453813, 0.5560523891767433],\n",
       " 0.8120395537639734,\n",
       " None]"
      ]
     },
     "execution_count": 32,
     "metadata": {},
     "output_type": "execute_result"
    }
   ],
   "source": [
    "client.rpc_batch_sync(tp)"
   ]
  },
  {
   "cell_type": "code",
   "execution_count": 33,
   "metadata": {
    "tags": []
   },
   "outputs": [
    {
     "name": "stdout",
     "output_type": "stream",
     "text": [
      "('div', [0.2765083701932076, 0.2234683268424108], {})\n",
      "('fake', [0.6301426853186024, 0.07146361929200529], {})\n",
      "('fake', [0.2983557267097098, 0.9781838020861968], {})\n",
      "('mul', [0.8490133031972757, 0.6536903788150596], {})\n",
      "('mul', [0.0414764260475613, 0.822420030058196], {})\n",
      "('add', [0.7119585548402398, 0.4903122448090771], {})\n",
      "('add', [0.7486530169444501, 0.038544538995743616], {})\n",
      "('mul', [0.7591366434769814, 0.435644970483661], {})\n",
      "('div', [0.9240772779989194, 0.32377060073346275], {})\n",
      "('div', [0.2879693268587079, 0.8596443292951291], {})\n"
     ]
    }
   ],
   "source": [
    "fs =[]\n",
    "tp = []\n",
    "N = 10\n",
    "for i in range(N):\n",
    "    fn = random.choice((\"add\", \"mul\", \"div\", \"fake\"))\n",
    "    t = (fn, [random.random(),random.random()], {})\n",
    "    print(t)\n",
    "    tp.append(t)"
   ]
  },
  {
   "cell_type": "code",
   "execution_count": 34,
   "metadata": {},
   "outputs": [
    {
     "data": {
      "text/plain": [
       "[('div', [0.2765083701932076, 0.2234683268424108], {}),\n",
       " ('fake', [0.6301426853186024, 0.07146361929200529], {}),\n",
       " ('fake', [0.2983557267097098, 0.9781838020861968], {}),\n",
       " ('mul', [0.8490133031972757, 0.6536903788150596], {}),\n",
       " ('mul', [0.0414764260475613, 0.822420030058196], {}),\n",
       " ('add', [0.7119585548402398, 0.4903122448090771], {}),\n",
       " ('add', [0.7486530169444501, 0.038544538995743616], {}),\n",
       " ('mul', [0.7591366434769814, 0.435644970483661], {}),\n",
       " ('div', [0.9240772779989194, 0.32377060073346275], {}),\n",
       " ('div', [0.2879693268587079, 0.8596443292951291], {})]"
      ]
     },
     "execution_count": 34,
     "metadata": {},
     "output_type": "execute_result"
    }
   ],
   "source": [
    "tp"
   ]
  },
  {
   "cell_type": "code",
   "execution_count": 35,
   "metadata": {
    "tags": []
   },
   "outputs": [
    {
     "name": "stderr",
     "output_type": "stream",
     "text": [
      "Sent batch request with 10 requests to requests_cola_1\n"
     ]
    }
   ],
   "source": [
    "client.check_registry =\"never\"\n",
    "client.set_default_queue(\"cola_1\")\n",
    "\n",
    "fs = client.rpc_batch_async(tp)"
   ]
  },
  {
   "cell_type": "code",
   "execution_count": 36,
   "metadata": {},
   "outputs": [
    {
     "data": {
      "text/plain": [
       "[1.2373492660022487,\n",
       " None,\n",
       " None,\n",
       " 0.5549918277860523,\n",
       " 0.0341110435567419,\n",
       " 1.202270799649317,\n",
       " 0.7871975559401937,\n",
       " 0.33071406064059505,\n",
       " 2.8541111388913483,\n",
       " 0.33498659508965783]"
      ]
     },
     "execution_count": 36,
     "metadata": {},
     "output_type": "execute_result"
    }
   ],
   "source": [
    "[f.safe_get() for f in fs]"
   ]
  },
  {
   "cell_type": "code",
   "execution_count": 37,
   "metadata": {},
   "outputs": [
    {
     "data": {
      "text/plain": [
       "{}"
      ]
     },
     "execution_count": 37,
     "metadata": {},
     "output_type": "execute_result"
    }
   ],
   "source": [
    "client.responses"
   ]
  },
  {
   "cell_type": "code",
   "execution_count": 38,
   "metadata": {},
   "outputs": [],
   "source": [
    "client.check_registry =\"cache\""
   ]
  },
  {
   "cell_type": "code",
   "execution_count": 39,
   "metadata": {
    "tags": []
   },
   "outputs": [
    {
     "name": "stdout",
     "output_type": "stream",
     "text": [
      "Method fake does not exist/is not available.\n"
     ]
    }
   ],
   "source": [
    "try:\n",
    "    x = client.rpc_batch_sync(tp, timeout=5)\n",
    "except Exception as e:\n",
    "    print(e)"
   ]
  },
  {
   "cell_type": "code",
   "execution_count": 40,
   "metadata": {
    "tags": []
   },
   "outputs": [
    {
     "name": "stdout",
     "output_type": "stream",
     "text": [
      "Method fake does not exist/is not available.\n"
     ]
    }
   ],
   "source": [
    "try:    \n",
    "    x = client.rpc_batch_sync(tp, timeout=5)\n",
    "except Exception as e:\n",
    "    print(e)"
   ]
  },
  {
   "cell_type": "code",
   "execution_count": 41,
   "metadata": {},
   "outputs": [
    {
     "name": "stderr",
     "output_type": "stream",
     "text": [
      "Sent request with id: fs_client_4:62 to queue requests_cola_1\n"
     ]
    }
   ],
   "source": [
    "client.check_registry=\"never\"\n",
    "client.set_default_queue(\"cola_1\")\n",
    "\n",
    "x = client.rpc_async(\"kk\", [1, 0])"
   ]
  },
  {
   "cell_type": "code",
   "execution_count": 42,
   "metadata": {
    "tags": []
   },
   "outputs": [
    {
     "name": "stdout",
     "output_type": "stream",
     "text": [
      "Error -32601 : The method does not exist/is not available.\n",
      "\n",
      " \n"
     ]
    }
   ],
   "source": [
    "try:\n",
    "    x.get()\n",
    "except Exception as e:\n",
    "    print(e)"
   ]
  },
  {
   "cell_type": "code",
   "execution_count": 43,
   "metadata": {},
   "outputs": [
    {
     "name": "stderr",
     "output_type": "stream",
     "text": [
      "Sent request with id: fs_client_4:63 to queue requests_cola_1\n"
     ]
    }
   ],
   "source": [
    "y = client.rpc_async(\"add\", [1, 0])"
   ]
  },
  {
   "cell_type": "code",
   "execution_count": 44,
   "metadata": {},
   "outputs": [
    {
     "data": {
      "text/plain": [
       "1"
      ]
     },
     "execution_count": 44,
     "metadata": {},
     "output_type": "execute_result"
    }
   ],
   "source": [
    "y.get(5)"
   ]
  },
  {
   "cell_type": "code",
   "execution_count": 45,
   "metadata": {
    "tags": []
   },
   "outputs": [
    {
     "name": "stderr",
     "output_type": "stream",
     "text": [
      "Sent request with id: fs_client_4:64 to queue requests_cola_1\n"
     ]
    },
    {
     "name": "stdout",
     "output_type": "stream",
     "text": [
      "Error -32601 : The method does not exist/is not available.\n",
      "\n",
      " \n"
     ]
    }
   ],
   "source": [
    "def f(x,y): return x + y\n",
    "\n",
    "client.check_registry = \"never\" # \"never\" use queue \"default\" don't work for rpc_async_fn or rpc_sync_fn \n",
    "y = client.rpc_async_fn(f, [1, 2.0])\n",
    "try:\n",
    "    print(y.get())\n",
    "except Exception as e:\n",
    "    print(e)"
   ]
  },
  {
   "cell_type": "code",
   "execution_count": 46,
   "metadata": {},
   "outputs": [
    {
     "name": "stderr",
     "output_type": "stream",
     "text": [
      "Sent request with id: fs_client_4:65 to queue requests_py_eval\n"
     ]
    }
   ],
   "source": [
    "client.check_registry = \"cache\"\n",
    "y = client.rpc_async_fn(f, [1, 2.0])"
   ]
  },
  {
   "cell_type": "code",
   "execution_count": 47,
   "metadata": {},
   "outputs": [
    {
     "data": {
      "text/plain": [
       "3.0"
      ]
     },
     "execution_count": 47,
     "metadata": {},
     "output_type": "execute_result"
    }
   ],
   "source": [
    "y.get()"
   ]
  },
  {
   "cell_type": "code",
   "execution_count": 48,
   "metadata": {},
   "outputs": [
    {
     "data": {
      "text/plain": [
       "[]"
      ]
     },
     "execution_count": 48,
     "metadata": {},
     "output_type": "execute_result"
    }
   ],
   "source": [
    "[k for k in client.responses.keys()]"
   ]
  },
  {
   "cell_type": "code",
   "execution_count": 49,
   "metadata": {},
   "outputs": [],
   "source": [
    "client.clean_used()"
   ]
  },
  {
   "cell_type": "code",
   "execution_count": 50,
   "metadata": {},
   "outputs": [
    {
     "data": {
      "text/plain": [
       "[]"
      ]
     },
     "execution_count": 50,
     "metadata": {},
     "output_type": "execute_result"
    }
   ],
   "source": [
    "[k for k in client.responses.keys()]"
   ]
  },
  {
   "cell_type": "code",
   "execution_count": 51,
   "metadata": {},
   "outputs": [
    {
     "data": {
      "text/plain": [
       "[1.292234910784161,\n",
       " [0.4072618751051509, 0.07709283265778166],\n",
       " {'a': 0.8557629447951, 'b': [0.8557629447951, 0.2635348478597973]},\n",
       " 0.26437475553349743,\n",
       " [0.8173668596607947, 0.4091287348837197],\n",
       " 0.9404060298543738,\n",
       " (0.6934656745983323, 0.580003823182854),\n",
       " 0.0019481429170435764,\n",
       " [0.2806713992453813, 0.5560523891767433],\n",
       " 0.8120395537639734,\n",
       " None]"
      ]
     },
     "execution_count": 51,
     "metadata": {},
     "output_type": "execute_result"
    }
   ],
   "source": [
    "resultados"
   ]
  },
  {
   "cell_type": "code",
   "execution_count": 52,
   "metadata": {},
   "outputs": [
    {
     "name": "stderr",
     "output_type": "stream",
     "text": [
      "Sent request with id: fs_client_4:66 to queue requests_py_eval\n"
     ]
    }
   ],
   "source": [
    "client.rpc_sync_fn(print, [\"hola\"])"
   ]
  },
  {
   "cell_type": "code",
   "execution_count": 61,
   "metadata": {},
   "outputs": [
    {
     "name": "stdout",
     "output_type": "stream",
     "text": [
      "('fake', [10], {})\n",
      "('sleep', [10], {})\n",
      "('sleep', [10], {})\n",
      "('sleep', [10], {})\n",
      "('fake', [10], {})\n",
      "('sleep', [10], {})\n",
      "('sleep', [10], {})\n",
      "('fake', [10], {})\n",
      "('fake', [10], {})\n",
      "('sleep', [10], {})\n"
     ]
    }
   ],
   "source": [
    "fs =[]\n",
    "tp = []\n",
    "N = 10\n",
    "for i in range(N):\n",
    "    fn = random.choice((\"sleep\", \"fake\"))\n",
    "    t = (fn, [10], {})\n",
    "    print(t)\n",
    "    tp.append(t)"
   ]
  },
  {
   "cell_type": "code",
   "execution_count": 101,
   "metadata": {},
   "outputs": [
    {
     "name": "stderr",
     "output_type": "stream",
     "text": [
      "Sent request with id: fs_client_4:157 to queue requests_cola_1\n",
      "Sent request with id: fs_client_4:158 to queue requests_cola_1\n"
     ]
    },
    {
     "name": "stderr",
     "output_type": "stream",
     "text": [
      "Sent request with id: fs_client_4:159 to queue requests_cola_1\n",
      "Sent request with id: fs_client_4:160 to queue requests_cola_1\n",
      "Sent request with id: fs_client_4:161 to queue requests_cola_1\n",
      "Sent request with id: fs_client_4:162 to queue requests_cola_1\n",
      "Sent request with id: fs_client_4:163 to queue requests_cola_1\n",
      "Sent request with id: fs_client_4:164 to queue requests_cola_1\n",
      "Sent request with id: fs_client_4:165 to queue requests_cola_1\n",
      "Sent request with id: fs_client_4:166 to queue requests_cola_1\n"
     ]
    }
   ],
   "source": [
    "client.check_registry=\"never\"\n",
    "fs = client.rpc_multi_async(tp)"
   ]
  },
  {
   "cell_type": "code",
   "execution_count": null,
   "metadata": {},
   "outputs": [],
   "source": []
  },
  {
   "cell_type": "code",
   "execution_count": null,
   "metadata": {},
   "outputs": [],
   "source": []
  },
  {
   "cell_type": "code",
   "execution_count": 102,
   "metadata": {},
   "outputs": [],
   "source": [
    "from time import time\n",
    "\n",
    "def gather(fs, tp, timeout=None, step=5):\n",
    "    ids = [f.id for f in fs]\n",
    "    t_0 = time()\n",
    "    while time() - t_0 <= timeout:\n",
    "        try:\n",
    "            if fs[0]._client.wait_responses(ids, timeout=5) == []:\n",
    "                return\n",
    "        except TimeoutError:\n",
    "            pass\n",
    "\n",
    "        t = [((time() if f.finished_time is None else f.finished_time) -f.creation_time, f.status, f.id) for f in fs]\n",
    "        pending = [x[0] for x in t if x[1]==\"PENDING\"]\n",
    "        done = [x[0] for x in t if x[1] !=\"PENDING\"]\n",
    "        max_pending = max(pending) if len(pending)> 0 else 0 \n",
    "        max_done = max(done) if len(done)>0 else 0\n",
    "        print(max_done, max_pending)\n",
    "        ids = [x[2] for x in t if x[1] ==\"PENDING\"]\n"
   ]
  },
  {
   "cell_type": "code",
   "execution_count": 103,
   "metadata": {},
   "outputs": [
    {
     "name": "stdout",
     "output_type": "stream",
     "text": [
      "5.328825950622559 5.311243295669556\n",
      "10.394101619720459 10.36086630821228\n",
      "10.194912672042847 15.444279909133911\n",
      "20.523454904556274 20.476256132125854\n",
      "20.220745086669922 25.598377466201782\n",
      "30.653213024139404 30.596716165542603\n",
      "30.165385246276855 35.713247776031494\n",
      "30.165385246276855 40.8109450340271\n",
      "30.165385246276855 45.87255835533142\n",
      "30.165385246276855 50.973963499069214\n",
      "30.165385246276855 56.09268021583557\n",
      "30.165385246276855 61.17133688926697\n"
     ]
    }
   ],
   "source": [
    "gather(fs, tp, 60, 5)"
   ]
  },
  {
   "cell_type": "code",
   "execution_count": 104,
   "metadata": {},
   "outputs": [
    {
     "data": {
      "text/plain": [
       "['FAILED',\n",
       " 'OK',\n",
       " 'OK',\n",
       " 'OK',\n",
       " 'FAILED',\n",
       " 'FAILED',\n",
       " 'OK',\n",
       " 'FAILED',\n",
       " 'FAILED',\n",
       " 'PENDING']"
      ]
     },
     "execution_count": 104,
     "metadata": {},
     "output_type": "execute_result"
    }
   ],
   "source": [
    "[f.status for f in fs]"
   ]
  },
  {
   "cell_type": "code",
   "execution_count": 105,
   "metadata": {},
   "outputs": [
    {
     "data": {
      "text/plain": [
       "[0.20798397064208984,\n",
       " 10.194912672042847,\n",
       " 10.185481548309326,\n",
       " 20.184446096420288,\n",
       " 10.15903925895691,\n",
       " 20.167667865753174,\n",
       " 30.165385246276855,\n",
       " 20.155033588409424,\n",
       " 20.220745086669922,\n",
       " 61.206326484680176]"
      ]
     },
     "execution_count": 105,
     "metadata": {},
     "output_type": "execute_result"
    }
   ],
   "source": [
    "[(time() if f.finished_time is None else f.finished_time) -f.creation_time for f in fs]"
   ]
  },
  {
   "cell_type": "code",
   "execution_count": 106,
   "metadata": {},
   "outputs": [
    {
     "data": {
      "text/plain": [
       "[1761063582.9501424,\n",
       " 1761063592.9546537,\n",
       " 1761063592.9624999,\n",
       " 1761063602.9774225,\n",
       " 1761063592.969486,\n",
       " 1761063602.9930744,\n",
       " 1761063613.0055604,\n",
       " 1761063603.0171435,\n",
       " 1761063603.0993521,\n",
       " None]"
      ]
     },
     "execution_count": 106,
     "metadata": {},
     "output_type": "execute_result"
    }
   ],
   "source": [
    "[f.finished_time for f in fs]"
   ]
  },
  {
   "cell_type": "code",
   "execution_count": null,
   "metadata": {},
   "outputs": [],
   "source": []
  },
  {
   "cell_type": "code",
   "execution_count": null,
   "metadata": {},
   "outputs": [],
   "source": []
  }
 ],
 "metadata": {
  "kernelspec": {
   "display_name": "base",
   "language": "python",
   "name": "python3"
  },
  "language_info": {
   "codemirror_mode": {
    "name": "ipython",
    "version": 3
   },
   "file_extension": ".py",
   "mimetype": "text/x-python",
   "name": "python",
   "nbconvert_exporter": "python",
   "pygments_lexer": "ipython3",
   "version": "3.11.5"
  }
 },
 "nbformat": 4,
 "nbformat_minor": 4
}
