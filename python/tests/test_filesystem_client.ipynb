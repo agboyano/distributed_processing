{
 "cells": [
  {
   "cell_type": "code",
   "execution_count": 1,
   "metadata": {},
   "outputs": [],
   "source": [
    "import sys\n",
    "sys.path.insert(0,'C:\\home\\distributed_processing\\python')"
   ]
  },
  {
   "cell_type": "code",
   "execution_count": 2,
   "metadata": {},
   "outputs": [],
   "source": [
    "import random\n",
    "\n",
    "from distributed_processing.serializers import DummySerializer\n",
    "from distributed_processing.client import Client\n",
    "from distributed_processing.filesystem_connector import FileSystemConnector\n"
   ]
  },
  {
   "cell_type": "code",
   "execution_count": 3,
   "metadata": {},
   "outputs": [],
   "source": [
    "DIRECTORY = 'G:\\home\\prueba_ditribuida_fs'\n",
    "NAMESPACE = \"tasks\""
   ]
  },
  {
   "cell_type": "code",
   "execution_count": 4,
   "metadata": {},
   "outputs": [],
   "source": [
    "import logging\n",
    "logging.basicConfig(level=logging.DEBUG)"
   ]
  },
  {
   "cell_type": "code",
   "execution_count": 5,
   "metadata": {
    "tags": []
   },
   "outputs": [
    {
     "name": "stderr",
     "output_type": "stream",
     "text": [
      "Client with id: redis_client_2\n",
      "Results queue: redis_client_2_responses\n"
     ]
    }
   ],
   "source": [
    "fs_connector = FileSystemConnector(directory=DIRECTORY, namespace=NAMESPACE)\n",
    "\n",
    "client = Client(DummySerializer(), fs_connector, check_registry=\"cache\")"
   ]
  },
  {
   "cell_type": "code",
   "execution_count": 6,
   "metadata": {},
   "outputs": [
    {
     "data": {
      "text/plain": [
       "{'add': ['requests_cola_1'],\n",
       " 'mul': ['requests_cola_1'],\n",
       " 'div': ['requests_cola_1'],\n",
       " 'eval_py_function': ['requests_py_eval']}"
      ]
     },
     "execution_count": 6,
     "metadata": {},
     "output_type": "execute_result"
    }
   ],
   "source": [
    "fs_connector.methods_registry()"
   ]
  },
  {
   "cell_type": "code",
   "execution_count": 7,
   "metadata": {},
   "outputs": [],
   "source": [
    "y = client.rpc_async(\"add\", [1, 0])"
   ]
  },
  {
   "cell_type": "code",
   "execution_count": 8,
   "metadata": {},
   "outputs": [
    {
     "data": {
      "text/plain": [
       "1"
      ]
     },
     "execution_count": 8,
     "metadata": {},
     "output_type": "execute_result"
    }
   ],
   "source": [
    "y.get()"
   ]
  },
  {
   "cell_type": "code",
   "execution_count": 9,
   "metadata": {},
   "outputs": [
    {
     "name": "stdout",
     "output_type": "stream",
     "text": [
      "'method_fake'\n"
     ]
    }
   ],
   "source": [
    "client.check_registry =\"always\"\n",
    "\n",
    "try:\n",
    "    y = client.rpc_async(\"fake\", [1, 0])\n",
    "except Exception as e:\n",
    "    print(e)"
   ]
  },
  {
   "cell_type": "code",
   "execution_count": 10,
   "metadata": {},
   "outputs": [
    {
     "name": "stdout",
     "output_type": "stream",
     "text": [
      "Error -32601 : The method does not exist/is not available.\n",
      "\n",
      " \n"
     ]
    }
   ],
   "source": [
    "client.check_registry =\"never\"\n",
    "client.set_default_queue(\"cola_1\")\n",
    "\n",
    "y = client.rpc_async(\"fake\", [1, 0])\n",
    "\n",
    "try:\n",
    "    y.get()\n",
    "except Exception as e:\n",
    "    print(e)\n"
   ]
  },
  {
   "cell_type": "code",
   "execution_count": 11,
   "metadata": {},
   "outputs": [
    {
     "data": {
      "text/plain": [
       "'Esto es un error'"
      ]
     },
     "execution_count": 11,
     "metadata": {},
     "output_type": "execute_result"
    }
   ],
   "source": [
    "client.check_registry =\"never\"\n",
    "client.set_default_queue(\"cola_1\")\n",
    "\n",
    "y = client.rpc_async(\"fake\", [1, 0])\n",
    "\n",
    "y.safe_get(default=\"Esto es un error\")"
   ]
  },
  {
   "cell_type": "code",
   "execution_count": 12,
   "metadata": {},
   "outputs": [],
   "source": [
    "client.check_registry =\"cache\""
   ]
  },
  {
   "cell_type": "code",
   "execution_count": 13,
   "metadata": {},
   "outputs": [],
   "source": [
    "x = client.rpc_async(\"div\", [1, 0])"
   ]
  },
  {
   "cell_type": "code",
   "execution_count": 14,
   "metadata": {},
   "outputs": [
    {
     "name": "stdout",
     "output_type": "stream",
     "text": [
      "Error -32603 : Internal RPC error.\n",
      "\n",
      " Traceback (most recent call last):\n",
      "  File \"C:\\home\\distributed_processing\\python\\distributed_processing\\worker.py\", line 152, in _process_single_request\n",
      "    result = func[request[\"method\"]](*args, **kwargs)\n",
      "             ^^^^^^^^^^^^^^^^^^^^^^^^^^^^^^^^^^^^^^^^\n",
      "  File \"C:\\Users\\agarcia\\AppData\\Local\\Temp\\ipykernel_28748\\1866336200.py\", line 8, in div\n",
      "    return x / y\n",
      "           ~~^~~\n",
      "ZeroDivisionError: division by zero\n",
      "\n"
     ]
    }
   ],
   "source": [
    "try:\n",
    "    x.get()\n",
    "except Exception as e:\n",
    "    print(e)"
   ]
  },
  {
   "cell_type": "code",
   "execution_count": 15,
   "metadata": {},
   "outputs": [
    {
     "data": {
      "text/plain": [
       "2"
      ]
     },
     "execution_count": 15,
     "metadata": {},
     "output_type": "execute_result"
    }
   ],
   "source": [
    "client.rpc_sync(\"add\", [1, 1])"
   ]
  },
  {
   "cell_type": "code",
   "execution_count": 16,
   "metadata": {},
   "outputs": [],
   "source": [
    "def f(x,y): return x + y\n",
    "\n",
    "y = client.rpc_async_fn(f, [1, 2.0])"
   ]
  },
  {
   "cell_type": "code",
   "execution_count": 17,
   "metadata": {},
   "outputs": [
    {
     "data": {
      "text/plain": [
       "3.0"
      ]
     },
     "execution_count": 17,
     "metadata": {},
     "output_type": "execute_result"
    }
   ],
   "source": [
    "y.get()"
   ]
  },
  {
   "cell_type": "code",
   "execution_count": 18,
   "metadata": {},
   "outputs": [
    {
     "data": {
      "text/plain": [
       "5.0"
      ]
     },
     "execution_count": 18,
     "metadata": {},
     "output_type": "execute_result"
    }
   ],
   "source": [
    "client.rpc_sync_fn(f, [3.0, 2.0])"
   ]
  },
  {
   "cell_type": "code",
   "execution_count": 19,
   "metadata": {
    "tags": []
   },
   "outputs": [
    {
     "name": "stdout",
     "output_type": "stream",
     "text": [
      "('mul', [0.369688217971215, 0.8599820764337363], {})\n",
      "('div', [0.15232705822894432, 0.6588022745370651], {})\n",
      "('add', [0.6779729829396444, 0.7990150426514161], {})\n",
      "('mul', [0.4768787023477128, 0.2518003268176241], {})\n",
      "('add', [0.9557533612088991, 0.2561587541042152], {})\n",
      "('add', [0.8607958443778821, 0.2719423254847959], {})\n",
      "('div', [0.32757078956262076, 0.710042099339389], {})\n",
      "('add', [0.3429297435266645, 0.28981122161407114], {})\n",
      "('div', [0.320243883649999, 0.9797169243725438], {})\n",
      "('add', [0.08475659637039368, 0.32498440665329753], {})\n"
     ]
    }
   ],
   "source": [
    "fs =[]\n",
    "tp = []\n",
    "N = 10\n",
    "for i in range(N):\n",
    "    fn = random.choice((\"add\", \"mul\", \"div\"))\n",
    "    t = (fn, [random.random(),random.random()], {})\n",
    "    print(t)\n",
    "    tp.append(t)\n",
    "    fs.append(client.rpc_async(t[0], t[1]))"
   ]
  },
  {
   "cell_type": "code",
   "execution_count": 20,
   "metadata": {},
   "outputs": [
    {
     "data": {
      "text/plain": [
       "[0.31792524132397315,\n",
       " 0.2312181729123253,\n",
       " 1.4769880255910603,\n",
       " 0.12007821310351857,\n",
       " 1.2119121153131143,\n",
       " 1.132738169862678,\n",
       " 0.46133995416241796,\n",
       " 0.6327409651407356,\n",
       " 0.3268738915121815,\n",
       " 0.4097410030236912]"
      ]
     },
     "execution_count": 20,
     "metadata": {},
     "output_type": "execute_result"
    }
   ],
   "source": [
    "[f.get() for f in fs]"
   ]
  },
  {
   "cell_type": "code",
   "execution_count": 21,
   "metadata": {},
   "outputs": [
    {
     "data": {
      "text/plain": [
       "[('mul', [0.369688217971215, 0.8599820764337363], {}),\n",
       " ('div', [0.15232705822894432, 0.6588022745370651], {}),\n",
       " ('add', [0.6779729829396444, 0.7990150426514161], {}),\n",
       " ('mul', [0.4768787023477128, 0.2518003268176241], {}),\n",
       " ('add', [0.9557533612088991, 0.2561587541042152], {}),\n",
       " ('add', [0.8607958443778821, 0.2719423254847959], {}),\n",
       " ('div', [0.32757078956262076, 0.710042099339389], {}),\n",
       " ('add', [0.3429297435266645, 0.28981122161407114], {}),\n",
       " ('div', [0.320243883649999, 0.9797169243725438], {}),\n",
       " ('add', [0.08475659637039368, 0.32498440665329753], {})]"
      ]
     },
     "execution_count": 21,
     "metadata": {},
     "output_type": "execute_result"
    }
   ],
   "source": [
    "tp"
   ]
  },
  {
   "cell_type": "code",
   "execution_count": 22,
   "metadata": {},
   "outputs": [],
   "source": [
    "fs = client.rpc_batch_async(tp)"
   ]
  },
  {
   "cell_type": "code",
   "execution_count": 23,
   "metadata": {},
   "outputs": [
    {
     "data": {
      "text/plain": [
       "[0.31792524132397315,\n",
       " 0.2312181729123253,\n",
       " 1.4769880255910603,\n",
       " 0.12007821310351857,\n",
       " 1.2119121153131143,\n",
       " 1.132738169862678,\n",
       " 0.46133995416241796,\n",
       " 0.6327409651407356,\n",
       " 0.3268738915121815,\n",
       " 0.4097410030236912]"
      ]
     },
     "execution_count": 23,
     "metadata": {},
     "output_type": "execute_result"
    }
   ],
   "source": [
    "[f.get() for f in fs]"
   ]
  },
  {
   "cell_type": "code",
   "execution_count": 24,
   "metadata": {},
   "outputs": [
    {
     "data": {
      "text/plain": [
       "[0.31792524132397315,\n",
       " 0.2312181729123253,\n",
       " 1.4769880255910603,\n",
       " 0.12007821310351857,\n",
       " 1.2119121153131143,\n",
       " 1.132738169862678,\n",
       " 0.46133995416241796,\n",
       " 0.6327409651407356,\n",
       " 0.3268738915121815,\n",
       " 0.4097410030236912]"
      ]
     },
     "execution_count": 24,
     "metadata": {},
     "output_type": "execute_result"
    }
   ],
   "source": [
    "client.rpc_batch_sync(tp)"
   ]
  },
  {
   "cell_type": "code",
   "execution_count": 25,
   "metadata": {
    "tags": []
   },
   "outputs": [
    {
     "name": "stdout",
     "output_type": "stream",
     "text": [
      "('fake', [0.7923043905922567, 0.2682549812963724], {})\n",
      "('add', [0.6989850212795357, 0.752227485322533], {})\n",
      "('div', [0.6117717750210461, 0.09287398583118278], {})\n",
      "('add', [0.020927123973833672, 0.3123942429279394], {})\n",
      "('add', [0.9608606191132902, 0.8766762990276146], {})\n",
      "('fake', [0.2903476244590122, 0.119907307035243], {})\n",
      "('mul', [0.8819358297967668, 0.7821960650188758], {})\n",
      "('div', [0.9159494118127299, 0.8944396627782636], {})\n",
      "('fake', [0.984324424926479, 0.03654655317328659], {})\n",
      "('fake', [0.7608252322809145, 0.237856608477526], {})\n"
     ]
    }
   ],
   "source": [
    "fs =[]\n",
    "tp = []\n",
    "N = 10\n",
    "for i in range(N):\n",
    "    fn = random.choice((\"add\", \"mul\", \"div\", \"fake\"))\n",
    "    t = (fn, [random.random(),random.random()], {})\n",
    "    print(t)\n",
    "    tp.append(t)"
   ]
  },
  {
   "cell_type": "code",
   "execution_count": 26,
   "metadata": {},
   "outputs": [
    {
     "data": {
      "text/plain": [
       "[('fake', [0.7923043905922567, 0.2682549812963724], {}),\n",
       " ('add', [0.6989850212795357, 0.752227485322533], {}),\n",
       " ('div', [0.6117717750210461, 0.09287398583118278], {}),\n",
       " ('add', [0.020927123973833672, 0.3123942429279394], {}),\n",
       " ('add', [0.9608606191132902, 0.8766762990276146], {}),\n",
       " ('fake', [0.2903476244590122, 0.119907307035243], {}),\n",
       " ('mul', [0.8819358297967668, 0.7821960650188758], {}),\n",
       " ('div', [0.9159494118127299, 0.8944396627782636], {}),\n",
       " ('fake', [0.984324424926479, 0.03654655317328659], {}),\n",
       " ('fake', [0.7608252322809145, 0.237856608477526], {})]"
      ]
     },
     "execution_count": 26,
     "metadata": {},
     "output_type": "execute_result"
    }
   ],
   "source": [
    "tp"
   ]
  },
  {
   "cell_type": "code",
   "execution_count": 27,
   "metadata": {
    "tags": []
   },
   "outputs": [],
   "source": [
    "client.check_registry =\"never\"\n",
    "client.set_default_queue(\"cola_1\")\n",
    "\n",
    "fs = client.rpc_batch_async(tp)"
   ]
  },
  {
   "cell_type": "code",
   "execution_count": 28,
   "metadata": {},
   "outputs": [
    {
     "data": {
      "text/plain": [
       "[None,\n",
       " 1.4512125066020687,\n",
       " 6.5871166133976935,\n",
       " 0.33332136690177305,\n",
       " 1.8375369181409047,\n",
       " None,\n",
       " 0.689846735666188,\n",
       " 1.0240482951836616,\n",
       " None,\n",
       " None]"
      ]
     },
     "execution_count": 28,
     "metadata": {},
     "output_type": "execute_result"
    }
   ],
   "source": [
    "[f.safe_get() for f in fs]"
   ]
  },
  {
   "cell_type": "code",
   "execution_count": 29,
   "metadata": {},
   "outputs": [],
   "source": [
    "client.check_registry =\"cache\""
   ]
  },
  {
   "cell_type": "code",
   "execution_count": 30,
   "metadata": {
    "tags": []
   },
   "outputs": [
    {
     "name": "stdout",
     "output_type": "stream",
     "text": [
      "Method fake does not exist/is not available.\n"
     ]
    }
   ],
   "source": [
    "try:\n",
    "    x = client.rpc_batch_sync(tp, timeout=5)\n",
    "except Exception as e:\n",
    "    print(e)"
   ]
  },
  {
   "cell_type": "code",
   "execution_count": 31,
   "metadata": {
    "tags": []
   },
   "outputs": [
    {
     "name": "stdout",
     "output_type": "stream",
     "text": [
      "Method fake does not exist/is not available.\n"
     ]
    }
   ],
   "source": [
    "try:    \n",
    "    x = client.rpc_batch_sync(tp, timeout=5)\n",
    "except Exception as e:\n",
    "    print(e)"
   ]
  },
  {
   "cell_type": "code",
   "execution_count": 32,
   "metadata": {},
   "outputs": [],
   "source": [
    "client.check_registry=\"never\"\n",
    "client.set_default_queue(\"cola_1\")\n",
    "\n",
    "x = client.rpc_async(\"kk\", [1, 0])"
   ]
  },
  {
   "cell_type": "code",
   "execution_count": 33,
   "metadata": {
    "tags": []
   },
   "outputs": [
    {
     "name": "stdout",
     "output_type": "stream",
     "text": [
      "Error -32601 : The method does not exist/is not available.\n",
      "\n",
      " \n"
     ]
    }
   ],
   "source": [
    "try:\n",
    "    x.get()\n",
    "except Exception as e:\n",
    "    print(e)"
   ]
  },
  {
   "cell_type": "code",
   "execution_count": 34,
   "metadata": {},
   "outputs": [],
   "source": [
    "y = client.rpc_async(\"add\", [1, 0])"
   ]
  },
  {
   "cell_type": "code",
   "execution_count": 35,
   "metadata": {},
   "outputs": [
    {
     "data": {
      "text/plain": [
       "1"
      ]
     },
     "execution_count": 35,
     "metadata": {},
     "output_type": "execute_result"
    }
   ],
   "source": [
    "y.get(5)"
   ]
  },
  {
   "cell_type": "code",
   "execution_count": 36,
   "metadata": {
    "tags": []
   },
   "outputs": [
    {
     "name": "stdout",
     "output_type": "stream",
     "text": [
      "Error -32601 : The method does not exist/is not available.\n",
      "\n",
      " \n"
     ]
    }
   ],
   "source": [
    "def f(x,y): return x + y\n",
    "\n",
    "client.check_registry=\"never\"\n",
    "y = client.rpc_async_fn(f, [1, 2.0])\n",
    "try:\n",
    "    y.get()\n",
    "except Exception as e:\n",
    "    print(e)"
   ]
  }
 ],
 "metadata": {
  "kernelspec": {
   "display_name": "base",
   "language": "python",
   "name": "python3"
  },
  "language_info": {
   "codemirror_mode": {
    "name": "ipython",
    "version": 3
   },
   "file_extension": ".py",
   "mimetype": "text/x-python",
   "name": "python",
   "nbconvert_exporter": "python",
   "pygments_lexer": "ipython3",
   "version": "3.11.5"
  }
 },
 "nbformat": 4,
 "nbformat_minor": 4
}
