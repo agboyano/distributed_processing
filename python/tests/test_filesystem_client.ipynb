{
 "cells": [
  {
   "cell_type": "code",
   "execution_count": 1,
   "metadata": {},
   "outputs": [],
   "source": [
    "import random\n",
    "\n",
    "from distributed_processing.serializers import DummySerializer\n",
    "from distributed_processing.client import Client\n",
    "from distributed_processing.filesystem_connector import FileSystemConnector\n"
   ]
  },
  {
   "cell_type": "code",
   "execution_count": 2,
   "metadata": {},
   "outputs": [],
   "source": [
    "CURRO = False\n",
    "\n",
    "if CURRO:\n",
    "    NS_PATH =\"G:\\\\fs_namespaces\\\\prueba_distribuida\"\n",
    "    #NS_PATH =\"C:\\\\fs_namespaces\\\\prueba_distribuida\"\n",
    "\n",
    "else:\n",
    "    NS_PATH = \"/home/augusto/python/notebooks/fs_namespaces/prueba_distribuida\"\n"
   ]
  },
  {
   "cell_type": "code",
   "execution_count": 3,
   "metadata": {},
   "outputs": [],
   "source": [
    "import logging\n",
    "logging.getLogger(\"distributed_processing\").setLevel(logging.DEBUG)\n",
    "#logging.getLogger(\"distributed_processing.filesystem_connector\").setLevel(logging.DEBUG)"
   ]
  },
  {
   "cell_type": "code",
   "execution_count": 4,
   "metadata": {
    "tags": []
   },
   "outputs": [
    {
     "name": "stderr",
     "output_type": "stream",
     "text": [
      "{lock_name} unset\n",
      "{lock_name} unset\n",
      "Client with id: fs_client_6\n",
      "Results queue: fs_client_6_responses\n"
     ]
    }
   ],
   "source": [
    "fs_connector = FileSystemConnector(NS_PATH)\n",
    "fs_connector.with_watchdog=True\n",
    "\n",
    "client = Client(DummySerializer(), fs_connector, check_registry=\"cache\")"
   ]
  },
  {
   "cell_type": "code",
   "execution_count": 5,
   "metadata": {},
   "outputs": [
    {
     "name": "stderr",
     "output_type": "stream",
     "text": [
      "{lock_name} unset\n"
     ]
    },
    {
     "data": {
      "text/plain": [
       "{'eval_py_function': ['requests_py_eval'],\n",
       " 'div': ['requests_cola_1'],\n",
       " 'add': ['requests_cola_1'],\n",
       " 'mul': ['requests_cola_1']}"
      ]
     },
     "execution_count": 5,
     "metadata": {},
     "output_type": "execute_result"
    }
   ],
   "source": [
    "fs_connector.methods_registry()"
   ]
  },
  {
   "cell_type": "code",
   "execution_count": 6,
   "metadata": {},
   "outputs": [
    {
     "name": "stderr",
     "output_type": "stream",
     "text": [
      "Sent request with id: fs_client_6:1 to queue requests_cola_1\n"
     ]
    }
   ],
   "source": [
    "y = client.rpc_async(\"add\", [1, 0])"
   ]
  },
  {
   "cell_type": "code",
   "execution_count": 7,
   "metadata": {},
   "outputs": [
    {
     "name": "stderr",
     "output_type": "stream",
     "text": [
      "in-event <InotifyEvent: src_path=b\"/home/augusto/python/notebooks/fs_namespaces/prueba_distribuida/li_fs_client_6_responses/('8118958.516634', 223575.5130117212).jbl\", wd=1, mask=IN_MOVED_TO, cookie=1985422, name=\"('8118958.516634', 223575.5130117212).jbl\">\n",
      "could not find matching move_from event\n"
     ]
    },
    {
     "data": {
      "text/plain": [
       "1"
      ]
     },
     "execution_count": 7,
     "metadata": {},
     "output_type": "execute_result"
    }
   ],
   "source": [
    "y.get()"
   ]
  },
  {
   "cell_type": "code",
   "execution_count": 8,
   "metadata": {},
   "outputs": [
    {
     "name": "stdout",
     "output_type": "stream",
     "text": [
      "'method_queues_fake'\n"
     ]
    }
   ],
   "source": [
    "client.check_registry =\"always\"\n",
    "\n",
    "try:\n",
    "    y = client.rpc_async(\"fake\", [1, 0])\n",
    "except Exception as e:\n",
    "    print(e)"
   ]
  },
  {
   "cell_type": "code",
   "execution_count": 9,
   "metadata": {},
   "outputs": [
    {
     "name": "stderr",
     "output_type": "stream",
     "text": [
      "Sent request with id: fs_client_6:2 to queue requests_cola_1\n",
      "in-event <InotifyEvent: src_path=b\"/home/augusto/python/notebooks/fs_namespaces/prueba_distribuida/li_fs_client_6_responses/('8118959.083449', 940586.0967053417).jbl\", wd=1, mask=IN_MOVED_TO, cookie=1985426, name=\"('8118959.083449', 940586.0967053417).jbl\">\n",
      "could not find matching move_from event\n"
     ]
    },
    {
     "name": "stdout",
     "output_type": "stream",
     "text": [
      "Error -32601 : The method does not exist/is not available.\n",
      "\n",
      " \n"
     ]
    }
   ],
   "source": [
    "client.check_registry =\"never\"\n",
    "client.set_default_queue(\"cola_1\")\n",
    "\n",
    "y = client.rpc_async(\"fake\", [1, 0])\n",
    "\n",
    "try:\n",
    "    y.get()\n",
    "except Exception as e:\n",
    "    print(e)\n"
   ]
  },
  {
   "cell_type": "code",
   "execution_count": 10,
   "metadata": {},
   "outputs": [
    {
     "name": "stderr",
     "output_type": "stream",
     "text": [
      "Sent request with id: fs_client_6:3 to queue requests_cola_1\n",
      "in-event <InotifyEvent: src_path=b\"/home/augusto/python/notebooks/fs_namespaces/prueba_distribuida/li_fs_client_6_responses/('8118959.779242', 209050.77701818597).jbl\", wd=1, mask=IN_MOVED_TO, cookie=1985430, name=\"('8118959.779242', 209050.77701818597).jbl\">\n",
      "could not find matching move_from event\n"
     ]
    },
    {
     "data": {
      "text/plain": [
       "'Esto es un error'"
      ]
     },
     "execution_count": 10,
     "metadata": {},
     "output_type": "execute_result"
    }
   ],
   "source": [
    "client.check_registry =\"never\"\n",
    "client.set_default_queue(\"cola_1\")\n",
    "\n",
    "y = client.rpc_async(\"fake\", [1, 0])\n",
    "\n",
    "y.safe_get(default=\"Esto es un error\")"
   ]
  },
  {
   "cell_type": "code",
   "execution_count": 11,
   "metadata": {},
   "outputs": [],
   "source": [
    "client.check_registry =\"cache\""
   ]
  },
  {
   "cell_type": "code",
   "execution_count": 12,
   "metadata": {},
   "outputs": [
    {
     "name": "stderr",
     "output_type": "stream",
     "text": [
      "Sent request with id: fs_client_6:4 to queue requests_cola_1\n"
     ]
    }
   ],
   "source": [
    "x = client.rpc_async(\"div\", [1, 0])"
   ]
  },
  {
   "cell_type": "code",
   "execution_count": 13,
   "metadata": {},
   "outputs": [
    {
     "name": "stderr",
     "output_type": "stream",
     "text": [
      "in-event <InotifyEvent: src_path=b\"/home/augusto/python/notebooks/fs_namespaces/prueba_distribuida/li_fs_client_6_responses/('8118960.204175', 74681.95767030705).jbl\", wd=1, mask=IN_MOVED_TO, cookie=1985434, name=\"('8118960.204175', 74681.95767030705).jbl\">\n",
      "could not find matching move_from event\n"
     ]
    },
    {
     "name": "stdout",
     "output_type": "stream",
     "text": [
      "Error -32603 : Internal RPC error.\n",
      "\n",
      " Traceback (most recent call last):\n",
      "  File \"/home/augusto/python/distributed_processing/python/distributed_processing/worker.py\", line 149, in _process_single_request\n",
      "    result = func[request[\"method\"]](*args, **kwargs)\n",
      "  File \"/tmp/ipykernel_57641/1866336200.py\", line 8, in div\n",
      "    return x / y\n",
      "           ~~^~~\n",
      "ZeroDivisionError: division by zero\n",
      "\n"
     ]
    }
   ],
   "source": [
    "try:\n",
    "    x.get()\n",
    "except Exception as e:\n",
    "    print(e)"
   ]
  },
  {
   "cell_type": "code",
   "execution_count": 14,
   "metadata": {},
   "outputs": [
    {
     "name": "stderr",
     "output_type": "stream",
     "text": [
      "Sent request with id: fs_client_6:5 to queue requests_cola_1\n",
      "in-event <InotifyEvent: src_path=b\"/home/augusto/python/notebooks/fs_namespaces/prueba_distribuida/li_fs_client_6_responses/('8118960.663256', 117449.24277317326).jbl\", wd=1, mask=IN_MOVED_TO, cookie=1985438, name=\"('8118960.663256', 117449.24277317326).jbl\">\n",
      "could not find matching move_from event\n"
     ]
    },
    {
     "data": {
      "text/plain": [
       "2"
      ]
     },
     "execution_count": 14,
     "metadata": {},
     "output_type": "execute_result"
    }
   ],
   "source": [
    "client.rpc_sync(\"add\", [1, 1])"
   ]
  },
  {
   "cell_type": "code",
   "execution_count": 15,
   "metadata": {},
   "outputs": [
    {
     "name": "stderr",
     "output_type": "stream",
     "text": [
      "Sent request with id: fs_client_6:6 to queue requests_py_eval\n"
     ]
    }
   ],
   "source": [
    "def f(x,y): return x + y\n",
    "\n",
    "y = client.rpc_async_fn(f, [1, 2.0])"
   ]
  },
  {
   "cell_type": "code",
   "execution_count": 16,
   "metadata": {},
   "outputs": [
    {
     "name": "stderr",
     "output_type": "stream",
     "text": [
      "in-event <InotifyEvent: src_path=b\"/home/augusto/python/notebooks/fs_namespaces/prueba_distribuida/li_fs_client_6_responses/('8118961.187563', 133861.1777844423).jbl\", wd=1, mask=IN_MOVED_TO, cookie=1985442, name=\"('8118961.187563', 133861.1777844423).jbl\">\n",
      "could not find matching move_from event\n"
     ]
    },
    {
     "data": {
      "text/plain": [
       "3.0"
      ]
     },
     "execution_count": 16,
     "metadata": {},
     "output_type": "execute_result"
    }
   ],
   "source": [
    "y.get()"
   ]
  },
  {
   "cell_type": "code",
   "execution_count": 17,
   "metadata": {},
   "outputs": [
    {
     "name": "stderr",
     "output_type": "stream",
     "text": [
      "Sent request with id: fs_client_6:7 to queue requests_py_eval\n",
      "in-event <InotifyEvent: src_path=b\"/home/augusto/python/notebooks/fs_namespaces/prueba_distribuida/li_fs_client_6_responses/('8118961.512397', 537326.3385982616).jbl\", wd=1, mask=IN_MOVED_TO, cookie=1985446, name=\"('8118961.512397', 537326.3385982616).jbl\">\n",
      "could not find matching move_from event\n"
     ]
    },
    {
     "data": {
      "text/plain": [
       "5.0"
      ]
     },
     "execution_count": 17,
     "metadata": {},
     "output_type": "execute_result"
    }
   ],
   "source": [
    "client.rpc_sync_fn(f, [3.0, 2.0])"
   ]
  },
  {
   "cell_type": "code",
   "execution_count": 18,
   "metadata": {
    "tags": []
   },
   "outputs": [
    {
     "name": "stderr",
     "output_type": "stream",
     "text": [
      "Sent request with id: fs_client_6:8 to queue requests_cola_1\n",
      "Sent request with id: fs_client_6:9 to queue requests_cola_1\n",
      "Sent request with id: fs_client_6:10 to queue requests_cola_1\n",
      "Sent request with id: fs_client_6:11 to queue requests_cola_1\n",
      "Sent request with id: fs_client_6:12 to queue requests_cola_1\n",
      "Sent request with id: fs_client_6:13 to queue requests_cola_1\n",
      "Sent request with id: fs_client_6:14 to queue requests_cola_1\n",
      "Sent request with id: fs_client_6:15 to queue requests_cola_1\n",
      "Sent request with id: fs_client_6:16 to queue requests_cola_1\n",
      "Sent request with id: fs_client_6:17 to queue requests_cola_1\n"
     ]
    },
    {
     "name": "stdout",
     "output_type": "stream",
     "text": [
      "('add', [0.7589014296575288, 0.4544901090598066], {})\n",
      "('add', [0.422137086412004, 0.07766444043424403], {})\n",
      "('div', [0.5714385280457671, 0.598975744763656], {})\n",
      "('div', [0.3714748422947578, 0.9440110648584018], {})\n",
      "('add', [0.22418245162476513, 0.3381912948374951], {})\n",
      "('add', [0.9076220404205645, 0.6380030883881117], {})\n",
      "('mul', [0.26156061307531453, 0.33173721253793664], {})\n",
      "('div', [0.9911899884272591, 0.8002082789282158], {})\n",
      "('mul', [0.3135163328219317, 0.6852305246436631], {})\n",
      "('div', [0.21888568471032177, 0.10741168732411588], {})\n"
     ]
    }
   ],
   "source": [
    "fs =[]\n",
    "tp = []\n",
    "N = 10\n",
    "for i in range(N):\n",
    "    fn = random.choice((\"add\", \"mul\", \"div\"))\n",
    "    t = (fn, [random.random(),random.random()], {})\n",
    "    print(t)\n",
    "    tp.append(t)\n",
    "    fs.append(client.rpc_async(t[0], t[1]))"
   ]
  },
  {
   "cell_type": "code",
   "execution_count": 19,
   "metadata": {},
   "outputs": [
    {
     "name": "stderr",
     "output_type": "stream",
     "text": [
      "in-event <InotifyEvent: src_path=b\"/home/augusto/python/notebooks/fs_namespaces/prueba_distribuida/li_fs_client_6_responses/('8118961.76539', 166013.6180461438).jbl\", wd=1, mask=IN_MOVED_TO, cookie=1985468, name=\"('8118961.76539', 166013.6180461438).jbl\">\n",
      "could not find matching move_from event\n"
     ]
    },
    {
     "data": {
      "text/plain": [
       "[1.2133915387173353,\n",
       " 0.499801526846248,\n",
       " 0.9540261572215173,\n",
       " 0.39350687308996496,\n",
       " 0.5623737464622602,\n",
       " 1.5456251288086762,\n",
       " 0.08676938869131863,\n",
       " 1.2386650007606028,\n",
       " 0.21483096122392956,\n",
       " 2.037820000442149]"
      ]
     },
     "execution_count": 19,
     "metadata": {},
     "output_type": "execute_result"
    }
   ],
   "source": [
    "[f.get() for f in fs]"
   ]
  },
  {
   "cell_type": "code",
   "execution_count": 20,
   "metadata": {},
   "outputs": [
    {
     "name": "stderr",
     "output_type": "stream",
     "text": [
      "Sent request with id: fs_client_6:18 to queue requests_cola_1\n",
      "Sent request with id: fs_client_6:19 to queue requests_cola_1\n",
      "Sent request with id: fs_client_6:20 to queue requests_cola_1\n",
      "Sent request with id: fs_client_6:21 to queue requests_cola_1\n",
      "Sent request with id: fs_client_6:22 to queue requests_cola_1\n",
      "Sent request with id: fs_client_6:23 to queue requests_cola_1\n",
      "Sent request with id: fs_client_6:24 to queue requests_cola_1\n",
      "Sent request with id: fs_client_6:25 to queue requests_cola_1\n",
      "Sent request with id: fs_client_6:26 to queue requests_cola_1\n",
      "Sent request with id: fs_client_6:27 to queue requests_cola_1\n"
     ]
    }
   ],
   "source": [
    "fs = client.rpc_multi_async(tp)"
   ]
  },
  {
   "cell_type": "code",
   "execution_count": 21,
   "metadata": {},
   "outputs": [
    {
     "data": {
      "text/plain": [
       "['PENDING',\n",
       " 'PENDING',\n",
       " 'PENDING',\n",
       " 'PENDING',\n",
       " 'PENDING',\n",
       " 'PENDING',\n",
       " 'PENDING',\n",
       " 'PENDING',\n",
       " 'PENDING',\n",
       " 'PENDING']"
      ]
     },
     "execution_count": 21,
     "metadata": {},
     "output_type": "execute_result"
    }
   ],
   "source": [
    "[f.status for f in fs]"
   ]
  },
  {
   "cell_type": "code",
   "execution_count": 22,
   "metadata": {},
   "outputs": [],
   "source": [
    "client._fetch_all_available_responses()"
   ]
  },
  {
   "cell_type": "code",
   "execution_count": 23,
   "metadata": {},
   "outputs": [
    {
     "data": {
      "text/plain": [
       "{'fs_client_6:18': 1743804962.200099,\n",
       " 'fs_client_6:19': 1743804962.2053657,\n",
       " 'fs_client_6:20': 1743804962.2098868,\n",
       " 'fs_client_6:21': 1743804962.215016,\n",
       " 'fs_client_6:22': 1743804962.2197363,\n",
       " 'fs_client_6:23': 1743804962.2243724,\n",
       " 'fs_client_6:24': 1743804962.230063,\n",
       " 'fs_client_6:25': 1743804962.2343366,\n",
       " 'fs_client_6:26': 1743804962.2392895,\n",
       " 'fs_client_6:27': 1743804962.2442834}"
      ]
     },
     "execution_count": 23,
     "metadata": {},
     "output_type": "execute_result"
    }
   ],
   "source": [
    "client.pending"
   ]
  },
  {
   "cell_type": "code",
   "execution_count": 24,
   "metadata": {},
   "outputs": [
    {
     "data": {
      "text/plain": [
       "[1.2133915387173353,\n",
       " 0.499801526846248,\n",
       " 0.9540261572215173,\n",
       " 0.39350687308996496,\n",
       " 0.5623737464622602,\n",
       " 1.5456251288086762,\n",
       " 0.08676938869131863,\n",
       " 1.2386650007606028,\n",
       " 0.21483096122392956,\n",
       " 2.037820000442149]"
      ]
     },
     "execution_count": 24,
     "metadata": {},
     "output_type": "execute_result"
    }
   ],
   "source": [
    "[f.get() for f in fs]"
   ]
  },
  {
   "cell_type": "code",
   "execution_count": 25,
   "metadata": {},
   "outputs": [
    {
     "name": "stderr",
     "output_type": "stream",
     "text": [
      "Sent batch request with 10 requests to requests_cola_1\n"
     ]
    }
   ],
   "source": [
    "fs = client.rpc_batch_async(tp)"
   ]
  },
  {
   "cell_type": "code",
   "execution_count": 26,
   "metadata": {},
   "outputs": [
    {
     "name": "stderr",
     "output_type": "stream",
     "text": [
      "in-event <InotifyEvent: src_path=b\"/home/augusto/python/notebooks/fs_namespaces/prueba_distribuida/li_fs_client_6_responses/('8118962.616128', 781005.8748409757).jbl\", wd=1, mask=IN_MOVED_TO, cookie=1985530, name=\"('8118962.616128', 781005.8748409757).jbl\">\n",
      "could not find matching move_from event\n",
      "in-event <InotifyEvent: src_path=b\"/home/augusto/python/notebooks/fs_namespaces/prueba_distribuida/li_fs_client_6_responses/('8118962.619335', 136606.1341123098).jbl\", wd=1, mask=IN_MOVED_TO, cookie=1985531, name=\"('8118962.619335', 136606.1341123098).jbl\">\n",
      "could not find matching move_from event\n",
      "in-event <InotifyEvent: src_path=b\"/home/augusto/python/notebooks/fs_namespaces/prueba_distribuida/li_fs_client_6_responses/('8118962.621922', 428378.74035105103).jbl\", wd=1, mask=IN_MOVED_TO, cookie=1985532, name=\"('8118962.621922', 428378.74035105103).jbl\">\n",
      "could not find matching move_from event\n"
     ]
    },
    {
     "data": {
      "text/plain": [
       "[1.2133915387173353,\n",
       " 0.499801526846248,\n",
       " 0.9540261572215173,\n",
       " 0.39350687308996496,\n",
       " 0.5623737464622602,\n",
       " 1.5456251288086762,\n",
       " 0.08676938869131863,\n",
       " 1.2386650007606028,\n",
       " 0.21483096122392956,\n",
       " 2.037820000442149]"
      ]
     },
     "execution_count": 26,
     "metadata": {},
     "output_type": "execute_result"
    }
   ],
   "source": [
    "[f.get() for f in fs]"
   ]
  },
  {
   "cell_type": "code",
   "execution_count": 27,
   "metadata": {},
   "outputs": [
    {
     "name": "stderr",
     "output_type": "stream",
     "text": [
      "Sent batch request with 10 requests to requests_cola_1\n",
      "in-event <InotifyEvent: src_path=b\"/home/augusto/python/notebooks/fs_namespaces/prueba_distribuida/li_fs_client_6_responses/('8118963.145797', 721586.6523926458).jbl\", wd=1, mask=IN_MOVED_TO, cookie=1985552, name=\"('8118963.145797', 721586.6523926458).jbl\">\n",
      "could not find matching move_from event\n"
     ]
    },
    {
     "data": {
      "text/plain": [
       "[1.2133915387173353,\n",
       " 0.499801526846248,\n",
       " 0.9540261572215173,\n",
       " 0.39350687308996496,\n",
       " 0.5623737464622602,\n",
       " 1.5456251288086762,\n",
       " 0.08676938869131863,\n",
       " 1.2386650007606028,\n",
       " 0.21483096122392956,\n",
       " 2.037820000442149]"
      ]
     },
     "execution_count": 27,
     "metadata": {},
     "output_type": "execute_result"
    }
   ],
   "source": [
    "client.rpc_batch_sync(tp)"
   ]
  },
  {
   "cell_type": "code",
   "execution_count": 28,
   "metadata": {
    "tags": []
   },
   "outputs": [
    {
     "name": "stdout",
     "output_type": "stream",
     "text": [
      "('fake', [0.7723494927635766, 0.4137081970932305], {})\n",
      "('div', [0.6898023934149387, 0.21594858270558115], {})\n",
      "('mul', [0.23740661095464477, 0.3064796460763045], {})\n",
      "('div', [0.12452352687639567, 0.5944971891074516], {})\n",
      "('add', [0.774858545002095, 0.8446122962335769], {})\n",
      "('add', [0.9203856687214624, 0.10769919844990095], {})\n",
      "('div', [0.3149785233298056, 0.5082371633784504], {})\n",
      "('add', [0.4006051988294982, 0.2044453341842798], {})\n",
      "('mul', [0.08744214705920483, 0.5364144789195768], {})\n",
      "('add', [0.4859586400948752, 0.0034151688751927756], {})\n"
     ]
    }
   ],
   "source": [
    "fs =[]\n",
    "tp = []\n",
    "N = 10\n",
    "for i in range(N):\n",
    "    fn = random.choice((\"add\", \"mul\", \"div\", \"fake\"))\n",
    "    t = (fn, [random.random(),random.random()], {})\n",
    "    print(t)\n",
    "    tp.append(t)"
   ]
  },
  {
   "cell_type": "code",
   "execution_count": 29,
   "metadata": {},
   "outputs": [
    {
     "data": {
      "text/plain": [
       "[('fake', [0.7723494927635766, 0.4137081970932305], {}),\n",
       " ('div', [0.6898023934149387, 0.21594858270558115], {}),\n",
       " ('mul', [0.23740661095464477, 0.3064796460763045], {}),\n",
       " ('div', [0.12452352687639567, 0.5944971891074516], {}),\n",
       " ('add', [0.774858545002095, 0.8446122962335769], {}),\n",
       " ('add', [0.9203856687214624, 0.10769919844990095], {}),\n",
       " ('div', [0.3149785233298056, 0.5082371633784504], {}),\n",
       " ('add', [0.4006051988294982, 0.2044453341842798], {}),\n",
       " ('mul', [0.08744214705920483, 0.5364144789195768], {}),\n",
       " ('add', [0.4859586400948752, 0.0034151688751927756], {})]"
      ]
     },
     "execution_count": 29,
     "metadata": {},
     "output_type": "execute_result"
    }
   ],
   "source": [
    "tp"
   ]
  },
  {
   "cell_type": "code",
   "execution_count": 30,
   "metadata": {
    "tags": []
   },
   "outputs": [
    {
     "name": "stderr",
     "output_type": "stream",
     "text": [
      "Sent batch request with 10 requests to requests_cola_1\n"
     ]
    }
   ],
   "source": [
    "client.check_registry =\"never\"\n",
    "client.set_default_queue(\"cola_1\")\n",
    "\n",
    "fs = client.rpc_batch_async(tp)"
   ]
  },
  {
   "cell_type": "code",
   "execution_count": 31,
   "metadata": {},
   "outputs": [
    {
     "name": "stderr",
     "output_type": "stream",
     "text": [
      "in-event <InotifyEvent: src_path=b\"/home/augusto/python/notebooks/fs_namespaces/prueba_distribuida/li_fs_client_6_responses/('8118963.58604', 866586.3797160609).jbl\", wd=1, mask=IN_MOVED_TO, cookie=1985574, name=\"('8118963.58604', 866586.3797160609).jbl\">\n",
      "could not find matching move_from event\n",
      "in-event <InotifyEvent: src_path=b\"/home/augusto/python/notebooks/fs_namespaces/prueba_distribuida/li_fs_client_6_responses/('8118963.588497', 938765.5692062881).jbl\", wd=1, mask=IN_MOVED_TO, cookie=1985575, name=\"('8118963.588497', 938765.5692062881).jbl\">\n",
      "could not find matching move_from event\n"
     ]
    },
    {
     "data": {
      "text/plain": [
       "[None,\n",
       " 3.1942899776072986,\n",
       " 0.07276029410155445,\n",
       " 0.20946024499013877,\n",
       " 1.619470841235672,\n",
       " 1.0280848671713634,\n",
       " 0.61974712993442,\n",
       " 0.605050533013778,\n",
       " 0.046905233750372366,\n",
       " 0.489373808970068]"
      ]
     },
     "execution_count": 31,
     "metadata": {},
     "output_type": "execute_result"
    }
   ],
   "source": [
    "[f.safe_get() for f in fs]"
   ]
  },
  {
   "cell_type": "code",
   "execution_count": 32,
   "metadata": {},
   "outputs": [
    {
     "data": {
      "text/plain": [
       "{}"
      ]
     },
     "execution_count": 32,
     "metadata": {},
     "output_type": "execute_result"
    }
   ],
   "source": [
    "client.responses"
   ]
  },
  {
   "cell_type": "code",
   "execution_count": 33,
   "metadata": {},
   "outputs": [],
   "source": [
    "client.check_registry =\"cache\""
   ]
  },
  {
   "cell_type": "code",
   "execution_count": 34,
   "metadata": {
    "tags": []
   },
   "outputs": [
    {
     "name": "stdout",
     "output_type": "stream",
     "text": [
      "Method fake does not exist/is not available.\n"
     ]
    }
   ],
   "source": [
    "try:\n",
    "    x = client.rpc_batch_sync(tp, timeout=5)\n",
    "except Exception as e:\n",
    "    print(e)"
   ]
  },
  {
   "cell_type": "code",
   "execution_count": 35,
   "metadata": {
    "tags": []
   },
   "outputs": [
    {
     "name": "stdout",
     "output_type": "stream",
     "text": [
      "Method fake does not exist/is not available.\n"
     ]
    }
   ],
   "source": [
    "try:    \n",
    "    x = client.rpc_batch_sync(tp, timeout=5)\n",
    "except Exception as e:\n",
    "    print(e)"
   ]
  },
  {
   "cell_type": "code",
   "execution_count": 36,
   "metadata": {},
   "outputs": [
    {
     "name": "stderr",
     "output_type": "stream",
     "text": [
      "Sent request with id: fs_client_6:58 to queue requests_cola_1\n"
     ]
    }
   ],
   "source": [
    "client.check_registry=\"never\"\n",
    "client.set_default_queue(\"cola_1\")\n",
    "\n",
    "x = client.rpc_async(\"kk\", [1, 0])"
   ]
  },
  {
   "cell_type": "code",
   "execution_count": 37,
   "metadata": {
    "tags": []
   },
   "outputs": [
    {
     "name": "stderr",
     "output_type": "stream",
     "text": [
      "in-event <InotifyEvent: src_path=b\"/home/augusto/python/notebooks/fs_namespaces/prueba_distribuida/li_fs_client_6_responses/('8118964.303855', 869299.9298217205).jbl\", wd=1, mask=IN_MOVED_TO, cookie=1985596, name=\"('8118964.303855', 869299.9298217205).jbl\">\n",
      "could not find matching move_from event\n"
     ]
    },
    {
     "name": "stdout",
     "output_type": "stream",
     "text": [
      "Error -32601 : The method does not exist/is not available.\n",
      "\n",
      " \n"
     ]
    }
   ],
   "source": [
    "try:\n",
    "    x.get()\n",
    "except Exception as e:\n",
    "    print(e)"
   ]
  },
  {
   "cell_type": "code",
   "execution_count": 38,
   "metadata": {},
   "outputs": [
    {
     "name": "stderr",
     "output_type": "stream",
     "text": [
      "Sent request with id: fs_client_6:59 to queue requests_cola_1\n"
     ]
    }
   ],
   "source": [
    "y = client.rpc_async(\"add\", [1, 0])"
   ]
  },
  {
   "cell_type": "code",
   "execution_count": 39,
   "metadata": {},
   "outputs": [
    {
     "name": "stderr",
     "output_type": "stream",
     "text": [
      "in-event <InotifyEvent: src_path=b\"/home/augusto/python/notebooks/fs_namespaces/prueba_distribuida/li_fs_client_6_responses/('8118964.814213', 3171.2030027027936).jbl\", wd=1, mask=IN_MOVED_TO, cookie=1985600, name=\"('8118964.814213', 3171.2030027027936).jbl\">\n",
      "could not find matching move_from event\n"
     ]
    },
    {
     "data": {
      "text/plain": [
       "1"
      ]
     },
     "execution_count": 39,
     "metadata": {},
     "output_type": "execute_result"
    }
   ],
   "source": [
    "y.get(5)"
   ]
  },
  {
   "cell_type": "code",
   "execution_count": 40,
   "metadata": {
    "tags": []
   },
   "outputs": [
    {
     "name": "stderr",
     "output_type": "stream",
     "text": [
      "Sent request with id: fs_client_6:60 to queue requests_cola_1\n",
      "in-event <InotifyEvent: src_path=b\"/home/augusto/python/notebooks/fs_namespaces/prueba_distribuida/li_fs_client_6_responses/('8118965.404878', 990908.5086094491).jbl\", wd=1, mask=IN_MOVED_TO, cookie=1985604, name=\"('8118965.404878', 990908.5086094491).jbl\">\n",
      "could not find matching move_from event\n"
     ]
    },
    {
     "name": "stdout",
     "output_type": "stream",
     "text": [
      "Error -32601 : The method does not exist/is not available.\n",
      "\n",
      " \n"
     ]
    }
   ],
   "source": [
    "def f(x,y): return x + y\n",
    "\n",
    "client.check_registry=\"never\"\n",
    "y = client.rpc_async_fn(f, [1, 2.0])\n",
    "try:\n",
    "    y.get()\n",
    "except Exception as e:\n",
    "    print(e)"
   ]
  }
 ],
 "metadata": {
  "kernelspec": {
   "display_name": "Python 3 (ipykernel)",
   "language": "python",
   "name": "python3"
  },
  "language_info": {
   "codemirror_mode": {
    "name": "ipython",
    "version": 3
   },
   "file_extension": ".py",
   "mimetype": "text/x-python",
   "name": "python",
   "nbconvert_exporter": "python",
   "pygments_lexer": "ipython3",
   "version": "3.13.2"
  }
 },
 "nbformat": 4,
 "nbformat_minor": 4
}
