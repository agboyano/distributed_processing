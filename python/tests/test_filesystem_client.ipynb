{
 "cells": [
  {
   "cell_type": "code",
   "execution_count": 8,
   "metadata": {},
   "outputs": [],
   "source": [
    "import sys"
   ]
  },
  {
   "cell_type": "code",
   "execution_count": 9,
   "metadata": {},
   "outputs": [],
   "source": [
    "import random\n",
    "\n",
    "from distributed_processing.serializers import DummySerializer\n",
    "from distributed_processing.client import Client\n",
    "from distributed_processing.filesystem_connector import FileSystemConnector\n"
   ]
  },
  {
   "cell_type": "code",
   "execution_count": 10,
   "metadata": {},
   "outputs": [],
   "source": [
    "DIRECTORY = 'G:/home/prueba_distribuida_fs'\n",
    "NAMESPACE = \"tasks\""
   ]
  },
  {
   "cell_type": "code",
   "execution_count": 11,
   "metadata": {},
   "outputs": [],
   "source": [
    "import logging\n",
    "logging.basicConfig(level=logging.DEBUG)"
   ]
  },
  {
   "cell_type": "code",
   "execution_count": 12,
   "metadata": {
    "tags": []
   },
   "outputs": [
    {
     "name": "stderr",
     "output_type": "stream",
     "text": [
      "Client with id: redis_client_1\n",
      "Results queue: redis_client_1_responses\n"
     ]
    }
   ],
   "source": [
    "fs_connector = FileSystemConnector(directory=DIRECTORY, namespace=NAMESPACE)\n",
    "\n",
    "client = Client(DummySerializer(), fs_connector, check_registry=\"cache\")"
   ]
  },
  {
   "cell_type": "code",
   "execution_count": 13,
   "metadata": {},
   "outputs": [
    {
     "data": {
      "text/plain": [
       "{'add': ['requests_cola_1'],\n",
       " 'mul': ['requests_cola_1'],\n",
       " 'div': ['requests_cola_1'],\n",
       " 'eval_py_function': ['requests_py_eval']}"
      ]
     },
     "execution_count": 13,
     "metadata": {},
     "output_type": "execute_result"
    }
   ],
   "source": [
    "fs_connector.methods_registry()"
   ]
  },
  {
   "cell_type": "code",
   "execution_count": 14,
   "metadata": {},
   "outputs": [],
   "source": [
    "y = client.rpc_async(\"add\", [1, 0])"
   ]
  },
  {
   "cell_type": "code",
   "execution_count": 15,
   "metadata": {},
   "outputs": [
    {
     "data": {
      "text/plain": [
       "1"
      ]
     },
     "execution_count": 15,
     "metadata": {},
     "output_type": "execute_result"
    }
   ],
   "source": [
    "y.get()"
   ]
  },
  {
   "cell_type": "code",
   "execution_count": 16,
   "metadata": {},
   "outputs": [
    {
     "name": "stdout",
     "output_type": "stream",
     "text": [
      "'method_queues_fake'\n"
     ]
    }
   ],
   "source": [
    "client.check_registry =\"always\"\n",
    "\n",
    "try:\n",
    "    y = client.rpc_async(\"fake\", [1, 0])\n",
    "except Exception as e:\n",
    "    print(e)"
   ]
  },
  {
   "cell_type": "code",
   "execution_count": 17,
   "metadata": {},
   "outputs": [
    {
     "name": "stdout",
     "output_type": "stream",
     "text": [
      "Error -32601 : The method does not exist/is not available.\n",
      "\n",
      " \n"
     ]
    }
   ],
   "source": [
    "client.check_registry =\"never\"\n",
    "client.set_default_queue(\"cola_1\")\n",
    "\n",
    "y = client.rpc_async(\"fake\", [1, 0])\n",
    "\n",
    "try:\n",
    "    y.get()\n",
    "except Exception as e:\n",
    "    print(e)\n"
   ]
  },
  {
   "cell_type": "code",
   "execution_count": 18,
   "metadata": {},
   "outputs": [
    {
     "data": {
      "text/plain": [
       "'Esto es un error'"
      ]
     },
     "execution_count": 18,
     "metadata": {},
     "output_type": "execute_result"
    }
   ],
   "source": [
    "client.check_registry =\"never\"\n",
    "client.set_default_queue(\"cola_1\")\n",
    "\n",
    "y = client.rpc_async(\"fake\", [1, 0])\n",
    "\n",
    "y.safe_get(default=\"Esto es un error\")"
   ]
  },
  {
   "cell_type": "code",
   "execution_count": 19,
   "metadata": {},
   "outputs": [],
   "source": [
    "client.check_registry =\"cache\""
   ]
  },
  {
   "cell_type": "code",
   "execution_count": 20,
   "metadata": {},
   "outputs": [],
   "source": [
    "x = client.rpc_async(\"div\", [1, 0])"
   ]
  },
  {
   "cell_type": "code",
   "execution_count": 21,
   "metadata": {},
   "outputs": [
    {
     "name": "stdout",
     "output_type": "stream",
     "text": [
      "Error -32603 : Internal RPC error.\n",
      "\n",
      " Traceback (most recent call last):\n",
      "  File \"G:\\python\\distributed_processing\\python\\distributed_processing\\worker.py\", line 152, in _process_single_request\n",
      "    result = func[request[\"method\"]](*args, **kwargs)\n",
      "             ^^^^^^^^^^^^^^^^^^^^^^^^^^^^^^^^^^^^^^^^\n",
      "  File \"C:\\Users\\agarcia\\AppData\\Local\\Temp\\ipykernel_12760\\1866336200.py\", line 8, in div\n",
      "    return x / y\n",
      "           ~~^~~\n",
      "ZeroDivisionError: division by zero\n",
      "\n"
     ]
    }
   ],
   "source": [
    "try:\n",
    "    x.get()\n",
    "except Exception as e:\n",
    "    print(e)"
   ]
  },
  {
   "cell_type": "code",
   "execution_count": 22,
   "metadata": {},
   "outputs": [
    {
     "data": {
      "text/plain": [
       "2"
      ]
     },
     "execution_count": 22,
     "metadata": {},
     "output_type": "execute_result"
    }
   ],
   "source": [
    "client.rpc_sync(\"add\", [1, 1])"
   ]
  },
  {
   "cell_type": "code",
   "execution_count": 23,
   "metadata": {},
   "outputs": [],
   "source": [
    "def f(x,y): return x + y\n",
    "\n",
    "y = client.rpc_async_fn(f, [1, 2.0])"
   ]
  },
  {
   "cell_type": "code",
   "execution_count": 24,
   "metadata": {},
   "outputs": [
    {
     "data": {
      "text/plain": [
       "3.0"
      ]
     },
     "execution_count": 24,
     "metadata": {},
     "output_type": "execute_result"
    }
   ],
   "source": [
    "y.get()"
   ]
  },
  {
   "cell_type": "code",
   "execution_count": 25,
   "metadata": {},
   "outputs": [
    {
     "data": {
      "text/plain": [
       "5.0"
      ]
     },
     "execution_count": 25,
     "metadata": {},
     "output_type": "execute_result"
    }
   ],
   "source": [
    "client.rpc_sync_fn(f, [3.0, 2.0])"
   ]
  },
  {
   "cell_type": "code",
   "execution_count": 26,
   "metadata": {
    "tags": []
   },
   "outputs": [
    {
     "name": "stdout",
     "output_type": "stream",
     "text": [
      "('mul', [0.07284977345395194, 0.33457915029296403], {})\n",
      "('div', [0.8435213207876749, 0.529404512660957], {})\n",
      "('add', [0.26509239688356045, 0.028504495412920994], {})\n",
      "('mul', [0.9680013233945953, 0.031346875835001176], {})\n",
      "('div', [0.9588680661997471, 0.3072546004808958], {})\n",
      "('add', [0.3937078171709585, 0.07458495896081985], {})\n",
      "('div', [0.9088772237541215, 0.8903512705169007], {})\n",
      "('mul', [0.4808217539107479, 0.5599169571920303], {})\n",
      "('mul', [0.5713840330740967, 0.8393599224794034], {})\n",
      "('mul', [0.7966565301123274, 0.7192718977789261], {})\n"
     ]
    }
   ],
   "source": [
    "fs =[]\n",
    "tp = []\n",
    "N = 10\n",
    "for i in range(N):\n",
    "    fn = random.choice((\"add\", \"mul\", \"div\"))\n",
    "    t = (fn, [random.random(),random.random()], {})\n",
    "    print(t)\n",
    "    tp.append(t)\n",
    "    fs.append(client.rpc_async(t[0], t[1]))"
   ]
  },
  {
   "cell_type": "code",
   "execution_count": 27,
   "metadata": {},
   "outputs": [
    {
     "data": {
      "text/plain": [
       "[0.024374015301258167,\n",
       " 1.5933398764356315,\n",
       " 0.29359689229648145,\n",
       " 0.030343817292567198,\n",
       " 3.12076064833199,\n",
       " 0.46829277613177833,\n",
       " 1.0208074653798893,\n",
       " 0.2692202534014411,\n",
       " 0.47959685770704263,\n",
       " 0.5730126542918679]"
      ]
     },
     "execution_count": 27,
     "metadata": {},
     "output_type": "execute_result"
    }
   ],
   "source": [
    "[f.get() for f in fs]"
   ]
  },
  {
   "cell_type": "code",
   "execution_count": 28,
   "metadata": {},
   "outputs": [
    {
     "data": {
      "text/plain": [
       "[('mul', [0.07284977345395194, 0.33457915029296403], {}),\n",
       " ('div', [0.8435213207876749, 0.529404512660957], {}),\n",
       " ('add', [0.26509239688356045, 0.028504495412920994], {}),\n",
       " ('mul', [0.9680013233945953, 0.031346875835001176], {}),\n",
       " ('div', [0.9588680661997471, 0.3072546004808958], {}),\n",
       " ('add', [0.3937078171709585, 0.07458495896081985], {}),\n",
       " ('div', [0.9088772237541215, 0.8903512705169007], {}),\n",
       " ('mul', [0.4808217539107479, 0.5599169571920303], {}),\n",
       " ('mul', [0.5713840330740967, 0.8393599224794034], {}),\n",
       " ('mul', [0.7966565301123274, 0.7192718977789261], {})]"
      ]
     },
     "execution_count": 28,
     "metadata": {},
     "output_type": "execute_result"
    }
   ],
   "source": [
    "tp"
   ]
  },
  {
   "cell_type": "code",
   "execution_count": 29,
   "metadata": {},
   "outputs": [],
   "source": [
    "fs = client.rpc_batch_async(tp)"
   ]
  },
  {
   "cell_type": "code",
   "execution_count": 30,
   "metadata": {},
   "outputs": [
    {
     "data": {
      "text/plain": [
       "[0.024374015301258167,\n",
       " 1.5933398764356315,\n",
       " 0.29359689229648145,\n",
       " 0.030343817292567198,\n",
       " 3.12076064833199,\n",
       " 0.46829277613177833,\n",
       " 1.0208074653798893,\n",
       " 0.2692202534014411,\n",
       " 0.47959685770704263,\n",
       " 0.5730126542918679]"
      ]
     },
     "execution_count": 30,
     "metadata": {},
     "output_type": "execute_result"
    }
   ],
   "source": [
    "[f.get() for f in fs]"
   ]
  },
  {
   "cell_type": "code",
   "execution_count": 31,
   "metadata": {},
   "outputs": [
    {
     "data": {
      "text/plain": [
       "[0.024374015301258167,\n",
       " 1.5933398764356315,\n",
       " 0.29359689229648145,\n",
       " 0.030343817292567198,\n",
       " 3.12076064833199,\n",
       " 0.46829277613177833,\n",
       " 1.0208074653798893,\n",
       " 0.2692202534014411,\n",
       " 0.47959685770704263,\n",
       " 0.5730126542918679]"
      ]
     },
     "execution_count": 31,
     "metadata": {},
     "output_type": "execute_result"
    }
   ],
   "source": [
    "client.rpc_batch_sync(tp)"
   ]
  },
  {
   "cell_type": "code",
   "execution_count": 32,
   "metadata": {
    "tags": []
   },
   "outputs": [
    {
     "name": "stdout",
     "output_type": "stream",
     "text": [
      "('mul', [0.8499289469786534, 0.03632374481764511], {})\n",
      "('fake', [0.725250615108435, 0.5351738156407977], {})\n",
      "('div', [0.06526901269081709, 0.6564031134704447], {})\n",
      "('add', [0.11420207380494318, 0.6312388857553197], {})\n",
      "('fake', [0.4940876558010089, 0.2666376858551993], {})\n",
      "('mul', [0.2823006430244913, 0.7524879154535552], {})\n",
      "('mul', [0.3915748235417875, 0.9252532509158119], {})\n",
      "('add', [0.5571186581319969, 0.06738624895943524], {})\n",
      "('add', [0.43174721953883566, 0.8589657662401902], {})\n",
      "('mul', [0.8229174015784586, 0.9590364431448951], {})\n"
     ]
    }
   ],
   "source": [
    "fs =[]\n",
    "tp = []\n",
    "N = 10\n",
    "for i in range(N):\n",
    "    fn = random.choice((\"add\", \"mul\", \"div\", \"fake\"))\n",
    "    t = (fn, [random.random(),random.random()], {})\n",
    "    print(t)\n",
    "    tp.append(t)"
   ]
  },
  {
   "cell_type": "code",
   "execution_count": 33,
   "metadata": {},
   "outputs": [
    {
     "data": {
      "text/plain": [
       "[('mul', [0.8499289469786534, 0.03632374481764511], {}),\n",
       " ('fake', [0.725250615108435, 0.5351738156407977], {}),\n",
       " ('div', [0.06526901269081709, 0.6564031134704447], {}),\n",
       " ('add', [0.11420207380494318, 0.6312388857553197], {}),\n",
       " ('fake', [0.4940876558010089, 0.2666376858551993], {}),\n",
       " ('mul', [0.2823006430244913, 0.7524879154535552], {}),\n",
       " ('mul', [0.3915748235417875, 0.9252532509158119], {}),\n",
       " ('add', [0.5571186581319969, 0.06738624895943524], {}),\n",
       " ('add', [0.43174721953883566, 0.8589657662401902], {}),\n",
       " ('mul', [0.8229174015784586, 0.9590364431448951], {})]"
      ]
     },
     "execution_count": 33,
     "metadata": {},
     "output_type": "execute_result"
    }
   ],
   "source": [
    "tp"
   ]
  },
  {
   "cell_type": "code",
   "execution_count": 34,
   "metadata": {
    "tags": []
   },
   "outputs": [],
   "source": [
    "client.check_registry =\"never\"\n",
    "client.set_default_queue(\"cola_1\")\n",
    "\n",
    "fs = client.rpc_batch_async(tp)"
   ]
  },
  {
   "cell_type": "code",
   "execution_count": 35,
   "metadata": {},
   "outputs": [
    {
     "data": {
      "text/plain": [
       "[0.030872602183182427,\n",
       " None,\n",
       " 0.09943434354803056,\n",
       " 0.7454409595602629,\n",
       " None,\n",
       " 0.21242782240069769,\n",
       " 0.3623058784588243,\n",
       " 0.6245049070914321,\n",
       " 1.2907129857790258,\n",
       " 0.7892077778118443]"
      ]
     },
     "execution_count": 35,
     "metadata": {},
     "output_type": "execute_result"
    }
   ],
   "source": [
    "[f.safe_get() for f in fs]"
   ]
  },
  {
   "cell_type": "code",
   "execution_count": 36,
   "metadata": {},
   "outputs": [],
   "source": [
    "client.check_registry =\"cache\""
   ]
  },
  {
   "cell_type": "code",
   "execution_count": 37,
   "metadata": {
    "tags": []
   },
   "outputs": [
    {
     "name": "stdout",
     "output_type": "stream",
     "text": [
      "Method fake does not exist/is not available.\n"
     ]
    }
   ],
   "source": [
    "try:\n",
    "    x = client.rpc_batch_sync(tp, timeout=5)\n",
    "except Exception as e:\n",
    "    print(e)"
   ]
  },
  {
   "cell_type": "code",
   "execution_count": 38,
   "metadata": {
    "tags": []
   },
   "outputs": [
    {
     "name": "stdout",
     "output_type": "stream",
     "text": [
      "Method fake does not exist/is not available.\n"
     ]
    }
   ],
   "source": [
    "try:    \n",
    "    x = client.rpc_batch_sync(tp, timeout=5)\n",
    "except Exception as e:\n",
    "    print(e)"
   ]
  },
  {
   "cell_type": "code",
   "execution_count": 39,
   "metadata": {},
   "outputs": [],
   "source": [
    "client.check_registry=\"never\"\n",
    "client.set_default_queue(\"cola_1\")\n",
    "\n",
    "x = client.rpc_async(\"kk\", [1, 0])"
   ]
  },
  {
   "cell_type": "code",
   "execution_count": 40,
   "metadata": {
    "tags": []
   },
   "outputs": [
    {
     "name": "stdout",
     "output_type": "stream",
     "text": [
      "Error -32601 : The method does not exist/is not available.\n",
      "\n",
      " \n"
     ]
    }
   ],
   "source": [
    "try:\n",
    "    x.get()\n",
    "except Exception as e:\n",
    "    print(e)"
   ]
  },
  {
   "cell_type": "code",
   "execution_count": 41,
   "metadata": {},
   "outputs": [],
   "source": [
    "y = client.rpc_async(\"add\", [1, 0])"
   ]
  },
  {
   "cell_type": "code",
   "execution_count": 42,
   "metadata": {},
   "outputs": [
    {
     "data": {
      "text/plain": [
       "1"
      ]
     },
     "execution_count": 42,
     "metadata": {},
     "output_type": "execute_result"
    }
   ],
   "source": [
    "y.get(5)"
   ]
  },
  {
   "cell_type": "code",
   "execution_count": 43,
   "metadata": {
    "tags": []
   },
   "outputs": [
    {
     "name": "stdout",
     "output_type": "stream",
     "text": [
      "Error -32601 : The method does not exist/is not available.\n",
      "\n",
      " \n"
     ]
    }
   ],
   "source": [
    "def f(x,y): return x + y\n",
    "\n",
    "client.check_registry=\"never\"\n",
    "y = client.rpc_async_fn(f, [1, 2.0])\n",
    "try:\n",
    "    y.get()\n",
    "except Exception as e:\n",
    "    print(e)"
   ]
  }
 ],
 "metadata": {
  "kernelspec": {
   "display_name": "Python 3 (ipykernel)",
   "language": "python",
   "name": "python3"
  },
  "language_info": {
   "codemirror_mode": {
    "name": "ipython",
    "version": 3
   },
   "file_extension": ".py",
   "mimetype": "text/x-python",
   "name": "python",
   "nbconvert_exporter": "python",
   "pygments_lexer": "ipython3",
   "version": "3.12.9"
  }
 },
 "nbformat": 4,
 "nbformat_minor": 4
}
