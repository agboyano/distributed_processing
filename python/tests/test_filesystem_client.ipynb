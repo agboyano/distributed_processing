{
 "cells": [
  {
   "cell_type": "code",
   "execution_count": 1,
   "metadata": {},
   "outputs": [],
   "source": [
    "import random\n",
    "\n",
    "from distributed_processing.serializers import DummySerializer\n",
    "from distributed_processing.client import Client\n",
    "from distributed_processing.filesystem_connector import FileSystemConnector\n"
   ]
  },
  {
   "cell_type": "code",
   "execution_count": 2,
   "metadata": {},
   "outputs": [],
   "source": [
    "CURRO = True\n",
    "\n",
    "if CURRO:\n",
    "    NS_PATH =\"G:\\\\fs_namespaces\\\\prueba_distribuida\"\n",
    "    NS_PATH =\"C:\\\\fs_namespaces\\\\prueba_distribuida\"\n",
    "\n",
    "else:\n",
    "    NS_PATH = \"/home/augusto/python/notebooks/fs_namespaces/prueba_distribuida\"\n"
   ]
  },
  {
   "cell_type": "code",
   "execution_count": 3,
   "metadata": {},
   "outputs": [],
   "source": [
    "import logging\n",
    "logging.getLogger(\"distributed_processing\").setLevel(logging.DEBUG)\n",
    "#logging.getLogger(\"distributed_processing.filesystem_connector\").setLevel(logging.DEBUG)"
   ]
  },
  {
   "cell_type": "code",
   "execution_count": 4,
   "metadata": {
    "tags": []
   },
   "outputs": [
    {
     "name": "stderr",
     "output_type": "stream",
     "text": [
      "registry_lock set\n"
     ]
    },
    {
     "name": "stderr",
     "output_type": "stream",
     "text": [
      "registry_lock unset\n",
      "nclients_lock set\n",
      "nclients_lock unset\n",
      "Client with id: fs_client_9\n",
      "Results queue: fs_client_9_responses\n"
     ]
    }
   ],
   "source": [
    "fs_connector = FileSystemConnector(NS_PATH)\n",
    "fs_connector.with_watchdog=True\n",
    "fs_connector.pop_watchdog_timeout = 10\n",
    "\n",
    "client = Client(DummySerializer(), fs_connector, check_registry=\"cache\")"
   ]
  },
  {
   "cell_type": "code",
   "execution_count": 5,
   "metadata": {},
   "outputs": [
    {
     "name": "stderr",
     "output_type": "stream",
     "text": [
      "registry_lock set\n",
      "registry_lock unset\n"
     ]
    },
    {
     "data": {
      "text/plain": [
       "{'add': ['requests_cola_1'],\n",
       " 'div': ['requests_cola_1'],\n",
       " 'eval_py_function': ['requests_py_eval'],\n",
       " 'mul': ['requests_cola_1']}"
      ]
     },
     "execution_count": 5,
     "metadata": {},
     "output_type": "execute_result"
    }
   ],
   "source": [
    "fs_connector.methods_registry()"
   ]
  },
  {
   "cell_type": "code",
   "execution_count": 6,
   "metadata": {},
   "outputs": [
    {
     "name": "stderr",
     "output_type": "stream",
     "text": [
      "Sent request with id: fs_client_9:1 to queue requests_cola_1\n"
     ]
    }
   ],
   "source": [
    "y = client.rpc_async(\"add\", [1, 0])"
   ]
  },
  {
   "cell_type": "code",
   "execution_count": 7,
   "metadata": {},
   "outputs": [
    {
     "data": {
      "text/plain": [
       "1"
      ]
     },
     "execution_count": 7,
     "metadata": {},
     "output_type": "execute_result"
    }
   ],
   "source": [
    "y.get()"
   ]
  },
  {
   "cell_type": "code",
   "execution_count": 8,
   "metadata": {},
   "outputs": [
    {
     "name": "stdout",
     "output_type": "stream",
     "text": [
      "'method_queues_fake'\n"
     ]
    }
   ],
   "source": [
    "client.check_registry =\"always\"\n",
    "\n",
    "try:\n",
    "    y = client.rpc_async(\"fake\", [1, 0])\n",
    "except Exception as e:\n",
    "    print(e)"
   ]
  },
  {
   "cell_type": "code",
   "execution_count": 9,
   "metadata": {},
   "outputs": [
    {
     "name": "stderr",
     "output_type": "stream",
     "text": [
      "Sent request with id: fs_client_9:2 to queue requests_cola_1\n"
     ]
    },
    {
     "name": "stdout",
     "output_type": "stream",
     "text": [
      "Error -32601 : The method does not exist/is not available.\n",
      "\n",
      " \n"
     ]
    }
   ],
   "source": [
    "client.check_registry =\"never\"\n",
    "client.set_default_queue(\"cola_1\")\n",
    "\n",
    "y = client.rpc_async(\"fake\", [1, 0])\n",
    "\n",
    "try:\n",
    "    y.get()\n",
    "except Exception as e:\n",
    "    print(e)\n"
   ]
  },
  {
   "cell_type": "code",
   "execution_count": 10,
   "metadata": {},
   "outputs": [
    {
     "name": "stderr",
     "output_type": "stream",
     "text": [
      "Sent request with id: fs_client_9:3 to queue requests_cola_1\n"
     ]
    },
    {
     "data": {
      "text/plain": [
       "'Esto es un error'"
      ]
     },
     "execution_count": 10,
     "metadata": {},
     "output_type": "execute_result"
    }
   ],
   "source": [
    "client.check_registry =\"never\"\n",
    "client.set_default_queue(\"cola_1\")\n",
    "\n",
    "y = client.rpc_async(\"fake\", [1, 0])\n",
    "\n",
    "y.safe_get(default=\"Esto es un error\")"
   ]
  },
  {
   "cell_type": "code",
   "execution_count": 11,
   "metadata": {},
   "outputs": [],
   "source": [
    "client.check_registry =\"cache\""
   ]
  },
  {
   "cell_type": "code",
   "execution_count": 12,
   "metadata": {},
   "outputs": [
    {
     "name": "stderr",
     "output_type": "stream",
     "text": [
      "Sent request with id: fs_client_9:4 to queue requests_cola_1\n"
     ]
    }
   ],
   "source": [
    "x = client.rpc_async(\"div\", [1, 0])"
   ]
  },
  {
   "cell_type": "code",
   "execution_count": 13,
   "metadata": {},
   "outputs": [
    {
     "name": "stdout",
     "output_type": "stream",
     "text": [
      "Error -32603 : Internal RPC error.\n",
      "\n",
      " Traceback (most recent call last):\n",
      "  File \"G:\\python\\distributed_processing\\python\\distributed_processing\\worker.py\", line 149, in _process_single_request\n",
      "    result = func[request[\"method\"]](*args, **kwargs)\n",
      "             ^^^^^^^^^^^^^^^^^^^^^^^^^^^^^^^^^^^^^^^^\n",
      "  File \"C:\\Users\\agarcia\\AppData\\Local\\Temp\\ipykernel_20736\\1866336200.py\", line 8, in div\n",
      "    return x / y\n",
      "           ~~^~~\n",
      "ZeroDivisionError: division by zero\n",
      "\n"
     ]
    }
   ],
   "source": [
    "try:\n",
    "    x.get()\n",
    "except Exception as e:\n",
    "    print(e)"
   ]
  },
  {
   "cell_type": "code",
   "execution_count": 14,
   "metadata": {},
   "outputs": [
    {
     "name": "stderr",
     "output_type": "stream",
     "text": [
      "Sent request with id: fs_client_9:5 to queue requests_cola_1\n"
     ]
    },
    {
     "data": {
      "text/plain": [
       "2"
      ]
     },
     "execution_count": 14,
     "metadata": {},
     "output_type": "execute_result"
    }
   ],
   "source": [
    "client.rpc_sync(\"add\", [1, 1])"
   ]
  },
  {
   "cell_type": "code",
   "execution_count": 15,
   "metadata": {},
   "outputs": [
    {
     "name": "stderr",
     "output_type": "stream",
     "text": [
      "Sent request with id: fs_client_9:6 to queue requests_py_eval\n"
     ]
    }
   ],
   "source": [
    "def f(x,y): return x + y\n",
    "\n",
    "y = client.rpc_async_fn(f, [1, 2.0])"
   ]
  },
  {
   "cell_type": "code",
   "execution_count": 16,
   "metadata": {},
   "outputs": [
    {
     "data": {
      "text/plain": [
       "3.0"
      ]
     },
     "execution_count": 16,
     "metadata": {},
     "output_type": "execute_result"
    }
   ],
   "source": [
    "y.get()"
   ]
  },
  {
   "cell_type": "code",
   "execution_count": 17,
   "metadata": {},
   "outputs": [
    {
     "name": "stderr",
     "output_type": "stream",
     "text": [
      "Sent request with id: fs_client_9:7 to queue requests_py_eval\n"
     ]
    },
    {
     "data": {
      "text/plain": [
       "5.0"
      ]
     },
     "execution_count": 17,
     "metadata": {},
     "output_type": "execute_result"
    }
   ],
   "source": [
    "client.rpc_sync_fn(f, [3.0, 2.0])"
   ]
  },
  {
   "cell_type": "code",
   "execution_count": 41,
   "metadata": {
    "tags": []
   },
   "outputs": [
    {
     "name": "stderr",
     "output_type": "stream",
     "text": [
      "Sent request with id: fs_client_9:61 to queue requests_cola_1\n",
      "Sent request with id: fs_client_9:62 to queue requests_cola_1\n"
     ]
    },
    {
     "name": "stderr",
     "output_type": "stream",
     "text": [
      "Sent request with id: fs_client_9:63 to queue requests_cola_1\n",
      "Sent request with id: fs_client_9:64 to queue requests_cola_1\n",
      "Sent request with id: fs_client_9:65 to queue requests_cola_1\n",
      "Sent request with id: fs_client_9:66 to queue requests_cola_1\n",
      "Sent request with id: fs_client_9:67 to queue requests_cola_1\n",
      "Sent request with id: fs_client_9:68 to queue requests_cola_1\n"
     ]
    },
    {
     "name": "stdout",
     "output_type": "stream",
     "text": [
      "('div', [0.21861316807493014, 0.6555079784846946], {})\n",
      "('add', [0.5378880682634101, 0.8144833232797576], {})\n",
      "('mul', [0.6696128016002426, 0.7225986240249452], {})\n",
      "('add', [0.5609003531352541, 0.48596425868353843], {})\n",
      "('div', [0.855759719144058, 0.7556443896992038], {})\n",
      "('div', [0.11307516930554684, 0.9382068372231882], {})\n",
      "('add', [0.5310446207870345, 0.4965417023328643], {})\n",
      "('div', [0.12747335396747672, 0.6398222538622869], {})\n",
      "('div', [0.02612810103003549, 0.7728322458610023], {})\n"
     ]
    },
    {
     "name": "stderr",
     "output_type": "stream",
     "text": [
      "Sent request with id: fs_client_9:69 to queue requests_cola_1\n",
      "Sent request with id: fs_client_9:70 to queue requests_cola_1\n"
     ]
    },
    {
     "name": "stdout",
     "output_type": "stream",
     "text": [
      "('add', [0.9401441799985025, 0.5090111055476992], {})\n"
     ]
    }
   ],
   "source": [
    "fs =[]\n",
    "tp = []\n",
    "N = 10\n",
    "for i in range(N):\n",
    "    fn = random.choice((\"add\", \"mul\", \"div\"))\n",
    "    t = (fn, [random.random(),random.random()], {})\n",
    "    print(t)\n",
    "    tp.append(t)\n",
    "    fs.append(client.rpc_async(t[0], t[1]))"
   ]
  },
  {
   "cell_type": "code",
   "execution_count": 42,
   "metadata": {},
   "outputs": [
    {
     "data": {
      "text/plain": [
       "[0.3335019179786147,\n",
       " 1.3523713915431677,\n",
       " 0.483861289065824,\n",
       " 1.0468646118187925,\n",
       " 1.1324900056291118,\n",
       " 0.12052264470829858,\n",
       " 1.0275863231198987,\n",
       " 0.1992324480712946,\n",
       " 0.0338082438588293,\n",
       " 1.4491552855462018]"
      ]
     },
     "execution_count": 42,
     "metadata": {},
     "output_type": "execute_result"
    }
   ],
   "source": [
    "[f.get() for f in fs]"
   ]
  },
  {
   "cell_type": "code",
   "execution_count": 43,
   "metadata": {},
   "outputs": [
    {
     "name": "stderr",
     "output_type": "stream",
     "text": [
      "Sent request with id: fs_client_9:71 to queue requests_cola_1\n",
      "Sent request with id: fs_client_9:72 to queue requests_cola_1\n"
     ]
    },
    {
     "name": "stderr",
     "output_type": "stream",
     "text": [
      "Sent request with id: fs_client_9:73 to queue requests_cola_1\n",
      "Sent request with id: fs_client_9:74 to queue requests_cola_1\n",
      "Sent request with id: fs_client_9:75 to queue requests_cola_1\n",
      "Sent request with id: fs_client_9:76 to queue requests_cola_1\n",
      "Sent request with id: fs_client_9:77 to queue requests_cola_1\n",
      "Sent request with id: fs_client_9:78 to queue requests_cola_1\n",
      "Sent request with id: fs_client_9:79 to queue requests_cola_1\n",
      "Sent request with id: fs_client_9:80 to queue requests_cola_1\n"
     ]
    }
   ],
   "source": [
    "fs = client.rpc_multi_async(tp)"
   ]
  },
  {
   "cell_type": "code",
   "execution_count": 44,
   "metadata": {},
   "outputs": [
    {
     "data": {
      "text/plain": [
       "['PENDING',\n",
       " 'PENDING',\n",
       " 'PENDING',\n",
       " 'PENDING',\n",
       " 'PENDING',\n",
       " 'PENDING',\n",
       " 'PENDING',\n",
       " 'PENDING',\n",
       " 'PENDING',\n",
       " 'PENDING']"
      ]
     },
     "execution_count": 44,
     "metadata": {},
     "output_type": "execute_result"
    }
   ],
   "source": [
    "[f.status for f in fs]"
   ]
  },
  {
   "cell_type": "code",
   "execution_count": 22,
   "metadata": {},
   "outputs": [],
   "source": [
    "client._fetch_all_available_responses()"
   ]
  },
  {
   "cell_type": "code",
   "execution_count": 23,
   "metadata": {},
   "outputs": [
    {
     "data": {
      "text/plain": [
       "{'fs_client_9:18': 1745488997.8393955,\n",
       " 'fs_client_9:19': 1745488997.8548253,\n",
       " 'fs_client_9:20': 1745488997.8716102,\n",
       " 'fs_client_9:21': 1745488997.900639,\n",
       " 'fs_client_9:22': 1745488997.9218779,\n",
       " 'fs_client_9:23': 1745488997.940089,\n",
       " 'fs_client_9:24': 1745488997.959467,\n",
       " 'fs_client_9:25': 1745488997.989041,\n",
       " 'fs_client_9:26': 1745488998.0059712,\n",
       " 'fs_client_9:27': 1745488998.0260777}"
      ]
     },
     "execution_count": 23,
     "metadata": {},
     "output_type": "execute_result"
    }
   ],
   "source": [
    "client.pending"
   ]
  },
  {
   "cell_type": "code",
   "execution_count": 24,
   "metadata": {},
   "outputs": [
    {
     "data": {
      "text/plain": [
       "[1.6053825103201924,\n",
       " 0.21251333476294876,\n",
       " 2.501937321749925,\n",
       " 1.474165687291201,\n",
       " 1.2075749299779535,\n",
       " 3.469194038690695,\n",
       " 0.8636156312848585,\n",
       " 1.9391721090064737,\n",
       " 1.7402308591958786,\n",
       " 1.8327709439917517]"
      ]
     },
     "execution_count": 24,
     "metadata": {},
     "output_type": "execute_result"
    }
   ],
   "source": [
    "[f.get() for f in fs]"
   ]
  },
  {
   "cell_type": "code",
   "execution_count": 25,
   "metadata": {},
   "outputs": [
    {
     "name": "stderr",
     "output_type": "stream",
     "text": [
      "Sent batch request with 10 requests to requests_cola_1\n"
     ]
    }
   ],
   "source": [
    "fs = client.rpc_batch_async(tp)"
   ]
  },
  {
   "cell_type": "code",
   "execution_count": 26,
   "metadata": {},
   "outputs": [
    {
     "data": {
      "text/plain": [
       "[1.6053825103201924,\n",
       " 0.21251333476294876,\n",
       " 2.501937321749925,\n",
       " 1.474165687291201,\n",
       " 1.2075749299779535,\n",
       " 3.469194038690695,\n",
       " 0.8636156312848585,\n",
       " 1.9391721090064737,\n",
       " 1.7402308591958786,\n",
       " 1.8327709439917517]"
      ]
     },
     "execution_count": 26,
     "metadata": {},
     "output_type": "execute_result"
    }
   ],
   "source": [
    "[f.get() for f in fs]"
   ]
  },
  {
   "cell_type": "code",
   "execution_count": 27,
   "metadata": {},
   "outputs": [
    {
     "name": "stderr",
     "output_type": "stream",
     "text": [
      "Sent batch request with 10 requests to requests_cola_1\n"
     ]
    },
    {
     "data": {
      "text/plain": [
       "[1.6053825103201924,\n",
       " 0.21251333476294876,\n",
       " 2.501937321749925,\n",
       " 1.474165687291201,\n",
       " 1.2075749299779535,\n",
       " 3.469194038690695,\n",
       " 0.8636156312848585,\n",
       " 1.9391721090064737,\n",
       " 1.7402308591958786,\n",
       " 1.8327709439917517]"
      ]
     },
     "execution_count": 27,
     "metadata": {},
     "output_type": "execute_result"
    }
   ],
   "source": [
    "client.rpc_batch_sync(tp)"
   ]
  },
  {
   "cell_type": "code",
   "execution_count": 28,
   "metadata": {
    "tags": []
   },
   "outputs": [
    {
     "name": "stdout",
     "output_type": "stream",
     "text": [
      "('fake', [0.09430896565055147, 0.9647305543462525], {})\n",
      "('fake', [0.28800946042304476, 0.8276562419606465], {})\n",
      "('mul', [0.9423354137874825, 0.6996229583025027], {})\n",
      "('fake', [0.9922002436153445, 0.9393722237018601], {})\n",
      "('mul', [0.6037835043301335, 0.8048813898097604], {})\n",
      "('add', [0.00021623767102418867, 0.16282075524186568], {})\n",
      "('mul', [0.7536937689005387, 0.33968283498773233], {})\n",
      "('add', [0.12832001014866667, 0.20934946148623435], {})\n",
      "('add', [0.8396723477438003, 0.5872105314515605], {})\n",
      "('div', [0.6538224424872068, 0.39422507532179774], {})\n"
     ]
    }
   ],
   "source": [
    "fs =[]\n",
    "tp = []\n",
    "N = 10\n",
    "for i in range(N):\n",
    "    fn = random.choice((\"add\", \"mul\", \"div\", \"fake\"))\n",
    "    t = (fn, [random.random(),random.random()], {})\n",
    "    print(t)\n",
    "    tp.append(t)"
   ]
  },
  {
   "cell_type": "code",
   "execution_count": 29,
   "metadata": {},
   "outputs": [
    {
     "data": {
      "text/plain": [
       "[('fake', [0.09430896565055147, 0.9647305543462525], {}),\n",
       " ('fake', [0.28800946042304476, 0.8276562419606465], {}),\n",
       " ('mul', [0.9423354137874825, 0.6996229583025027], {}),\n",
       " ('fake', [0.9922002436153445, 0.9393722237018601], {}),\n",
       " ('mul', [0.6037835043301335, 0.8048813898097604], {}),\n",
       " ('add', [0.00021623767102418867, 0.16282075524186568], {}),\n",
       " ('mul', [0.7536937689005387, 0.33968283498773233], {}),\n",
       " ('add', [0.12832001014866667, 0.20934946148623435], {}),\n",
       " ('add', [0.8396723477438003, 0.5872105314515605], {}),\n",
       " ('div', [0.6538224424872068, 0.39422507532179774], {})]"
      ]
     },
     "execution_count": 29,
     "metadata": {},
     "output_type": "execute_result"
    }
   ],
   "source": [
    "tp"
   ]
  },
  {
   "cell_type": "code",
   "execution_count": 30,
   "metadata": {
    "tags": []
   },
   "outputs": [
    {
     "name": "stderr",
     "output_type": "stream",
     "text": [
      "Sent batch request with 10 requests to requests_cola_1\n"
     ]
    }
   ],
   "source": [
    "client.check_registry =\"never\"\n",
    "client.set_default_queue(\"cola_1\")\n",
    "\n",
    "fs = client.rpc_batch_async(tp)"
   ]
  },
  {
   "cell_type": "code",
   "execution_count": 31,
   "metadata": {},
   "outputs": [
    {
     "data": {
      "text/plain": [
       "[None,\n",
       " None,\n",
       " 0.6592794899072115,\n",
       " None,\n",
       " 0.48597410610944536,\n",
       " 0.16303699291288987,\n",
       " 0.25601683613272375,\n",
       " 0.337669471634901,\n",
       " 1.426882879195361,\n",
       " 1.6585003933438407]"
      ]
     },
     "execution_count": 31,
     "metadata": {},
     "output_type": "execute_result"
    }
   ],
   "source": [
    "[f.safe_get() for f in fs]"
   ]
  },
  {
   "cell_type": "code",
   "execution_count": 32,
   "metadata": {},
   "outputs": [
    {
     "data": {
      "text/plain": [
       "{}"
      ]
     },
     "execution_count": 32,
     "metadata": {},
     "output_type": "execute_result"
    }
   ],
   "source": [
    "client.responses"
   ]
  },
  {
   "cell_type": "code",
   "execution_count": 33,
   "metadata": {},
   "outputs": [],
   "source": [
    "client.check_registry =\"cache\""
   ]
  },
  {
   "cell_type": "code",
   "execution_count": 34,
   "metadata": {
    "tags": []
   },
   "outputs": [
    {
     "name": "stdout",
     "output_type": "stream",
     "text": [
      "Method fake does not exist/is not available.\n"
     ]
    }
   ],
   "source": [
    "try:\n",
    "    x = client.rpc_batch_sync(tp, timeout=5)\n",
    "except Exception as e:\n",
    "    print(e)"
   ]
  },
  {
   "cell_type": "code",
   "execution_count": 35,
   "metadata": {
    "tags": []
   },
   "outputs": [
    {
     "name": "stdout",
     "output_type": "stream",
     "text": [
      "Method fake does not exist/is not available.\n"
     ]
    }
   ],
   "source": [
    "try:    \n",
    "    x = client.rpc_batch_sync(tp, timeout=5)\n",
    "except Exception as e:\n",
    "    print(e)"
   ]
  },
  {
   "cell_type": "code",
   "execution_count": 36,
   "metadata": {},
   "outputs": [
    {
     "name": "stderr",
     "output_type": "stream",
     "text": [
      "Sent request with id: fs_client_9:58 to queue requests_cola_1\n"
     ]
    }
   ],
   "source": [
    "client.check_registry=\"never\"\n",
    "client.set_default_queue(\"cola_1\")\n",
    "\n",
    "x = client.rpc_async(\"kk\", [1, 0])"
   ]
  },
  {
   "cell_type": "code",
   "execution_count": 37,
   "metadata": {
    "tags": []
   },
   "outputs": [
    {
     "name": "stdout",
     "output_type": "stream",
     "text": [
      "Error -32601 : The method does not exist/is not available.\n",
      "\n",
      " \n"
     ]
    }
   ],
   "source": [
    "try:\n",
    "    x.get()\n",
    "except Exception as e:\n",
    "    print(e)"
   ]
  },
  {
   "cell_type": "code",
   "execution_count": 38,
   "metadata": {},
   "outputs": [
    {
     "name": "stderr",
     "output_type": "stream",
     "text": [
      "Sent request with id: fs_client_9:59 to queue requests_cola_1\n"
     ]
    }
   ],
   "source": [
    "y = client.rpc_async(\"add\", [1, 0])"
   ]
  },
  {
   "cell_type": "code",
   "execution_count": 39,
   "metadata": {},
   "outputs": [
    {
     "data": {
      "text/plain": [
       "1"
      ]
     },
     "execution_count": 39,
     "metadata": {},
     "output_type": "execute_result"
    }
   ],
   "source": [
    "y.get(5)"
   ]
  },
  {
   "cell_type": "code",
   "execution_count": 40,
   "metadata": {
    "tags": []
   },
   "outputs": [
    {
     "name": "stderr",
     "output_type": "stream",
     "text": [
      "Sent request with id: fs_client_9:60 to queue requests_cola_1\n"
     ]
    },
    {
     "name": "stdout",
     "output_type": "stream",
     "text": [
      "Error -32601 : The method does not exist/is not available.\n",
      "\n",
      " \n"
     ]
    }
   ],
   "source": [
    "def f(x,y): return x + y\n",
    "\n",
    "client.check_registry=\"never\"\n",
    "y = client.rpc_async_fn(f, [1, 2.0])\n",
    "try:\n",
    "    y.get()\n",
    "except Exception as e:\n",
    "    print(e)"
   ]
  }
 ],
 "metadata": {
  "kernelspec": {
   "display_name": "Python 3 (ipykernel)",
   "language": "python",
   "name": "python3"
  }
 },
 "nbformat": 4,
 "nbformat_minor": 4
}
