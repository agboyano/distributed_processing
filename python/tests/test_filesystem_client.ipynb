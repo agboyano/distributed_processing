{
 "cells": [
  {
   "cell_type": "code",
   "execution_count": 1,
   "metadata": {},
   "outputs": [],
   "source": [
    "import random\n",
    "\n",
    "from distributed_processing.serializers import DummySerializer\n",
    "from distributed_processing.client import Client\n",
    "from distributed_processing.filesystem_connector import FileSystemConnector\n"
   ]
  },
  {
   "cell_type": "code",
   "execution_count": 2,
   "metadata": {},
   "outputs": [],
   "source": [
    "CURRO = True\n",
    "\n",
    "if CURRO:\n",
    "    NS_PATH =\"G:\\\\fs_namespaces\\\\prueba_distribuida\"\n",
    "    NS_PATH =\"C:\\\\fs_namespaces\\\\prueba_distribuida\"\n",
    "\n",
    "else:\n",
    "    NS_PATH = \"/home/augusto/python/notebooks/fs_namespaces/prueba_distribuida\"\n"
   ]
  },
  {
   "cell_type": "code",
   "execution_count": 3,
   "metadata": {},
   "outputs": [],
   "source": [
    "import logging\n",
    "logging.getLogger(\"distributed_processing\").setLevel(logging.DEBUG)\n",
    "#logging.getLogger(\"distributed_processing.filesystem_connector\").setLevel(logging.DEBUG)"
   ]
  },
  {
   "cell_type": "code",
   "execution_count": 4,
   "metadata": {
    "tags": []
   },
   "outputs": [
    {
     "name": "stderr",
     "output_type": "stream",
     "text": [
      "registry_lock set\n",
      "registry_lock unset\n",
      "nclients_lock set\n",
      "nclients_lock unset\n",
      "Client with id: fs_client_2\n",
      "Results queue: fs_client_2_responses\n",
      "2025-10-29T18:20:36.278005 Client: fs_client_2 with responses queue: fs_client_2_responses connected\n"
     ]
    }
   ],
   "source": [
    "fs_connector = FileSystemConnector(NS_PATH)\n",
    "fs_connector.with_watchdog=True\n",
    "fs_connector.pop_watchdog_timeout = 10\n",
    "\n",
    "client = Client(DummySerializer(), fs_connector, check_registry=\"cache\")"
   ]
  },
  {
   "cell_type": "code",
   "execution_count": 5,
   "metadata": {},
   "outputs": [
    {
     "name": "stderr",
     "output_type": "stream",
     "text": [
      "registry_lock set\n",
      "registry_lock unset\n"
     ]
    },
    {
     "data": {
      "text/plain": [
       "{'add': ['requests_cola_1'],\n",
       " 'dic': ['requests_cola_1'],\n",
       " 'div': ['requests_cola_1'],\n",
       " 'eval_py_function': ['requests_py_eval'],\n",
       " 'info': ['requests_fs_server_1', 'requests_fs_server_2'],\n",
       " 'lista': ['requests_cola_1'],\n",
       " 'mul': ['requests_cola_1'],\n",
       " 'sleep': ['requests_cola_1'],\n",
       " 'tupla': ['requests_cola_1']}"
      ]
     },
     "execution_count": 5,
     "metadata": {},
     "output_type": "execute_result"
    }
   ],
   "source": [
    "fs_connector.methods_registry()"
   ]
  },
  {
   "cell_type": "code",
   "execution_count": 6,
   "metadata": {},
   "outputs": [
    {
     "name": "stderr",
     "output_type": "stream",
     "text": [
      "2025-10-29T18:20:36.338341 Client: fs_client_2 sent request with id: fs_client_2:1 to queue: requests_cola_1\n"
     ]
    }
   ],
   "source": [
    "y = client.rpc_async(\"add\", [1, 0])"
   ]
  },
  {
   "cell_type": "code",
   "execution_count": 7,
   "metadata": {},
   "outputs": [
    {
     "name": "stderr",
     "output_type": "stream",
     "text": [
      "2025-10-29T18:20:36.522383 Client: fs_client_2 received a Single RESULT with id: fs_client_2:1\n"
     ]
    },
    {
     "data": {
      "text/plain": [
       "1"
      ]
     },
     "execution_count": 7,
     "metadata": {},
     "output_type": "execute_result"
    }
   ],
   "source": [
    "y.get()"
   ]
  },
  {
   "cell_type": "code",
   "execution_count": 8,
   "metadata": {},
   "outputs": [
    {
     "name": "stdout",
     "output_type": "stream",
     "text": [
      "'method_queues_fake'\n"
     ]
    }
   ],
   "source": [
    "client.check_registry =\"always\"\n",
    "\n",
    "try:\n",
    "    y = client.rpc_async(\"fake\", [1, 0])\n",
    "except Exception as e:\n",
    "    print(e)"
   ]
  },
  {
   "cell_type": "code",
   "execution_count": 9,
   "metadata": {},
   "outputs": [
    {
     "name": "stderr",
     "output_type": "stream",
     "text": [
      "2025-10-29T18:20:36.582125 Client: fs_client_2 sent request with id: fs_client_2:2 to queue: requests_cola_1\n"
     ]
    },
    {
     "name": "stderr",
     "output_type": "stream",
     "text": [
      "2025-10-29T18:20:36.720261 Client: fs_client_2 received a Single ERROR with id: fs_client_2:2\n"
     ]
    },
    {
     "name": "stdout",
     "output_type": "stream",
     "text": [
      "Error -32601 : The method does not exist/is not available.\n",
      "\n",
      " \n"
     ]
    }
   ],
   "source": [
    "client.check_registry =\"never\" # use queue client.default_queue, by default \"default\"\n",
    "client.set_default_queue(\"cola_1\")\n",
    "\n",
    "y = client.rpc_async(\"fake\", [1, 0])\n",
    "\n",
    "try:\n",
    "    y.get()\n",
    "except Exception as e:\n",
    "    print(e)\n"
   ]
  },
  {
   "cell_type": "code",
   "execution_count": 10,
   "metadata": {},
   "outputs": [
    {
     "name": "stderr",
     "output_type": "stream",
     "text": [
      "2025-10-29T18:20:36.750501 Client: fs_client_2 sent request with id: fs_client_2:3 to queue: requests_cola_1\n"
     ]
    },
    {
     "name": "stderr",
     "output_type": "stream",
     "text": [
      "2025-10-29T18:20:36.893130 Client: fs_client_2 received a Single ERROR with id: fs_client_2:3\n"
     ]
    },
    {
     "data": {
      "text/plain": [
       "'Esto es un error'"
      ]
     },
     "execution_count": 10,
     "metadata": {},
     "output_type": "execute_result"
    }
   ],
   "source": [
    "client.check_registry =\"never\"\n",
    "client.set_default_queue(\"cola_1\")\n",
    "\n",
    "y = client.rpc_async(\"fake\", [1, 0])\n",
    "\n",
    "y.safe_get(default=\"Esto es un error\")"
   ]
  },
  {
   "cell_type": "code",
   "execution_count": 11,
   "metadata": {},
   "outputs": [],
   "source": [
    "client.check_registry =\"cache\""
   ]
  },
  {
   "cell_type": "code",
   "execution_count": 12,
   "metadata": {},
   "outputs": [
    {
     "name": "stderr",
     "output_type": "stream",
     "text": [
      "2025-10-29T18:20:36.960954 Client: fs_client_2 sent request with id: fs_client_2:4 to queue: requests_cola_1\n"
     ]
    }
   ],
   "source": [
    "x = client.rpc_async(\"div\", [1, 0])"
   ]
  },
  {
   "cell_type": "code",
   "execution_count": 13,
   "metadata": {},
   "outputs": [
    {
     "name": "stderr",
     "output_type": "stream",
     "text": [
      "2025-10-29T18:20:37.146336 Client: fs_client_2 received a Single ERROR with id: fs_client_2:4\n"
     ]
    },
    {
     "name": "stdout",
     "output_type": "stream",
     "text": [
      "Error -32603 : Internal RPC error.\n",
      "\n",
      " Traceback (most recent call last):\n",
      "  File \"G:\\python\\distributed_processing\\python\\distributed_processing\\worker.py\", line 272, in _process_single_request\n",
      "    result = func[request[\"method\"]](*args, **kwargs)\n",
      "             ^^^^^^^^^^^^^^^^^^^^^^^^^^^^^^^^^^^^^^^^\n",
      "  File \"C:\\Users\\agarcia\\AppData\\Local\\Temp\\ipykernel_26504\\1531640066.py\", line 8, in div\n",
      "    return x / y\n",
      "           ~~^~~\n",
      "ZeroDivisionError: division by zero\n",
      "\n"
     ]
    }
   ],
   "source": [
    "try:\n",
    "    x.get()\n",
    "except Exception as e:\n",
    "    print(e)"
   ]
  },
  {
   "cell_type": "code",
   "execution_count": 14,
   "metadata": {},
   "outputs": [
    {
     "name": "stderr",
     "output_type": "stream",
     "text": [
      "2025-10-29T18:20:37.183501 Client: fs_client_2 sent request with id: fs_client_2:5 to queue: requests_cola_1\n"
     ]
    },
    {
     "name": "stderr",
     "output_type": "stream",
     "text": [
      "2025-10-29T18:20:37.410718 Client: fs_client_2 received a Single RESULT with id: fs_client_2:5\n"
     ]
    },
    {
     "data": {
      "text/plain": [
       "2"
      ]
     },
     "execution_count": 14,
     "metadata": {},
     "output_type": "execute_result"
    }
   ],
   "source": [
    "client.rpc_sync(\"add\", [1, 1])"
   ]
  },
  {
   "cell_type": "code",
   "execution_count": 15,
   "metadata": {},
   "outputs": [
    {
     "name": "stderr",
     "output_type": "stream",
     "text": [
      "2025-10-29T18:20:37.446444 Client: fs_client_2 sent request with id: fs_client_2:6 to queue: requests_py_eval\n"
     ]
    }
   ],
   "source": [
    "def f(x,y): return x + y\n",
    "\n",
    "y = client.rpc_async_fn(f, [1, 2.0])"
   ]
  },
  {
   "cell_type": "code",
   "execution_count": 16,
   "metadata": {},
   "outputs": [
    {
     "name": "stderr",
     "output_type": "stream",
     "text": [
      "2025-10-29T18:20:37.733251 Client: fs_client_2 received a Single RESULT with id: fs_client_2:6\n"
     ]
    },
    {
     "data": {
      "text/plain": [
       "3.0"
      ]
     },
     "execution_count": 16,
     "metadata": {},
     "output_type": "execute_result"
    }
   ],
   "source": [
    "y.get()"
   ]
  },
  {
   "cell_type": "code",
   "execution_count": 17,
   "metadata": {},
   "outputs": [
    {
     "name": "stderr",
     "output_type": "stream",
     "text": [
      "2025-10-29T18:20:37.762564 Client: fs_client_2 sent request with id: fs_client_2:7 to queue: requests_py_eval\n",
      "2025-10-29T18:20:37.983004 Client: fs_client_2 received a Single RESULT with id: fs_client_2:7\n"
     ]
    },
    {
     "data": {
      "text/plain": [
       "5.0"
      ]
     },
     "execution_count": 17,
     "metadata": {},
     "output_type": "execute_result"
    }
   ],
   "source": [
    "client.rpc_sync_fn(f, [3.0, 2.0])"
   ]
  },
  {
   "cell_type": "code",
   "execution_count": 18,
   "metadata": {
    "tags": []
   },
   "outputs": [
    {
     "name": "stderr",
     "output_type": "stream",
     "text": [
      "2025-10-29T18:20:38.025499 Client: fs_client_2 sent request with id: fs_client_2:8 to queue: requests_cola_1\n",
      "2025-10-29T18:20:38.050576 Client: fs_client_2 sent request with id: fs_client_2:9 to queue: requests_cola_1\n",
      "2025-10-29T18:20:38.070269 Client: fs_client_2 sent request with id: fs_client_2:10 to queue: requests_cola_1\n",
      "2025-10-29T18:20:38.089784 Client: fs_client_2 sent request with id: fs_client_2:11 to queue: requests_cola_1\n",
      "2025-10-29T18:20:38.109729 Client: fs_client_2 sent request with id: fs_client_2:12 to queue: requests_cola_1\n",
      "2025-10-29T18:20:38.128678 Client: fs_client_2 sent request with id: fs_client_2:13 to queue: requests_cola_1\n",
      "2025-10-29T18:20:38.147923 Client: fs_client_2 sent request with id: fs_client_2:14 to queue: requests_cola_1\n",
      "2025-10-29T18:20:38.169724 Client: fs_client_2 sent request with id: fs_client_2:15 to queue: requests_cola_1\n",
      "2025-10-29T18:20:38.191323 Client: fs_client_2 sent request with id: fs_client_2:16 to queue: requests_cola_1\n"
     ]
    },
    {
     "name": "stdout",
     "output_type": "stream",
     "text": [
      "('add', [0.7501963847343517, 0.4779159087758683], {})\n",
      "('div', [0.7694940692317184, 0.6375476970069366], {})\n",
      "('tupla', [0.991218956023185, 0.5780321505727966], {})\n",
      "('lista', [0.8460453720359106, 0.08624746065361533], {})\n",
      "('tupla', [0.09558744999947355, 0.26345322142552696], {})\n",
      "('add', [0.9672942720936755, 0.4658076237828148], {})\n",
      "('tupla', [0.3470155993807471, 0.9401780947421374], {})\n",
      "('tupla', [0.7331892738345197, 0.9247304345446324], {})\n",
      "('add', [0.8065394592808202, 0.47662341644456807], {})\n"
     ]
    },
    {
     "name": "stderr",
     "output_type": "stream",
     "text": [
      "2025-10-29T18:20:38.214415 Client: fs_client_2 sent request with id: fs_client_2:17 to queue: requests_cola_1\n",
      "2025-10-29T18:20:38.240580 Client: fs_client_2 sent request with id: fs_client_2:18 to queue: requests_cola_1\n"
     ]
    },
    {
     "name": "stdout",
     "output_type": "stream",
     "text": [
      "('dic', [0.005344947280527368, 0.47394148839141714], {})\n"
     ]
    }
   ],
   "source": [
    "fs =[]\n",
    "tp = []\n",
    "N = 10\n",
    "for i in range(N):\n",
    "    fn = random.choice((\"add\", \"mul\", \"div\", \"lista\", \"tupla\", \"dic\"))\n",
    "    t = (fn, [random.random(),random.random()], {})\n",
    "    print(t)\n",
    "    tp.append(t)\n",
    "    fs.append(client.rpc_async(t[0], t[1]))\n",
    "\n",
    "t = (\"sleep\", [10], {})\n",
    "tp.append(t)\n",
    "fs.append(client.rpc_async(t[0], t[1]))\n",
    "\n"
   ]
  },
  {
   "cell_type": "code",
   "execution_count": 19,
   "metadata": {},
   "outputs": [
    {
     "name": "stderr",
     "output_type": "stream",
     "text": [
      "2025-10-29T18:20:38.287650 Client: fs_client_2 received a Single RESULT with id: fs_client_2:8\n",
      "2025-10-29T18:20:38.288648 Client: fs_client_2 received a Single RESULT with id: fs_client_2:9\n",
      "2025-10-29T18:20:38.288648 Client: fs_client_2 received a Single RESULT with id: fs_client_2:10\n",
      "2025-10-29T18:20:38.289645 Client: fs_client_2 received a Single RESULT with id: fs_client_2:11\n",
      "2025-10-29T18:20:38.299619 Client: fs_client_2 received a Single RESULT with id: fs_client_2:12\n",
      "2025-10-29T18:20:38.362538 Client: fs_client_2 received a Single RESULT with id: fs_client_2:13\n",
      "2025-10-29T18:20:38.416433 Client: fs_client_2 received a Single RESULT with id: fs_client_2:14\n",
      "2025-10-29T18:20:38.501175 Client: fs_client_2 received a Single RESULT with id: fs_client_2:15\n",
      "2025-10-29T18:20:38.512952 Client: fs_client_2 received a Single RESULT with id: fs_client_2:16\n",
      "2025-10-29T18:20:38.611267 Client: fs_client_2 received a Single RESULT with id: fs_client_2:17\n",
      "2025-10-29T18:20:48.660237 Client: fs_client_2 received a Single RESULT with id: fs_client_2:18\n"
     ]
    },
    {
     "data": {
      "text/plain": [
       "[1.22811229351022,\n",
       " 1.206959217081677,\n",
       " (0.991218956023185, 0.5780321505727966),\n",
       " [0.8460453720359106, 0.08624746065361533],\n",
       " (0.09558744999947355, 0.26345322142552696),\n",
       " 1.4331018958764903,\n",
       " (0.3470155993807471, 0.9401780947421374),\n",
       " (0.7331892738345197, 0.9247304345446324),\n",
       " 1.2831628757253881,\n",
       " {'a': 0.005344947280527368, 'b': [0.005344947280527368, 0.47394148839141714]},\n",
       " None]"
      ]
     },
     "execution_count": 19,
     "metadata": {},
     "output_type": "execute_result"
    }
   ],
   "source": [
    "resultados = [f.get() for f in fs]\n",
    "resultados"
   ]
  },
  {
   "cell_type": "code",
   "execution_count": 20,
   "metadata": {},
   "outputs": [
    {
     "name": "stderr",
     "output_type": "stream",
     "text": [
      "2025-10-29T18:20:48.708843 Client: fs_client_2 sent request with id: fs_client_2:19 to queue: requests_cola_1\n",
      "2025-10-29T18:20:48.724469 Client: fs_client_2 sent request with id: fs_client_2:20 to queue: requests_cola_1\n",
      "2025-10-29T18:20:48.739978 Client: fs_client_2 sent request with id: fs_client_2:21 to queue: requests_cola_1\n",
      "2025-10-29T18:20:48.755606 Client: fs_client_2 sent request with id: fs_client_2:22 to queue: requests_cola_1\n",
      "2025-10-29T18:20:48.782576 Client: fs_client_2 sent request with id: fs_client_2:23 to queue: requests_cola_1\n",
      "2025-10-29T18:20:48.819469 Client: fs_client_2 sent request with id: fs_client_2:24 to queue: requests_cola_1\n",
      "2025-10-29T18:20:48.840129 Client: fs_client_2 sent request with id: fs_client_2:25 to queue: requests_cola_1\n",
      "2025-10-29T18:20:48.861173 Client: fs_client_2 sent request with id: fs_client_2:26 to queue: requests_cola_1\n",
      "2025-10-29T18:20:48.885864 Client: fs_client_2 sent request with id: fs_client_2:27 to queue: requests_cola_1\n",
      "2025-10-29T18:20:48.908457 Client: fs_client_2 sent request with id: fs_client_2:28 to queue: requests_cola_1\n",
      "2025-10-29T18:20:48.931693 Client: fs_client_2 sent request with id: fs_client_2:29 to queue: requests_cola_1\n"
     ]
    }
   ],
   "source": [
    "fs = client.rpc_multi_async(tp)"
   ]
  },
  {
   "cell_type": "code",
   "execution_count": 21,
   "metadata": {},
   "outputs": [
    {
     "name": "stderr",
     "output_type": "stream",
     "text": [
      "2025-10-29T18:20:48.979712 Client: fs_client_2 received a Single RESULT with id: fs_client_2:19\n",
      "2025-10-29T18:20:48.980756 Client: fs_client_2 received a Single RESULT with id: fs_client_2:20\n",
      "2025-10-29T18:20:48.981755 Client: fs_client_2 received a Single RESULT with id: fs_client_2:21\n",
      "2025-10-29T18:20:48.981755 Client: fs_client_2 received a Single RESULT with id: fs_client_2:22\n",
      "2025-10-29T18:20:49.008279 Client: fs_client_2 received a Single RESULT with id: fs_client_2:23\n"
     ]
    },
    {
     "data": {
      "text/plain": [
       "['OK',\n",
       " 'OK',\n",
       " 'OK',\n",
       " 'OK',\n",
       " 'OK',\n",
       " 'PENDING',\n",
       " 'PENDING',\n",
       " 'PENDING',\n",
       " 'PENDING',\n",
       " 'PENDING',\n",
       " 'PENDING']"
      ]
     },
     "execution_count": 21,
     "metadata": {},
     "output_type": "execute_result"
    }
   ],
   "source": [
    "# AsynResult.status updates the information every time it is called.\n",
    "# 'PENDING' state should be assumed as transitory. \n",
    "# If there are responses available in the queue or in the cache \n",
    "# status or pending() updates the AsyncResult object.\n",
    "\n",
    "[f.status for f in fs]"
   ]
  },
  {
   "cell_type": "code",
   "execution_count": 22,
   "metadata": {},
   "outputs": [
    {
     "name": "stderr",
     "output_type": "stream",
     "text": [
      "2025-10-29T18:20:49.118122 Client: fs_client_2 received a Single RESULT with id: fs_client_2:24\n",
      "2025-10-29T18:20:49.129504 Client: fs_client_2 received a Single RESULT with id: fs_client_2:25\n",
      "2025-10-29T18:20:49.140795 Client: fs_client_2 received a Single RESULT with id: fs_client_2:26\n",
      "2025-10-29T18:20:49.251939 Client: fs_client_2 received a Single RESULT with id: fs_client_2:27\n",
      "2025-10-29T18:20:49.251939 Client: fs_client_2 received a Single RESULT with id: fs_client_2:28\n"
     ]
    },
    {
     "data": {
      "text/plain": [
       "['fs_client_2:29']"
      ]
     },
     "execution_count": 22,
     "metadata": {},
     "output_type": "execute_result"
    }
   ],
   "source": [
    "client.wait_responses(timeout=2)"
   ]
  },
  {
   "cell_type": "code",
   "execution_count": 23,
   "metadata": {},
   "outputs": [
    {
     "data": {
      "text/plain": [
       "['OK', 'OK', 'OK', 'OK', 'OK', 'OK', 'OK', 'OK', 'OK', 'OK', 'PENDING']"
      ]
     },
     "execution_count": 23,
     "metadata": {},
     "output_type": "execute_result"
    }
   ],
   "source": [
    "[f.status for f in fs]"
   ]
  },
  {
   "cell_type": "code",
   "execution_count": 24,
   "metadata": {},
   "outputs": [
    {
     "name": "stderr",
     "output_type": "stream",
     "text": [
      "2025-10-29T18:20:59.282816 Client: fs_client_2 received a Single RESULT with id: fs_client_2:29\n"
     ]
    },
    {
     "data": {
      "text/plain": [
       "[]"
      ]
     },
     "execution_count": 24,
     "metadata": {},
     "output_type": "execute_result"
    }
   ],
   "source": [
    "client.wait_responses()"
   ]
  },
  {
   "cell_type": "code",
   "execution_count": 25,
   "metadata": {},
   "outputs": [
    {
     "data": {
      "text/plain": [
       "['OK', 'OK', 'OK', 'OK', 'OK', 'OK', 'OK', 'OK', 'OK', 'OK', 'OK']"
      ]
     },
     "execution_count": 25,
     "metadata": {},
     "output_type": "execute_result"
    }
   ],
   "source": [
    "# AsynResult.status updates information\n",
    "\n",
    "[f.status for f in fs]"
   ]
  },
  {
   "cell_type": "code",
   "execution_count": 26,
   "metadata": {},
   "outputs": [
    {
     "name": "stdout",
     "output_type": "stream",
     "text": [
      "wait_responses: ['kk', 'qq'] neither in responses nor in pending.\n"
     ]
    }
   ],
   "source": [
    "try:\n",
    "    client.wait_responses([\"kk\", \"qq\"])\n",
    "except ValueError as e:\n",
    "    print(e)"
   ]
  },
  {
   "cell_type": "code",
   "execution_count": 27,
   "metadata": {},
   "outputs": [],
   "source": [
    "client._update_cache_with_all_available_responses()"
   ]
  },
  {
   "cell_type": "code",
   "execution_count": 28,
   "metadata": {},
   "outputs": [
    {
     "data": {
      "text/plain": [
       "{}"
      ]
     },
     "execution_count": 28,
     "metadata": {},
     "output_type": "execute_result"
    }
   ],
   "source": [
    "client.pending"
   ]
  },
  {
   "cell_type": "code",
   "execution_count": 29,
   "metadata": {},
   "outputs": [
    {
     "data": {
      "text/plain": [
       "[1.22811229351022,\n",
       " 1.206959217081677,\n",
       " (0.991218956023185, 0.5780321505727966),\n",
       " [0.8460453720359106, 0.08624746065361533],\n",
       " (0.09558744999947355, 0.26345322142552696),\n",
       " 1.4331018958764903,\n",
       " (0.3470155993807471, 0.9401780947421374),\n",
       " (0.7331892738345197, 0.9247304345446324),\n",
       " 1.2831628757253881,\n",
       " {'a': 0.005344947280527368, 'b': [0.005344947280527368, 0.47394148839141714]},\n",
       " None]"
      ]
     },
     "execution_count": 29,
     "metadata": {},
     "output_type": "execute_result"
    }
   ],
   "source": [
    "[f.get() for f in fs]"
   ]
  },
  {
   "cell_type": "code",
   "execution_count": 30,
   "metadata": {},
   "outputs": [
    {
     "name": "stderr",
     "output_type": "stream",
     "text": [
      "2025-10-29T18:20:59.445766 Client: fs_client_2 sent batch request with 11 requests to queue: requests_cola_1\n"
     ]
    }
   ],
   "source": [
    "fs = client.rpc_batch_async(tp)"
   ]
  },
  {
   "cell_type": "code",
   "execution_count": 31,
   "metadata": {},
   "outputs": [
    {
     "name": "stderr",
     "output_type": "stream",
     "text": [
      "2025-10-29T18:21:09.669179 Client: fs_client_2 received a Batch Response with 11 items\n",
      "2025-10-29T18:21:09.669179 Client: fs_client_2 processed a RESULT with id: fs_client_2:30 from BATCH response\n",
      "2025-10-29T18:21:09.669179 Client: fs_client_2 processed a RESULT with id: fs_client_2:31 from BATCH response\n",
      "2025-10-29T18:21:09.669179 Client: fs_client_2 processed a RESULT with id: fs_client_2:32 from BATCH response\n",
      "2025-10-29T18:21:09.669179 Client: fs_client_2 processed a RESULT with id: fs_client_2:33 from BATCH response\n",
      "2025-10-29T18:21:09.669179 Client: fs_client_2 processed a RESULT with id: fs_client_2:34 from BATCH response\n",
      "2025-10-29T18:21:09.669179 Client: fs_client_2 processed a RESULT with id: fs_client_2:35 from BATCH response\n",
      "2025-10-29T18:21:09.669179 Client: fs_client_2 processed a RESULT with id: fs_client_2:36 from BATCH response\n",
      "2025-10-29T18:21:09.669179 Client: fs_client_2 processed a RESULT with id: fs_client_2:37 from BATCH response\n",
      "2025-10-29T18:21:09.669179 Client: fs_client_2 processed a RESULT with id: fs_client_2:38 from BATCH response\n",
      "2025-10-29T18:21:09.669179 Client: fs_client_2 processed a RESULT with id: fs_client_2:39 from BATCH response\n",
      "2025-10-29T18:21:09.669179 Client: fs_client_2 processed a RESULT with id: fs_client_2:40 from BATCH response\n"
     ]
    },
    {
     "data": {
      "text/plain": [
       "[1.22811229351022,\n",
       " 1.206959217081677,\n",
       " (0.991218956023185, 0.5780321505727966),\n",
       " [0.8460453720359106, 0.08624746065361533],\n",
       " (0.09558744999947355, 0.26345322142552696),\n",
       " 1.4331018958764903,\n",
       " (0.3470155993807471, 0.9401780947421374),\n",
       " (0.7331892738345197, 0.9247304345446324),\n",
       " 1.2831628757253881,\n",
       " {'a': 0.005344947280527368, 'b': [0.005344947280527368, 0.47394148839141714]},\n",
       " None]"
      ]
     },
     "execution_count": 31,
     "metadata": {},
     "output_type": "execute_result"
    }
   ],
   "source": [
    "[f.get() for f in fs]"
   ]
  },
  {
   "cell_type": "code",
   "execution_count": 32,
   "metadata": {},
   "outputs": [
    {
     "name": "stderr",
     "output_type": "stream",
     "text": [
      "2025-10-29T18:21:09.707010 Client: fs_client_2 sent batch request with 11 requests to queue: requests_cola_1\n",
      "2025-10-29T18:21:19.873022 Client: fs_client_2 received a Batch Response with 11 items\n",
      "2025-10-29T18:21:19.873022 Client: fs_client_2 processed a RESULT with id: fs_client_2:41 from BATCH response\n",
      "2025-10-29T18:21:19.874018 Client: fs_client_2 processed a RESULT with id: fs_client_2:42 from BATCH response\n",
      "2025-10-29T18:21:19.874018 Client: fs_client_2 processed a RESULT with id: fs_client_2:43 from BATCH response\n",
      "2025-10-29T18:21:19.875016 Client: fs_client_2 processed a RESULT with id: fs_client_2:44 from BATCH response\n",
      "2025-10-29T18:21:19.875359 Client: fs_client_2 processed a RESULT with id: fs_client_2:45 from BATCH response\n",
      "2025-10-29T18:21:19.875992 Client: fs_client_2 processed a RESULT with id: fs_client_2:46 from BATCH response\n",
      "2025-10-29T18:21:19.875992 Client: fs_client_2 processed a RESULT with id: fs_client_2:47 from BATCH response\n",
      "2025-10-29T18:21:19.875992 Client: fs_client_2 processed a RESULT with id: fs_client_2:48 from BATCH response\n",
      "2025-10-29T18:21:19.876991 Client: fs_client_2 processed a RESULT with id: fs_client_2:49 from BATCH response\n",
      "2025-10-29T18:21:19.876991 Client: fs_client_2 processed a RESULT with id: fs_client_2:50 from BATCH response\n",
      "2025-10-29T18:21:19.877986 Client: fs_client_2 processed a RESULT with id: fs_client_2:51 from BATCH response\n"
     ]
    },
    {
     "data": {
      "text/plain": [
       "[1.22811229351022,\n",
       " 1.206959217081677,\n",
       " (0.991218956023185, 0.5780321505727966),\n",
       " [0.8460453720359106, 0.08624746065361533],\n",
       " (0.09558744999947355, 0.26345322142552696),\n",
       " 1.4331018958764903,\n",
       " (0.3470155993807471, 0.9401780947421374),\n",
       " (0.7331892738345197, 0.9247304345446324),\n",
       " 1.2831628757253881,\n",
       " {'a': 0.005344947280527368, 'b': [0.005344947280527368, 0.47394148839141714]},\n",
       " None]"
      ]
     },
     "execution_count": 32,
     "metadata": {},
     "output_type": "execute_result"
    }
   ],
   "source": [
    "client.rpc_batch_sync(tp)"
   ]
  },
  {
   "cell_type": "code",
   "execution_count": 33,
   "metadata": {
    "tags": []
   },
   "outputs": [
    {
     "name": "stdout",
     "output_type": "stream",
     "text": [
      "('add', [0.5671484572122902, 0.6721163119989023], {})\n",
      "('div', [0.05355220165975705, 0.8227624949133524], {})\n",
      "('div', [0.8277238008244179, 0.2772032167379438], {})\n",
      "('fake', [0.780030572192945, 0.16198771875730245], {})\n",
      "('div', [0.18876522253407602, 0.05612819155782234], {})\n",
      "('add', [0.9547396584917908, 0.207971526061691], {})\n",
      "('add', [0.04784060233319831, 0.012250131629590544], {})\n",
      "('add', [0.9450776816725078, 0.5145295150441241], {})\n",
      "('mul', [0.8674873158376103, 0.17940742212588912], {})\n",
      "('div', [0.8147924785198472, 0.1060241123006217], {})\n"
     ]
    }
   ],
   "source": [
    "fs =[]\n",
    "tp = []\n",
    "N = 10\n",
    "for i in range(N):\n",
    "    fn = random.choice((\"add\", \"mul\", \"div\", \"fake\"))\n",
    "    t = (fn, [random.random(),random.random()], {})\n",
    "    print(t)\n",
    "    tp.append(t)"
   ]
  },
  {
   "cell_type": "code",
   "execution_count": 34,
   "metadata": {},
   "outputs": [
    {
     "data": {
      "text/plain": [
       "[('add', [0.5671484572122902, 0.6721163119989023], {}),\n",
       " ('div', [0.05355220165975705, 0.8227624949133524], {}),\n",
       " ('div', [0.8277238008244179, 0.2772032167379438], {}),\n",
       " ('fake', [0.780030572192945, 0.16198771875730245], {}),\n",
       " ('div', [0.18876522253407602, 0.05612819155782234], {}),\n",
       " ('add', [0.9547396584917908, 0.207971526061691], {}),\n",
       " ('add', [0.04784060233319831, 0.012250131629590544], {}),\n",
       " ('add', [0.9450776816725078, 0.5145295150441241], {}),\n",
       " ('mul', [0.8674873158376103, 0.17940742212588912], {}),\n",
       " ('div', [0.8147924785198472, 0.1060241123006217], {})]"
      ]
     },
     "execution_count": 34,
     "metadata": {},
     "output_type": "execute_result"
    }
   ],
   "source": [
    "tp"
   ]
  },
  {
   "cell_type": "code",
   "execution_count": 35,
   "metadata": {
    "tags": []
   },
   "outputs": [
    {
     "name": "stderr",
     "output_type": "stream",
     "text": [
      "2025-10-29T18:21:19.972218 Client: fs_client_2 sent batch request with 10 requests to queue: requests_cola_1\n"
     ]
    }
   ],
   "source": [
    "client.check_registry =\"never\"\n",
    "client.set_default_queue(\"cola_1\")\n",
    "\n",
    "fs = client.rpc_batch_async(tp)"
   ]
  },
  {
   "cell_type": "code",
   "execution_count": 36,
   "metadata": {},
   "outputs": [
    {
     "name": "stderr",
     "output_type": "stream",
     "text": [
      "2025-10-29T18:21:20.131325 Client: fs_client_2 received a Batch Response with 10 items\n",
      "2025-10-29T18:21:20.132321 Client: fs_client_2 processed a RESULT with id: fs_client_2:52 from BATCH response\n",
      "2025-10-29T18:21:20.132321 Client: fs_client_2 processed a RESULT with id: fs_client_2:53 from BATCH response\n",
      "2025-10-29T18:21:20.133318 Client: fs_client_2 processed a RESULT with id: fs_client_2:54 from BATCH response\n",
      "2025-10-29T18:21:20.133318 Client: fs_client_2 processed a ERROR with id: fs_client_2:55 from BATCH response\n",
      "2025-10-29T18:21:20.134315 Client: fs_client_2 processed a RESULT with id: fs_client_2:56 from BATCH response\n",
      "2025-10-29T18:21:20.134315 Client: fs_client_2 processed a RESULT with id: fs_client_2:57 from BATCH response\n",
      "2025-10-29T18:21:20.134315 Client: fs_client_2 processed a RESULT with id: fs_client_2:58 from BATCH response\n",
      "2025-10-29T18:21:20.135312 Client: fs_client_2 processed a RESULT with id: fs_client_2:59 from BATCH response\n",
      "2025-10-29T18:21:20.135312 Client: fs_client_2 processed a RESULT with id: fs_client_2:60 from BATCH response\n",
      "2025-10-29T18:21:20.136308 Client: fs_client_2 processed a RESULT with id: fs_client_2:61 from BATCH response\n"
     ]
    },
    {
     "data": {
      "text/plain": [
       "[1.2392647692111924,\n",
       " 0.06508828731357862,\n",
       " 2.985981946980482,\n",
       " None,\n",
       " 3.3631089350101937,\n",
       " 1.1627111845534817,\n",
       " 0.060090733962788856,\n",
       " 1.459607196716632,\n",
       " 0.15563366306133264,\n",
       " 7.684973359735165]"
      ]
     },
     "execution_count": 36,
     "metadata": {},
     "output_type": "execute_result"
    }
   ],
   "source": [
    "[f.safe_get() for f in fs]"
   ]
  },
  {
   "cell_type": "code",
   "execution_count": 37,
   "metadata": {},
   "outputs": [
    {
     "data": {
      "text/plain": [
       "{}"
      ]
     },
     "execution_count": 37,
     "metadata": {},
     "output_type": "execute_result"
    }
   ],
   "source": [
    "client.responses"
   ]
  },
  {
   "cell_type": "code",
   "execution_count": 38,
   "metadata": {},
   "outputs": [],
   "source": [
    "client.check_registry =\"cache\""
   ]
  },
  {
   "cell_type": "code",
   "execution_count": 39,
   "metadata": {
    "tags": []
   },
   "outputs": [
    {
     "name": "stdout",
     "output_type": "stream",
     "text": [
      "Method fake does not exist/is not available.\n"
     ]
    }
   ],
   "source": [
    "try:\n",
    "    x = client.rpc_batch_sync(tp, timeout=5)\n",
    "except Exception as e:\n",
    "    print(e)"
   ]
  },
  {
   "cell_type": "code",
   "execution_count": 40,
   "metadata": {
    "tags": []
   },
   "outputs": [
    {
     "name": "stdout",
     "output_type": "stream",
     "text": [
      "Method fake does not exist/is not available.\n"
     ]
    }
   ],
   "source": [
    "try:    \n",
    "    x = client.rpc_batch_sync(tp, timeout=5)\n",
    "except Exception as e:\n",
    "    print(e)"
   ]
  },
  {
   "cell_type": "code",
   "execution_count": 41,
   "metadata": {},
   "outputs": [
    {
     "name": "stderr",
     "output_type": "stream",
     "text": [
      "2025-10-29T18:21:20.276758 Client: fs_client_2 sent request with id: fs_client_2:62 to queue: requests_cola_1\n"
     ]
    }
   ],
   "source": [
    "client.check_registry=\"never\"\n",
    "client.set_default_queue(\"cola_1\")\n",
    "\n",
    "x = client.rpc_async(\"kk\", [1, 0])"
   ]
  },
  {
   "cell_type": "code",
   "execution_count": 42,
   "metadata": {
    "tags": []
   },
   "outputs": [
    {
     "name": "stderr",
     "output_type": "stream",
     "text": [
      "2025-10-29T18:21:20.394923 Client: fs_client_2 received a Single ERROR with id: fs_client_2:62\n"
     ]
    },
    {
     "name": "stdout",
     "output_type": "stream",
     "text": [
      "Error -32601 : The method does not exist/is not available.\n",
      "\n",
      " \n"
     ]
    }
   ],
   "source": [
    "try:\n",
    "    x.get()\n",
    "except Exception as e:\n",
    "    print(e)"
   ]
  },
  {
   "cell_type": "code",
   "execution_count": 43,
   "metadata": {},
   "outputs": [
    {
     "name": "stderr",
     "output_type": "stream",
     "text": [
      "2025-10-29T18:21:20.409100 Client: fs_client_2 sent request with id: fs_client_2:63 to queue: requests_cola_1\n"
     ]
    }
   ],
   "source": [
    "y = client.rpc_async(\"add\", [1, 0])"
   ]
  },
  {
   "cell_type": "code",
   "execution_count": 44,
   "metadata": {},
   "outputs": [
    {
     "name": "stderr",
     "output_type": "stream",
     "text": [
      "2025-10-29T18:21:20.490816 Client: fs_client_2 received a Single RESULT with id: fs_client_2:63\n"
     ]
    },
    {
     "data": {
      "text/plain": [
       "1"
      ]
     },
     "execution_count": 44,
     "metadata": {},
     "output_type": "execute_result"
    }
   ],
   "source": [
    "y.get(5)"
   ]
  },
  {
   "cell_type": "code",
   "execution_count": 45,
   "metadata": {
    "tags": []
   },
   "outputs": [
    {
     "name": "stderr",
     "output_type": "stream",
     "text": [
      "2025-10-29T18:21:20.533251 Client: fs_client_2 sent request with id: fs_client_2:64 to queue: requests_cola_1\n",
      "2025-10-29T18:21:20.651513 Client: fs_client_2 received a Single ERROR with id: fs_client_2:64\n"
     ]
    },
    {
     "name": "stdout",
     "output_type": "stream",
     "text": [
      "Error -32601 : The method does not exist/is not available.\n",
      "\n",
      " \n"
     ]
    }
   ],
   "source": [
    "def f(x,y): return x + y\n",
    "\n",
    "client.check_registry = \"never\" # \"never\" use queue \"default\" don't work for rpc_async_fn or rpc_sync_fn \n",
    "y = client.rpc_async_fn(f, [1, 2.0])\n",
    "try:\n",
    "    print(y.get())\n",
    "except Exception as e:\n",
    "    print(e)"
   ]
  },
  {
   "cell_type": "code",
   "execution_count": 46,
   "metadata": {},
   "outputs": [
    {
     "name": "stderr",
     "output_type": "stream",
     "text": [
      "2025-10-29T18:21:20.681803 Client: fs_client_2 sent request with id: fs_client_2:65 to queue: requests_py_eval\n"
     ]
    }
   ],
   "source": [
    "client.check_registry = \"cache\"\n",
    "y = client.rpc_async_fn(f, [1, 2.0])"
   ]
  },
  {
   "cell_type": "code",
   "execution_count": 47,
   "metadata": {},
   "outputs": [
    {
     "name": "stderr",
     "output_type": "stream",
     "text": [
      "2025-10-29T18:21:20.846113 Client: fs_client_2 received a Single RESULT with id: fs_client_2:65\n"
     ]
    },
    {
     "data": {
      "text/plain": [
       "3.0"
      ]
     },
     "execution_count": 47,
     "metadata": {},
     "output_type": "execute_result"
    }
   ],
   "source": [
    "y.get()"
   ]
  },
  {
   "cell_type": "code",
   "execution_count": 48,
   "metadata": {},
   "outputs": [
    {
     "data": {
      "text/plain": [
       "[]"
      ]
     },
     "execution_count": 48,
     "metadata": {},
     "output_type": "execute_result"
    }
   ],
   "source": [
    "[k for k in client.responses.keys()]"
   ]
  },
  {
   "cell_type": "code",
   "execution_count": 49,
   "metadata": {},
   "outputs": [],
   "source": [
    "client.clean_used()"
   ]
  },
  {
   "cell_type": "code",
   "execution_count": 50,
   "metadata": {},
   "outputs": [
    {
     "data": {
      "text/plain": [
       "[]"
      ]
     },
     "execution_count": 50,
     "metadata": {},
     "output_type": "execute_result"
    }
   ],
   "source": [
    "[k for k in client.responses.keys()]"
   ]
  },
  {
   "cell_type": "code",
   "execution_count": 51,
   "metadata": {},
   "outputs": [
    {
     "data": {
      "text/plain": [
       "[1.22811229351022,\n",
       " 1.206959217081677,\n",
       " (0.991218956023185, 0.5780321505727966),\n",
       " [0.8460453720359106, 0.08624746065361533],\n",
       " (0.09558744999947355, 0.26345322142552696),\n",
       " 1.4331018958764903,\n",
       " (0.3470155993807471, 0.9401780947421374),\n",
       " (0.7331892738345197, 0.9247304345446324),\n",
       " 1.2831628757253881,\n",
       " {'a': 0.005344947280527368, 'b': [0.005344947280527368, 0.47394148839141714]},\n",
       " None]"
      ]
     },
     "execution_count": 51,
     "metadata": {},
     "output_type": "execute_result"
    }
   ],
   "source": [
    "resultados"
   ]
  },
  {
   "cell_type": "code",
   "execution_count": 52,
   "metadata": {},
   "outputs": [
    {
     "name": "stderr",
     "output_type": "stream",
     "text": [
      "2025-10-29T18:21:21.053247 Client: fs_client_2 sent request with id: fs_client_2:66 to queue: requests_py_eval\n"
     ]
    },
    {
     "name": "stderr",
     "output_type": "stream",
     "text": [
      "2025-10-29T18:21:21.288184 Client: fs_client_2 received a Single RESULT with id: fs_client_2:66\n"
     ]
    }
   ],
   "source": [
    "client.rpc_sync_fn(print, [\"hola\"])"
   ]
  },
  {
   "cell_type": "code",
   "execution_count": 84,
   "metadata": {},
   "outputs": [
    {
     "name": "stdout",
     "output_type": "stream",
     "text": [
      "('sleep', [15], {})\n",
      "('sleep', [15], {})\n",
      "('sleep', [15], {})\n",
      "('sleep', [15], {})\n",
      "('sleep', [15], {})\n",
      "('sleep', [15], {})\n",
      "('sleep', [15], {})\n",
      "('sleep', [15], {})\n",
      "('sleep', [15], {})\n",
      "('sleep', [15], {})\n"
     ]
    }
   ],
   "source": [
    "fs =[]\n",
    "tp = []\n",
    "N = 10\n",
    "for i in range(N):\n",
    "    fn = random.choice((\"sleep\", \"sleep\"))\n",
    "    t = (fn, [15], {})\n",
    "    print(t)\n",
    "    tp.append(t)"
   ]
  },
  {
   "cell_type": "code",
   "execution_count": 85,
   "metadata": {},
   "outputs": [
    {
     "name": "stderr",
     "output_type": "stream",
     "text": [
      "2025-10-29T18:24:36.572522 Client: fs_client_2 sent request with id: fs_client_2:81 to queue: requests_cola_1\n",
      "2025-10-29T18:24:36.591696 Client: fs_client_2 sent request with id: fs_client_2:82 to queue: requests_cola_1\n"
     ]
    },
    {
     "name": "stderr",
     "output_type": "stream",
     "text": [
      "2025-10-29T18:24:36.608649 Client: fs_client_2 sent request with id: fs_client_2:83 to queue: requests_cola_1\n",
      "2025-10-29T18:24:36.627235 Client: fs_client_2 sent request with id: fs_client_2:84 to queue: requests_cola_1\n",
      "2025-10-29T18:24:36.645875 Client: fs_client_2 sent request with id: fs_client_2:85 to queue: requests_cola_1\n",
      "2025-10-29T18:24:36.663878 Client: fs_client_2 sent request with id: fs_client_2:86 to queue: requests_cola_1\n",
      "2025-10-29T18:24:36.683535 Client: fs_client_2 sent request with id: fs_client_2:87 to queue: requests_cola_1\n",
      "2025-10-29T18:24:36.706829 Client: fs_client_2 sent request with id: fs_client_2:88 to queue: requests_cola_1\n",
      "2025-10-29T18:24:36.727459 Client: fs_client_2 sent request with id: fs_client_2:89 to queue: requests_cola_1\n",
      "2025-10-29T18:24:36.749196 Client: fs_client_2 sent request with id: fs_client_2:90 to queue: requests_cola_1\n"
     ]
    }
   ],
   "source": [
    "client.check_registry=\"never\"\n",
    "fs = client.rpc_multi_async(tp, retry=True)"
   ]
  },
  {
   "cell_type": "code",
   "execution_count": null,
   "metadata": {},
   "outputs": [],
   "source": []
  },
  {
   "cell_type": "code",
   "execution_count": null,
   "metadata": {},
   "outputs": [],
   "source": []
  },
  {
   "cell_type": "code",
   "execution_count": 86,
   "metadata": {},
   "outputs": [],
   "source": [
    "from time import time\n",
    "\n",
    "def gather(arl, timeout=None, step=5, max_dts=0):\n",
    "    # Update to reset delta times\n",
    "    pending_ars = [ar for ar in arl if not(ar.ok() or ar.failed())] \n",
    "    pending_ids = [ar.id for ar in pending_ars]\n",
    "    if fs[0]._client.wait_responses(pending_ids, timeout=0) == []:\n",
    "        return\n",
    "\n",
    "    N = len(arl)\n",
    "\n",
    "    max_dts = max_dts\n",
    "\n",
    "    t_0 = time()\n",
    "\n",
    "    i = 0\n",
    "    # ok() and failed() don't update.\n",
    "    # pending() updates, every time is called, all the ids \n",
    "    # that have a response available in the queue \n",
    "    pending_ars = [ar for ar in arl if not(ar.ok() or ar.failed())]\n",
    "    pending_ars0= pending_ars\n",
    "    pending_ids = [ar.id for ar in pending_ars]\n",
    "    t_prev = time()\n",
    "    n_pending_prev = len(pending_ars)\n",
    "    n_pending_0 = n_pending_prev    \n",
    "    while (time() - t_0) <= timeout:\n",
    "        try:\n",
    "            if fs[0]._client.wait_responses(pending_ids, timeout=5) == []:\n",
    "                return\n",
    "        except TimeoutError:\n",
    "            pass\n",
    "        dts = [ar.finished_time - t_0 for ar in pending_ars0 if (ar.ok() or ar.failed())]\n",
    "        if len(dts)>0:\n",
    "            #max_dts = max(max_dts, max(dts))\n",
    "            max_dts = max(dts)    \n",
    "        pending_ars = [ar for ar in arl if not(ar.ok() or ar.failed())] \n",
    "        pending_ids = [ar.id for ar in pending_ars]\n",
    "        if len(pending_ars) < n_pending_prev:\n",
    "            t_prev = time()\n",
    "            n_pending_prev = len(pending_ars)  \n",
    "\n",
    "        avg =  (time()-t_0)/(n_pending_0 -len(pending_ars)) if (n_pending_0 -len(pending_ars))>0 else 0\n",
    "\n",
    "        print(f\"{i}: seconds {time()-t_0}s, AR recovered {N-len(pending_ars)}, \\\n",
    "                AR left {len(pending_ars)}, max delta {max_dts}, avg {avg}\")\n",
    "        i += 0\n"
   ]
  },
  {
   "cell_type": "code",
   "execution_count": 87,
   "metadata": {},
   "outputs": [
    {
     "name": "stdout",
     "output_type": "stream",
     "text": [
      "0: seconds 5.191293239593506s, AR recovered 0,                 AR left 10, max delta 0, avg 0\n",
      "0: seconds 10.312388896942139s, AR recovered 0,                 AR left 10, max delta 0, avg 0\n"
     ]
    },
    {
     "name": "stderr",
     "output_type": "stream",
     "text": [
      "2025-10-29T18:24:51.662589 Client: fs_client_2 received a Single RESULT with id: fs_client_2:81\n",
      "2025-10-29T18:24:51.765059 Client: fs_client_2 received a Single RESULT with id: fs_client_2:82\n"
     ]
    },
    {
     "name": "stdout",
     "output_type": "stream",
     "text": [
      "0: seconds 15.471536874771118s, AR recovered 2,                 AR left 8, max delta 12.585705757141113, avg 7.735768437385559\n",
      "0: seconds 20.562876224517822s, AR recovered 2,                 AR left 8, max delta 12.585705757141113, avg 10.281438112258911\n",
      "0: seconds 25.767588138580322s, AR recovered 2,                 AR left 8, max delta 12.585705757141113, avg 12.883794069290161\n"
     ]
    },
    {
     "name": "stderr",
     "output_type": "stream",
     "text": [
      "2025-10-29T18:25:06.732387 Client: fs_client_2 received a Single RESULT with id: fs_client_2:83\n",
      "2025-10-29T18:25:06.743358 Client: fs_client_2 received a Single RESULT with id: fs_client_2:84\n"
     ]
    },
    {
     "name": "stdout",
     "output_type": "stream",
     "text": [
      "0: seconds 30.941699743270874s, AR recovered 4,                 AR left 6, max delta 27.564005374908447, avg 7.7354249358177185\n"
     ]
    }
   ],
   "source": [
    "gather(fs, 30, 5)"
   ]
  },
  {
   "cell_type": "code",
   "execution_count": 88,
   "metadata": {},
   "outputs": [
    {
     "data": {
      "text/plain": [
       "['OK',\n",
       " 'OK',\n",
       " 'OK',\n",
       " 'OK',\n",
       " 'PENDING',\n",
       " 'PENDING',\n",
       " 'PENDING',\n",
       " 'PENDING',\n",
       " 'PENDING',\n",
       " 'PENDING']"
      ]
     },
     "execution_count": 88,
     "metadata": {},
     "output_type": "execute_result"
    }
   ],
   "source": [
    "[f.status for f in fs]"
   ]
  },
  {
   "cell_type": "code",
   "execution_count": 89,
   "metadata": {},
   "outputs": [
    {
     "data": {
      "text/plain": [
       "[15.09006667137146,\n",
       " 15.172368049621582,\n",
       " 30.122740030288696,\n",
       " 30.115127563476562,\n",
       " 33.5927574634552,\n",
       " 33.5747549533844,\n",
       " 33.554741859436035,\n",
       " 33.53180432319641,\n",
       " 33.51117563247681,\n",
       " 33.48943829536438]"
      ]
     },
     "execution_count": 89,
     "metadata": {},
     "output_type": "execute_result"
    }
   ],
   "source": [
    "[(time() if f.finished_time is None else f.finished_time) -f.creation_time for f in fs]"
   ]
  },
  {
   "cell_type": "code",
   "execution_count": 90,
   "metadata": {},
   "outputs": [
    {
     "data": {
      "text/plain": [
       "[1761758691.6625898,\n",
       " 1761758691.7650595,\n",
       " 1761758706.7323873,\n",
       " 1761758706.743359,\n",
       " None,\n",
       " None,\n",
       " None,\n",
       " None,\n",
       " None,\n",
       " None]"
      ]
     },
     "execution_count": 90,
     "metadata": {},
     "output_type": "execute_result"
    }
   ],
   "source": [
    "[f.finished_time for f in fs]"
   ]
  },
  {
   "cell_type": "code",
   "execution_count": 91,
   "metadata": {},
   "outputs": [
    {
     "data": {
      "text/plain": [
       "{'fs_client_2:85': 1761758676.646874,\n",
       " 'fs_client_2:86': 1761758676.6648765,\n",
       " 'fs_client_2:87': 1761758676.6848896,\n",
       " 'fs_client_2:88': 1761758676.707827,\n",
       " 'fs_client_2:89': 1761758676.7284558,\n",
       " 'fs_client_2:90': 1761758676.750193}"
      ]
     },
     "execution_count": 91,
     "metadata": {},
     "output_type": "execute_result"
    }
   ],
   "source": [
    "client.pending"
   ]
  },
  {
   "cell_type": "code",
   "execution_count": 92,
   "metadata": {},
   "outputs": [
    {
     "data": {
      "text/plain": [
       "'OK'"
      ]
     },
     "execution_count": 92,
     "metadata": {},
     "output_type": "execute_result"
    }
   ],
   "source": [
    "fs[3].status"
   ]
  },
  {
   "cell_type": "code",
   "execution_count": 93,
   "metadata": {},
   "outputs": [
    {
     "name": "stderr",
     "output_type": "stream",
     "text": [
      "2025-10-29T18:25:10.336171 Client: Not Retrying: Request with id: fs_client_2:81 is already received.\n"
     ]
    }
   ],
   "source": [
    "fs[0].retry()"
   ]
  },
  {
   "cell_type": "code",
   "execution_count": 1,
   "metadata": {},
   "outputs": [
    {
     "ename": "NameError",
     "evalue": "name 'fs' is not defined",
     "output_type": "error",
     "traceback": [
      "\u001b[1;31m---------------------------------------------------------------------------\u001b[0m",
      "\u001b[1;31mNameError\u001b[0m                                 Traceback (most recent call last)",
      "Cell \u001b[1;32mIn[1], line 1\u001b[0m\n\u001b[1;32m----> 1\u001b[0m [f\u001b[38;5;241m.\u001b[39mretry() \u001b[38;5;28;01mfor\u001b[39;00m f \u001b[38;5;129;01min\u001b[39;00m fs \u001b[38;5;28;01mif\u001b[39;00m ok \u001b[38;5;129;01mis\u001b[39;00m \u001b[38;5;129;01mnot\u001b[39;00m \u001b[38;5;28;01mNone\u001b[39;00m]\n",
      "\u001b[1;31mNameError\u001b[0m: name 'fs' is not defined"
     ]
    }
   ],
   "source": [
    "[f.retry() for f in fs if ok is not None]"
   ]
  },
  {
   "cell_type": "code",
   "execution_count": 63,
   "metadata": {},
   "outputs": [],
   "source": [
    "import datetime"
   ]
  },
  {
   "cell_type": "code",
   "execution_count": 64,
   "metadata": {},
   "outputs": [
    {
     "data": {
      "text/plain": [
       "'2025-10-29T18:22:36.906351'"
      ]
     },
     "execution_count": 64,
     "metadata": {},
     "output_type": "execute_result"
    }
   ],
   "source": [
    "datetime.datetime.now().isoformat()"
   ]
  },
  {
   "cell_type": "code",
   "execution_count": 65,
   "metadata": {},
   "outputs": [],
   "source": [
    "from datetime import datetime"
   ]
  },
  {
   "cell_type": "code",
   "execution_count": 66,
   "metadata": {},
   "outputs": [
    {
     "data": {
      "text/plain": [
       "['requests_fs_server_1', 'requests_fs_server_2']"
      ]
     },
     "execution_count": 66,
     "metadata": {},
     "output_type": "execute_result"
    }
   ],
   "source": [
    "client.check_registry=\"always\"\n",
    "client.all_queues_for_method(\"info\")"
   ]
  },
  {
   "cell_type": "code",
   "execution_count": 67,
   "metadata": {},
   "outputs": [
    {
     "data": {
      "text/plain": [
       "['requests_fs_server_1', 'requests_fs_server_2']"
      ]
     },
     "execution_count": 67,
     "metadata": {},
     "output_type": "execute_result"
    }
   ],
   "source": [
    "client.connector.all_queues_for_method(\"info\")"
   ]
  },
  {
   "cell_type": "code",
   "execution_count": 68,
   "metadata": {},
   "outputs": [
    {
     "name": "stderr",
     "output_type": "stream",
     "text": [
      "registry_lock set\n",
      "registry_lock unset\n"
     ]
    }
   ],
   "source": [
    "client.update_registry()"
   ]
  },
  {
   "cell_type": "code",
   "execution_count": 69,
   "metadata": {},
   "outputs": [
    {
     "data": {
      "text/plain": [
       "['requests_cola_1']"
      ]
     },
     "execution_count": 69,
     "metadata": {},
     "output_type": "execute_result"
    }
   ],
   "source": [
    "client.check_registry=\"Never\"\n",
    "client.all_queues_for_method(\"hola\")"
   ]
  },
  {
   "cell_type": "code",
   "execution_count": 70,
   "metadata": {},
   "outputs": [
    {
     "name": "stderr",
     "output_type": "stream",
     "text": [
      "2025-10-29T18:22:37.090210 Client: fs_client_2 sent request with id: fs_client_2:77 to queue: requests_fs_server_2\n"
     ]
    }
   ],
   "source": [
    "client.check_registry=\"always\"\n",
    "a = client.rpc_async(\"info\")"
   ]
  },
  {
   "cell_type": "code",
   "execution_count": 71,
   "metadata": {},
   "outputs": [
    {
     "name": "stderr",
     "output_type": "stream",
     "text": [
      "2025-10-29T18:22:37.118667 Client: fs_client_2 sent request with id: fs_client_2:78 to queue: requests_cola_1\n"
     ]
    },
    {
     "name": "stderr",
     "output_type": "stream",
     "text": [
      "2025-10-29T18:22:37.260453 Client: fs_client_2 received a Single RESULT with id: fs_client_2:77\n",
      "2025-10-29T18:22:37.273416 Client: fs_client_2 received a Single RESULT with id: fs_client_2:78\n"
     ]
    },
    {
     "data": {
      "text/plain": [
       "2.0"
      ]
     },
     "execution_count": 71,
     "metadata": {},
     "output_type": "execute_result"
    }
   ],
   "source": [
    "client.rpc_sync(\"div\", [2,1], timeout=10)"
   ]
  },
  {
   "cell_type": "code",
   "execution_count": 72,
   "metadata": {},
   "outputs": [],
   "source": [
    "x = a.get()"
   ]
  },
  {
   "cell_type": "code",
   "execution_count": null,
   "metadata": {},
   "outputs": [],
   "source": []
  },
  {
   "cell_type": "code",
   "execution_count": 73,
   "metadata": {},
   "outputs": [
    {
     "data": {
      "text/plain": [
       "3"
      ]
     },
     "execution_count": 73,
     "metadata": {},
     "output_type": "execute_result"
    }
   ],
   "source": [
    "x[1][\"requests_cola_1\"][\"add\"](1,2)"
   ]
  },
  {
   "cell_type": "code",
   "execution_count": 74,
   "metadata": {},
   "outputs": [
    {
     "data": {
      "text/plain": [
       "{'add': ['requests_cola_1'],\n",
       " 'dic': ['requests_cola_1'],\n",
       " 'div': ['requests_cola_1'],\n",
       " 'eval_py_function': ['requests_py_eval'],\n",
       " 'info': ['requests_fs_server_1', 'requests_fs_server_2'],\n",
       " 'lista': ['requests_cola_1'],\n",
       " 'mul': ['requests_cola_1'],\n",
       " 'sleep': ['requests_cola_1'],\n",
       " 'tupla': ['requests_cola_1']}"
      ]
     },
     "execution_count": 74,
     "metadata": {},
     "output_type": "execute_result"
    }
   ],
   "source": [
    "client.registry"
   ]
  },
  {
   "cell_type": "code",
   "execution_count": 75,
   "metadata": {},
   "outputs": [],
   "source": [
    "def registry_one_step(x):\n",
    "    worker_id = x[0]\n",
    "    registry = {}\n",
    "    for queue, methods in x[1].items():\n",
    "        for method in methods:\n",
    "            if method in registry:\n",
    "                registry[method].append(queue)\n",
    "            else:\n",
    "                registry[method] = [queue]\n",
    "    return registry \n",
    "\n",
    "def queues_workers_one_step(x):\n",
    "    worker_id = x[0]\n",
    "    registry = {}\n",
    "    for queue in x[1]:\n",
    "        if queue in registry:\n",
    "            registry[queue].append(worker_id)\n",
    "        else:\n",
    "            registry[queue] = [worker_id]\n",
    "    return registry \n",
    "\n",
    "def all_workers_for_queue():\n",
    "    # all requests queues for \"info\" method\n",
    "    # One queue per worker\n",
    "\n",
    "    rr = {}\n",
    "    qq = {}\n",
    "    all_worker_queues = client.connector.all_queues_for_method(\"info\")\n",
    "    for worker in all_worker_queues:\n",
    "        try:\n",
    "            x = client.rpc_sync(\"info\", timeout=10)\n",
    "        except TimeoutError:\n",
    "            x = None\n",
    "        \n",
    "        if x is not None:\n",
    "            for method, qs in registry_one_step(x).items():\n",
    "                if method not in rr:\n",
    "                    rr[method] = qs\n",
    "                else:\n",
    "                    rr[method] += qs\n",
    "            for q, ws in queues_workers_one_step(x).items():\n",
    "                if q not in qq:\n",
    "                    qq[q] = ws\n",
    "                else:\n",
    "                    qq[q] += ws\n",
    "    return rr, qq\n",
    "            "
   ]
  },
  {
   "cell_type": "code",
   "execution_count": 76,
   "metadata": {},
   "outputs": [
    {
     "data": {
      "text/plain": [
       "{'info': ['requests_fs_server_2'],\n",
       " 'add': ['requests_cola_1'],\n",
       " 'mul': ['requests_cola_1'],\n",
       " 'div': ['requests_cola_1'],\n",
       " 'lista': ['requests_cola_1'],\n",
       " 'tupla': ['requests_cola_1'],\n",
       " 'dic': ['requests_cola_1'],\n",
       " 'sleep': ['requests_cola_1'],\n",
       " 'hola': ['requests_cola_2'],\n",
       " 'eval_py_function': ['requests_py_eval']}"
      ]
     },
     "execution_count": 76,
     "metadata": {},
     "output_type": "execute_result"
    }
   ],
   "source": [
    "registry_one_step(x)"
   ]
  },
  {
   "cell_type": "code",
   "execution_count": 77,
   "metadata": {},
   "outputs": [
    {
     "data": {
      "text/plain": [
       "{'requests_fs_server_2': ['fs_server_2'],\n",
       " 'requests_cola_1': ['fs_server_2'],\n",
       " 'requests_cola_2': ['fs_server_2'],\n",
       " 'requests_py_eval': ['fs_server_2']}"
      ]
     },
     "execution_count": 77,
     "metadata": {},
     "output_type": "execute_result"
    }
   ],
   "source": [
    "queues_workers_one_step(x)"
   ]
  },
  {
   "cell_type": "code",
   "execution_count": 78,
   "metadata": {},
   "outputs": [
    {
     "name": "stderr",
     "output_type": "stream",
     "text": [
      "2025-10-29T18:22:37.461400 Client: fs_client_2 sent request with id: fs_client_2:79 to queue: requests_fs_server_1\n",
      "2025-10-29T18:22:37.661109 Client: fs_client_2 received a Single RESULT with id: fs_client_2:79\n"
     ]
    },
    {
     "name": "stderr",
     "output_type": "stream",
     "text": [
      "2025-10-29T18:22:37.681071 Client: fs_client_2 sent request with id: fs_client_2:80 to queue: requests_fs_server_2\n",
      "2025-10-29T18:22:37.924273 Client: fs_client_2 received a Single RESULT with id: fs_client_2:80\n"
     ]
    }
   ],
   "source": [
    "r, q = all_workers_for_queue()"
   ]
  },
  {
   "cell_type": "code",
   "execution_count": 79,
   "metadata": {},
   "outputs": [
    {
     "data": {
      "text/plain": [
       "{'info': ['requests_fs_server_1', 'requests_fs_server_2'],\n",
       " 'add': ['requests_cola_1', 'requests_cola_1'],\n",
       " 'mul': ['requests_cola_1', 'requests_cola_1'],\n",
       " 'div': ['requests_cola_1', 'requests_cola_1'],\n",
       " 'lista': ['requests_cola_1', 'requests_cola_1'],\n",
       " 'tupla': ['requests_cola_1', 'requests_cola_1'],\n",
       " 'dic': ['requests_cola_1', 'requests_cola_1'],\n",
       " 'sleep': ['requests_cola_1', 'requests_cola_1'],\n",
       " 'hola': ['requests_cola_2', 'requests_cola_2'],\n",
       " 'eval_py_function': ['requests_py_eval', 'requests_py_eval']}"
      ]
     },
     "execution_count": 79,
     "metadata": {},
     "output_type": "execute_result"
    }
   ],
   "source": [
    "r"
   ]
  },
  {
   "cell_type": "code",
   "execution_count": 80,
   "metadata": {},
   "outputs": [
    {
     "data": {
      "text/plain": [
       "{'requests_fs_server_1': ['fs_server_1'],\n",
       " 'requests_cola_1': ['fs_server_1', 'fs_server_2'],\n",
       " 'requests_cola_2': ['fs_server_1', 'fs_server_2'],\n",
       " 'requests_py_eval': ['fs_server_1', 'fs_server_2'],\n",
       " 'requests_fs_server_2': ['fs_server_2']}"
      ]
     },
     "execution_count": 80,
     "metadata": {},
     "output_type": "execute_result"
    }
   ],
   "source": [
    "q"
   ]
  },
  {
   "cell_type": "code",
   "execution_count": 81,
   "metadata": {},
   "outputs": [],
   "source": [
    "t = (1,2,3,4)"
   ]
  },
  {
   "cell_type": "code",
   "execution_count": 82,
   "metadata": {},
   "outputs": [
    {
     "data": {
      "text/plain": [
       "(1, 2, 3, 4)"
      ]
     },
     "execution_count": 82,
     "metadata": {},
     "output_type": "execute_result"
    }
   ],
   "source": [
    "t[:6]"
   ]
  },
  {
   "cell_type": "code",
   "execution_count": 83,
   "metadata": {},
   "outputs": [
    {
     "data": {
      "text/plain": [
       "(1, 2, 3, 4)"
      ]
     },
     "execution_count": 83,
     "metadata": {},
     "output_type": "execute_result"
    }
   ],
   "source": [
    "t[:5]"
   ]
  },
  {
   "cell_type": "code",
   "execution_count": null,
   "metadata": {},
   "outputs": [],
   "source": []
  }
 ],
 "metadata": {
  "kernelspec": {
   "display_name": "base",
   "language": "python",
   "name": "python3"
  },
  "language_info": {
   "codemirror_mode": {
    "name": "ipython",
    "version": 3
   },
   "file_extension": ".py",
   "mimetype": "text/x-python",
   "name": "python",
   "nbconvert_exporter": "python",
   "pygments_lexer": "ipython3",
   "version": "3.11.5"
  }
 },
 "nbformat": 4,
 "nbformat_minor": 4
}
