{
 "cells": [
  {
   "cell_type": "code",
   "execution_count": 1,
   "metadata": {},
   "outputs": [],
   "source": [
    "import random\n",
    "\n",
    "from distributed_processing.serializers import DummySerializer\n",
    "from distributed_processing.client import Client\n",
    "from distributed_processing.filesystem_connector import FileSystemConnector\n"
   ]
  },
  {
   "cell_type": "code",
   "execution_count": 2,
   "metadata": {},
   "outputs": [],
   "source": [
    "CURRO = True\n",
    "\n",
    "if CURRO:\n",
    "    NS_PATH =\"G:\\\\fs_namespaces\\\\prueba_distribuida\"\n",
    "    #NS_PATH =\"C:\\\\fs_namespaces\\\\prueba_distribuida\"\n",
    "\n",
    "else:\n",
    "    NS_PATH = \"/home/augusto/python/notebooks/fs_namespaces/prueba_distribuida\"\n"
   ]
  },
  {
   "cell_type": "code",
   "execution_count": 3,
   "metadata": {},
   "outputs": [],
   "source": [
    "import logging\n",
    "logging.getLogger(\"distributed_processing\").setLevel(logging.DEBUG)\n",
    "#logging.getLogger(\"distributed_processing.filesystem_connector\").setLevel(logging.DEBUG)"
   ]
  },
  {
   "cell_type": "code",
   "execution_count": 4,
   "metadata": {
    "tags": []
   },
   "outputs": [
    {
     "name": "stderr",
     "output_type": "stream",
     "text": [
      "registry_lock locked: tried 1 times\n",
      "registry_lock unlocked\n",
      "Client with id: fs_client_8\n",
      "Results queue: fs_client_8_responses\n"
     ]
    }
   ],
   "source": [
    "fs_connector = FileSystemConnector(NS_PATH)\n",
    "fs_connector.with_watchdog=True\n",
    "\n",
    "client = Client(DummySerializer(), fs_connector, check_registry=\"cache\")"
   ]
  },
  {
   "cell_type": "code",
   "execution_count": 5,
   "metadata": {},
   "outputs": [
    {
     "name": "stderr",
     "output_type": "stream",
     "text": [
      "registry_lock locked: tried 1 times\n",
      "registry_lock unlocked\n"
     ]
    },
    {
     "data": {
      "text/plain": [
       "{'add': ['requests_cola_1'],\n",
       " 'div': ['requests_cola_1'],\n",
       " 'eval_py_function': ['requests_py_eval'],\n",
       " 'mul': ['requests_cola_1']}"
      ]
     },
     "execution_count": 5,
     "metadata": {},
     "output_type": "execute_result"
    }
   ],
   "source": [
    "fs_connector.methods_registry()"
   ]
  },
  {
   "cell_type": "code",
   "execution_count": 6,
   "metadata": {},
   "outputs": [
    {
     "name": "stderr",
     "output_type": "stream",
     "text": [
      "Sent request with id: fs_client_8:1 to queue requests_cola_1\n"
     ]
    }
   ],
   "source": [
    "y = client.rpc_async(\"add\", [1, 0])"
   ]
  },
  {
   "cell_type": "code",
   "execution_count": 7,
   "metadata": {},
   "outputs": [
    {
     "data": {
      "text/plain": [
       "1"
      ]
     },
     "execution_count": 7,
     "metadata": {},
     "output_type": "execute_result"
    }
   ],
   "source": [
    "y.get()"
   ]
  },
  {
   "cell_type": "code",
   "execution_count": 8,
   "metadata": {},
   "outputs": [
    {
     "name": "stdout",
     "output_type": "stream",
     "text": [
      "'method_queues_fake'\n"
     ]
    }
   ],
   "source": [
    "client.check_registry =\"always\"\n",
    "\n",
    "try:\n",
    "    y = client.rpc_async(\"fake\", [1, 0])\n",
    "except Exception as e:\n",
    "    print(e)"
   ]
  },
  {
   "cell_type": "code",
   "execution_count": 9,
   "metadata": {},
   "outputs": [
    {
     "name": "stderr",
     "output_type": "stream",
     "text": [
      "Sent request with id: fs_client_8:2 to queue requests_cola_1\n"
     ]
    },
    {
     "name": "stdout",
     "output_type": "stream",
     "text": [
      "Error -32601 : The method does not exist/is not available.\n",
      "\n",
      " \n"
     ]
    }
   ],
   "source": [
    "client.check_registry =\"never\"\n",
    "client.set_default_queue(\"cola_1\")\n",
    "\n",
    "y = client.rpc_async(\"fake\", [1, 0])\n",
    "\n",
    "try:\n",
    "    y.get()\n",
    "except Exception as e:\n",
    "    print(e)\n"
   ]
  },
  {
   "cell_type": "code",
   "execution_count": 10,
   "metadata": {},
   "outputs": [
    {
     "name": "stderr",
     "output_type": "stream",
     "text": [
      "Sent request with id: fs_client_8:3 to queue requests_cola_1\n"
     ]
    },
    {
     "data": {
      "text/plain": [
       "'Esto es un error'"
      ]
     },
     "execution_count": 10,
     "metadata": {},
     "output_type": "execute_result"
    }
   ],
   "source": [
    "client.check_registry =\"never\"\n",
    "client.set_default_queue(\"cola_1\")\n",
    "\n",
    "y = client.rpc_async(\"fake\", [1, 0])\n",
    "\n",
    "y.safe_get(default=\"Esto es un error\")"
   ]
  },
  {
   "cell_type": "code",
   "execution_count": 11,
   "metadata": {},
   "outputs": [],
   "source": [
    "client.check_registry =\"cache\""
   ]
  },
  {
   "cell_type": "code",
   "execution_count": 12,
   "metadata": {},
   "outputs": [
    {
     "name": "stderr",
     "output_type": "stream",
     "text": [
      "Sent request with id: fs_client_8:4 to queue requests_cola_1\n"
     ]
    }
   ],
   "source": [
    "x = client.rpc_async(\"div\", [1, 0])"
   ]
  },
  {
   "cell_type": "code",
   "execution_count": 13,
   "metadata": {},
   "outputs": [
    {
     "name": "stdout",
     "output_type": "stream",
     "text": [
      "Error -32603 : Internal RPC error.\n",
      "\n",
      " Traceback (most recent call last):\n",
      "  File \"G:\\python\\distributed_processing\\python\\distributed_processing\\worker.py\", line 149, in _process_single_request\n",
      "    result = func[request[\"method\"]](*args, **kwargs)\n",
      "             ^^^^^^^^^^^^^^^^^^^^^^^^^^^^^^^^^^^^^^^^\n",
      "  File \"C:\\Users\\agarcia\\AppData\\Local\\Temp\\ipykernel_11212\\1866336200.py\", line 8, in div\n",
      "    return x / y\n",
      "           ~~^~~\n",
      "ZeroDivisionError: division by zero\n",
      "\n"
     ]
    }
   ],
   "source": [
    "try:\n",
    "    x.get()\n",
    "except Exception as e:\n",
    "    print(e)"
   ]
  },
  {
   "cell_type": "code",
   "execution_count": 14,
   "metadata": {},
   "outputs": [
    {
     "name": "stderr",
     "output_type": "stream",
     "text": [
      "Sent request with id: fs_client_8:5 to queue requests_cola_1\n"
     ]
    },
    {
     "data": {
      "text/plain": [
       "2"
      ]
     },
     "execution_count": 14,
     "metadata": {},
     "output_type": "execute_result"
    }
   ],
   "source": [
    "client.rpc_sync(\"add\", [1, 1])"
   ]
  },
  {
   "cell_type": "code",
   "execution_count": 15,
   "metadata": {},
   "outputs": [
    {
     "name": "stderr",
     "output_type": "stream",
     "text": [
      "Sent request with id: fs_client_8:6 to queue requests_py_eval\n"
     ]
    }
   ],
   "source": [
    "def f(x,y): return x + y\n",
    "\n",
    "y = client.rpc_async_fn(f, [1, 2.0])"
   ]
  },
  {
   "cell_type": "code",
   "execution_count": 16,
   "metadata": {},
   "outputs": [
    {
     "data": {
      "text/plain": [
       "3.0"
      ]
     },
     "execution_count": 16,
     "metadata": {},
     "output_type": "execute_result"
    }
   ],
   "source": [
    "y.get()"
   ]
  },
  {
   "cell_type": "code",
   "execution_count": 17,
   "metadata": {},
   "outputs": [
    {
     "name": "stderr",
     "output_type": "stream",
     "text": [
      "Sent request with id: fs_client_8:7 to queue requests_py_eval\n"
     ]
    },
    {
     "data": {
      "text/plain": [
       "5.0"
      ]
     },
     "execution_count": 17,
     "metadata": {},
     "output_type": "execute_result"
    }
   ],
   "source": [
    "client.rpc_sync_fn(f, [3.0, 2.0])"
   ]
  },
  {
   "cell_type": "code",
   "execution_count": 18,
   "metadata": {
    "tags": []
   },
   "outputs": [
    {
     "name": "stderr",
     "output_type": "stream",
     "text": [
      "Sent request with id: fs_client_8:8 to queue requests_cola_1\n"
     ]
    },
    {
     "name": "stdout",
     "output_type": "stream",
     "text": [
      "('mul', [0.9310778652941694, 0.42680490812944827], {})\n",
      "('add', [0.19835790227472705, 0.7373592994891559], {})\n"
     ]
    },
    {
     "name": "stderr",
     "output_type": "stream",
     "text": [
      "Sent request with id: fs_client_8:9 to queue requests_cola_1\n",
      "Sent request with id: fs_client_8:10 to queue requests_cola_1\n",
      "Sent request with id: fs_client_8:11 to queue requests_cola_1\n"
     ]
    },
    {
     "name": "stdout",
     "output_type": "stream",
     "text": [
      "('div', [0.05930833616290898, 0.7464618337145831], {})\n",
      "('add', [0.8589317330859112, 0.8951106942163912], {})\n"
     ]
    },
    {
     "name": "stderr",
     "output_type": "stream",
     "text": [
      "Sent request with id: fs_client_8:12 to queue requests_cola_1\n"
     ]
    },
    {
     "name": "stdout",
     "output_type": "stream",
     "text": [
      "('div', [0.8867805178873676, 0.2519812252955823], {})\n",
      "('div', [0.11145505278683998, 0.9775709089785757], {})\n"
     ]
    },
    {
     "name": "stderr",
     "output_type": "stream",
     "text": [
      "Sent request with id: fs_client_8:13 to queue requests_cola_1\n",
      "Sent request with id: fs_client_8:14 to queue requests_cola_1\n"
     ]
    },
    {
     "name": "stdout",
     "output_type": "stream",
     "text": [
      "('mul', [0.5930020731292368, 0.936446310536412], {})\n",
      "('div', [0.6917438450654931, 0.6441394127811294], {})\n"
     ]
    },
    {
     "name": "stderr",
     "output_type": "stream",
     "text": [
      "Sent request with id: fs_client_8:15 to queue requests_cola_1\n",
      "Sent request with id: fs_client_8:16 to queue requests_cola_1\n",
      "Sent request with id: fs_client_8:17 to queue requests_cola_1\n"
     ]
    },
    {
     "name": "stdout",
     "output_type": "stream",
     "text": [
      "('div', [0.28048148334449585, 0.3619924692726658], {})\n",
      "('add', [0.7928420916667471, 0.2877636780706918], {})\n"
     ]
    }
   ],
   "source": [
    "fs =[]\n",
    "tp = []\n",
    "N = 10\n",
    "for i in range(N):\n",
    "    fn = random.choice((\"add\", \"mul\", \"div\"))\n",
    "    t = (fn, [random.random(),random.random()], {})\n",
    "    print(t)\n",
    "    tp.append(t)\n",
    "    fs.append(client.rpc_async(t[0], t[1]))"
   ]
  },
  {
   "cell_type": "code",
   "execution_count": 19,
   "metadata": {},
   "outputs": [
    {
     "data": {
      "text/plain": [
       "[0.3973886027582408,\n",
       " 0.935717201763883,\n",
       " 0.0794526035815866,\n",
       " 1.7540424273023025,\n",
       " 3.5192325017355746,\n",
       " 0.11401224378014159,\n",
       " 0.5553146035223174,\n",
       " 1.0739039272241195,\n",
       " 0.7748268462823381,\n",
       " 1.080605769737439]"
      ]
     },
     "execution_count": 19,
     "metadata": {},
     "output_type": "execute_result"
    }
   ],
   "source": [
    "[f.get() for f in fs]"
   ]
  },
  {
   "cell_type": "code",
   "execution_count": 20,
   "metadata": {},
   "outputs": [
    {
     "name": "stderr",
     "output_type": "stream",
     "text": [
      "Sent request with id: fs_client_8:18 to queue requests_cola_1\n",
      "Sent request with id: fs_client_8:19 to queue requests_cola_1\n",
      "Sent request with id: fs_client_8:20 to queue requests_cola_1\n",
      "Sent request with id: fs_client_8:21 to queue requests_cola_1\n",
      "Sent request with id: fs_client_8:22 to queue requests_cola_1\n",
      "Sent request with id: fs_client_8:23 to queue requests_cola_1\n",
      "Sent request with id: fs_client_8:24 to queue requests_cola_1\n",
      "Sent request with id: fs_client_8:25 to queue requests_cola_1\n",
      "Sent request with id: fs_client_8:26 to queue requests_cola_1\n",
      "Sent request with id: fs_client_8:27 to queue requests_cola_1\n"
     ]
    }
   ],
   "source": [
    "fs = client.rpc_multi_async(tp)"
   ]
  },
  {
   "cell_type": "code",
   "execution_count": 21,
   "metadata": {},
   "outputs": [
    {
     "data": {
      "text/plain": [
       "['PENDING',\n",
       " 'PENDING',\n",
       " 'PENDING',\n",
       " 'PENDING',\n",
       " 'PENDING',\n",
       " 'PENDING',\n",
       " 'PENDING',\n",
       " 'PENDING',\n",
       " 'PENDING',\n",
       " 'PENDING']"
      ]
     },
     "execution_count": 21,
     "metadata": {},
     "output_type": "execute_result"
    }
   ],
   "source": [
    "[f.status for f in fs]"
   ]
  },
  {
   "cell_type": "code",
   "execution_count": 22,
   "metadata": {},
   "outputs": [],
   "source": [
    "client._fetch_all_available_responses()"
   ]
  },
  {
   "cell_type": "code",
   "execution_count": 23,
   "metadata": {},
   "outputs": [
    {
     "data": {
      "text/plain": [
       "{'fs_client_8:18': 1743627799.7102692,\n",
       " 'fs_client_8:19': 1743627799.822434,\n",
       " 'fs_client_8:20': 1743627799.9109473,\n",
       " 'fs_client_8:21': 1743627800.0077562,\n",
       " 'fs_client_8:22': 1743627800.0953689,\n",
       " 'fs_client_8:23': 1743627800.1807706,\n",
       " 'fs_client_8:24': 1743627800.2998328,\n",
       " 'fs_client_8:25': 1743627800.3656628,\n",
       " 'fs_client_8:26': 1743627800.456509,\n",
       " 'fs_client_8:27': 1743627800.55219}"
      ]
     },
     "execution_count": 23,
     "metadata": {},
     "output_type": "execute_result"
    }
   ],
   "source": [
    "client.pending"
   ]
  },
  {
   "cell_type": "code",
   "execution_count": 24,
   "metadata": {},
   "outputs": [
    {
     "data": {
      "text/plain": [
       "[0.3973886027582408,\n",
       " 0.935717201763883,\n",
       " 0.0794526035815866,\n",
       " 1.7540424273023025,\n",
       " 3.5192325017355746,\n",
       " 0.11401224378014159,\n",
       " 0.5553146035223174,\n",
       " 1.0739039272241195,\n",
       " 0.7748268462823381,\n",
       " 1.080605769737439]"
      ]
     },
     "execution_count": 24,
     "metadata": {},
     "output_type": "execute_result"
    }
   ],
   "source": [
    "[f.get() for f in fs]"
   ]
  },
  {
   "cell_type": "code",
   "execution_count": 25,
   "metadata": {},
   "outputs": [
    {
     "name": "stderr",
     "output_type": "stream",
     "text": [
      "Sent batch request with 10 requests to requests_cola_1\n"
     ]
    }
   ],
   "source": [
    "fs = client.rpc_batch_async(tp)"
   ]
  },
  {
   "cell_type": "code",
   "execution_count": 26,
   "metadata": {},
   "outputs": [
    {
     "data": {
      "text/plain": [
       "[0.3973886027582408,\n",
       " 0.935717201763883,\n",
       " 0.0794526035815866,\n",
       " 1.7540424273023025,\n",
       " 3.5192325017355746,\n",
       " 0.11401224378014159,\n",
       " 0.5553146035223174,\n",
       " 1.0739039272241195,\n",
       " 0.7748268462823381,\n",
       " 1.080605769737439]"
      ]
     },
     "execution_count": 26,
     "metadata": {},
     "output_type": "execute_result"
    }
   ],
   "source": [
    "[f.get() for f in fs]"
   ]
  },
  {
   "cell_type": "code",
   "execution_count": 27,
   "metadata": {},
   "outputs": [
    {
     "name": "stderr",
     "output_type": "stream",
     "text": [
      "Sent batch request with 10 requests to requests_cola_1\n"
     ]
    },
    {
     "data": {
      "text/plain": [
       "[0.3973886027582408,\n",
       " 0.935717201763883,\n",
       " 0.0794526035815866,\n",
       " 1.7540424273023025,\n",
       " 3.5192325017355746,\n",
       " 0.11401224378014159,\n",
       " 0.5553146035223174,\n",
       " 1.0739039272241195,\n",
       " 0.7748268462823381,\n",
       " 1.080605769737439]"
      ]
     },
     "execution_count": 27,
     "metadata": {},
     "output_type": "execute_result"
    }
   ],
   "source": [
    "client.rpc_batch_sync(tp)"
   ]
  },
  {
   "cell_type": "code",
   "execution_count": 28,
   "metadata": {
    "tags": []
   },
   "outputs": [
    {
     "name": "stdout",
     "output_type": "stream",
     "text": [
      "('add', [0.5985671053585057, 0.5513488599304533], {})\n",
      "('mul', [0.8356012673913551, 0.6316160175591796], {})\n",
      "('add', [0.24356020420305124, 0.04892533937642707], {})\n",
      "('div', [0.7466443719306405, 0.19060459031071386], {})\n",
      "('mul', [0.17706692739590946, 0.18054034287323262], {})\n",
      "('fake', [0.6929607413511351, 0.6884459519362975], {})\n",
      "('mul', [0.7018687976109835, 0.2554804639339521], {})\n",
      "('mul', [0.8786140168102163, 0.3170585959756841], {})\n",
      "('add', [0.42219125943081137, 0.1190657562767865], {})\n",
      "('fake', [0.9013220479934159, 0.23136931371674507], {})\n"
     ]
    }
   ],
   "source": [
    "fs =[]\n",
    "tp = []\n",
    "N = 10\n",
    "for i in range(N):\n",
    "    fn = random.choice((\"add\", \"mul\", \"div\", \"fake\"))\n",
    "    t = (fn, [random.random(),random.random()], {})\n",
    "    print(t)\n",
    "    tp.append(t)"
   ]
  },
  {
   "cell_type": "code",
   "execution_count": 29,
   "metadata": {},
   "outputs": [
    {
     "data": {
      "text/plain": [
       "[('add', [0.5985671053585057, 0.5513488599304533], {}),\n",
       " ('mul', [0.8356012673913551, 0.6316160175591796], {}),\n",
       " ('add', [0.24356020420305124, 0.04892533937642707], {}),\n",
       " ('div', [0.7466443719306405, 0.19060459031071386], {}),\n",
       " ('mul', [0.17706692739590946, 0.18054034287323262], {}),\n",
       " ('fake', [0.6929607413511351, 0.6884459519362975], {}),\n",
       " ('mul', [0.7018687976109835, 0.2554804639339521], {}),\n",
       " ('mul', [0.8786140168102163, 0.3170585959756841], {}),\n",
       " ('add', [0.42219125943081137, 0.1190657562767865], {}),\n",
       " ('fake', [0.9013220479934159, 0.23136931371674507], {})]"
      ]
     },
     "execution_count": 29,
     "metadata": {},
     "output_type": "execute_result"
    }
   ],
   "source": [
    "tp"
   ]
  },
  {
   "cell_type": "code",
   "execution_count": 30,
   "metadata": {
    "tags": []
   },
   "outputs": [
    {
     "name": "stderr",
     "output_type": "stream",
     "text": [
      "Sent batch request with 10 requests to requests_cola_1\n"
     ]
    }
   ],
   "source": [
    "client.check_registry =\"never\"\n",
    "client.set_default_queue(\"cola_1\")\n",
    "\n",
    "fs = client.rpc_batch_async(tp)"
   ]
  },
  {
   "cell_type": "code",
   "execution_count": 31,
   "metadata": {},
   "outputs": [
    {
     "data": {
      "text/plain": [
       "[1.149915965288959,\n",
       " 0.5277791447771308,\n",
       " 0.2924855435794783,\n",
       " 3.917242342975576,\n",
       " 0.03196772378356728,\n",
       " None,\n",
       " 0.17931376603441918,\n",
       " 0.2785721265744033,\n",
       " 0.5412570157075979,\n",
       " None]"
      ]
     },
     "execution_count": 31,
     "metadata": {},
     "output_type": "execute_result"
    }
   ],
   "source": [
    "[f.safe_get() for f in fs]"
   ]
  },
  {
   "cell_type": "code",
   "execution_count": 32,
   "metadata": {},
   "outputs": [
    {
     "data": {
      "text/plain": [
       "{}"
      ]
     },
     "execution_count": 32,
     "metadata": {},
     "output_type": "execute_result"
    }
   ],
   "source": [
    "client.responses"
   ]
  },
  {
   "cell_type": "code",
   "execution_count": 33,
   "metadata": {},
   "outputs": [],
   "source": [
    "client.check_registry =\"cache\""
   ]
  },
  {
   "cell_type": "code",
   "execution_count": 34,
   "metadata": {
    "tags": []
   },
   "outputs": [
    {
     "name": "stdout",
     "output_type": "stream",
     "text": [
      "Method fake does not exist/is not available.\n"
     ]
    }
   ],
   "source": [
    "try:\n",
    "    x = client.rpc_batch_sync(tp, timeout=5)\n",
    "except Exception as e:\n",
    "    print(e)"
   ]
  },
  {
   "cell_type": "code",
   "execution_count": 35,
   "metadata": {
    "tags": []
   },
   "outputs": [
    {
     "name": "stdout",
     "output_type": "stream",
     "text": [
      "Method fake does not exist/is not available.\n"
     ]
    }
   ],
   "source": [
    "try:    \n",
    "    x = client.rpc_batch_sync(tp, timeout=5)\n",
    "except Exception as e:\n",
    "    print(e)"
   ]
  },
  {
   "cell_type": "code",
   "execution_count": 36,
   "metadata": {},
   "outputs": [
    {
     "name": "stderr",
     "output_type": "stream",
     "text": [
      "Sent request with id: fs_client_8:58 to queue requests_cola_1\n"
     ]
    }
   ],
   "source": [
    "client.check_registry=\"never\"\n",
    "client.set_default_queue(\"cola_1\")\n",
    "\n",
    "x = client.rpc_async(\"kk\", [1, 0])"
   ]
  },
  {
   "cell_type": "code",
   "execution_count": 37,
   "metadata": {
    "tags": []
   },
   "outputs": [
    {
     "name": "stdout",
     "output_type": "stream",
     "text": [
      "Error -32601 : The method does not exist/is not available.\n",
      "\n",
      " \n"
     ]
    }
   ],
   "source": [
    "try:\n",
    "    x.get()\n",
    "except Exception as e:\n",
    "    print(e)"
   ]
  },
  {
   "cell_type": "code",
   "execution_count": 38,
   "metadata": {},
   "outputs": [
    {
     "name": "stderr",
     "output_type": "stream",
     "text": [
      "Sent request with id: fs_client_8:59 to queue requests_cola_1\n"
     ]
    }
   ],
   "source": [
    "y = client.rpc_async(\"add\", [1, 0])"
   ]
  },
  {
   "cell_type": "code",
   "execution_count": 39,
   "metadata": {},
   "outputs": [
    {
     "data": {
      "text/plain": [
       "1"
      ]
     },
     "execution_count": 39,
     "metadata": {},
     "output_type": "execute_result"
    }
   ],
   "source": [
    "y.get(5)"
   ]
  },
  {
   "cell_type": "code",
   "execution_count": 40,
   "metadata": {
    "tags": []
   },
   "outputs": [
    {
     "name": "stderr",
     "output_type": "stream",
     "text": [
      "Sent request with id: fs_client_8:60 to queue requests_cola_1\n"
     ]
    },
    {
     "name": "stdout",
     "output_type": "stream",
     "text": [
      "Error -32601 : The method does not exist/is not available.\n",
      "\n",
      " \n"
     ]
    }
   ],
   "source": [
    "def f(x,y): return x + y\n",
    "\n",
    "client.check_registry=\"never\"\n",
    "y = client.rpc_async_fn(f, [1, 2.0])\n",
    "try:\n",
    "    y.get()\n",
    "except Exception as e:\n",
    "    print(e)"
   ]
  }
 ],
 "metadata": {
  "kernelspec": {
   "display_name": "Python 3 (ipykernel)",
   "language": "python",
   "name": "python3"
  },
  "language_info": {
   "codemirror_mode": {
    "name": "ipython",
    "version": 3
   },
   "file_extension": ".py",
   "mimetype": "text/x-python",
   "name": "python",
   "nbconvert_exporter": "python",
   "pygments_lexer": "ipython3",
   "version": "3.12.9"
  }
 },
 "nbformat": 4,
 "nbformat_minor": 4
}
