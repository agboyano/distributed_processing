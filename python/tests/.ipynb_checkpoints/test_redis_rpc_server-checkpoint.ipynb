{
 "cells": [
  {
   "cell_type": "code",
   "execution_count": 1,
   "metadata": {},
   "outputs": [],
   "source": [
    "from distributed_rpc.serializers import JsonSerializer\n",
    "from distributed_rpc.rpc_server import RPCServer\n",
    "from distributed_rpc.redis_connector import RedisConnector"
   ]
  },
  {
   "cell_type": "code",
   "execution_count": 2,
   "metadata": {},
   "outputs": [],
   "source": [
    "REDIS_HOST = \"localhost\"\n",
    "REDIS_PORT = 6379\n",
    "REDIS_DB = 0\n",
    "NAMESPACE = \"tasks\""
   ]
  },
  {
   "cell_type": "code",
   "execution_count": 3,
   "metadata": {},
   "outputs": [
    {
     "name": "stderr",
     "output_type": "stream",
     "text": [
      "Server id: tasks:redis_server:1\n"
     ]
    }
   ],
   "source": [
    "redis_connector = RedisConnector(redis_host=REDIS_HOST, redis_port=REDIS_PORT, \n",
    "                                 redis_db=REDIS_DB, namespace=NAMESPACE)\n",
    "\n",
    "\n",
    "redis_connector.clean_namespace()\n",
    "\n",
    "server = RPCServer(JsonSerializer(), redis_connector)\n",
    "\n"
   ]
  },
  {
   "cell_type": "code",
   "execution_count": 4,
   "metadata": {},
   "outputs": [],
   "source": [
    "import dill\n",
    "import base64\n",
    "import random\n",
    "import time\n",
    "\n",
    "def add(x, y):\n",
    "    return x + y\n",
    "\n",
    "def mul(x, y):\n",
    "    return x * y\n",
    "\n",
    "def div(x, y):\n",
    "    return x / y\n",
    "\n",
    "def hola(nombre, calificativo=\"listo\"):\n",
    "    return f\"Hola {nombre}, eres muy {calificativo}\"\n",
    "\n",
    "\n",
    "def eval_py_function(str_fn, args=[], kwargs={}):\n",
    "    \"str_fn encoded en base64 ascii\"\n",
    "    return dill.loads(base64.b64decode(str_fn))(*args, **kwargs)\n",
    "\n",
    "func_dict1 = {\"add\" : add,\n",
    "              \"mul\" : mul,\n",
    "              \"div\" : div}\n",
    "\n",
    "func_dict2 = {\"eval_py_function\": eval_py_function}\n",
    "\n",
    "func_dict3 = {\"hola\": hola}"
   ]
  },
  {
   "cell_type": "code",
   "execution_count": 5,
   "metadata": {},
   "outputs": [
    {
     "name": "stderr",
     "output_type": "stream",
     "text": [
      "Method add published as available for queues: tasks:requests:cola_1\n",
      "Method mul published as available for queues: tasks:requests:cola_1\n",
      "Method div published as available for queues: tasks:requests:cola_1\n",
      "Method eval_py_function published as available for queues: tasks:requests:cola_2\n"
     ]
    }
   ],
   "source": [
    "server.add_requests_queue(\"cola_1\", func_dict1)\n",
    "server.add_requests_queue(\"cola_2\", func_dict2)\n",
    "server.add_requests_queue(\"cola_3\", func_dict3, register=False)\n",
    "server.update_methods_registry()"
   ]
  },
  {
   "cell_type": "code",
   "execution_count": null,
   "metadata": {},
   "outputs": [
    {
     "name": "stderr",
     "output_type": "stream",
     "text": [
      "Recieved single request in queue tasks:requests:cola_2\n",
      "Processed request with id tasks:redis_client:1:1 in queue tasks:requests:cola_2\n",
      "Response with id tasks:redis_client:1:1 sent to tasks:redis_client:1:responses\n",
      "Recieved single request in queue tasks:requests:cola_1\n",
      "Processed request with id tasks:redis_client:1:2 in queue tasks:requests:cola_1\n",
      "Response with id tasks:redis_client:1:2 sent to tasks:redis_client:1:responses\n",
      "Recieved single request in queue tasks:requests:cola_1\n",
      "Processed request with id tasks:redis_client:1:3 in queue tasks:requests:cola_1\n",
      "Response with id tasks:redis_client:1:3 sent to tasks:redis_client:1:responses\n",
      "Recieved single request in queue tasks:requests:cola_1\n",
      "Processed request with id tasks:redis_client:1:4 in queue tasks:requests:cola_1\n",
      "Response with id tasks:redis_client:1:4 sent to tasks:redis_client:1:responses\n",
      "Recieved single request in queue tasks:requests:cola_1\n",
      "Processed request with id tasks:redis_client:1:5 in queue tasks:requests:cola_1\n",
      "Response with id tasks:redis_client:1:5 sent to tasks:redis_client:1:responses\n",
      "Recieved single request in queue tasks:requests:cola_1\n",
      "Processed request with id tasks:redis_client:1:6 in queue tasks:requests:cola_1\n",
      "Response with id tasks:redis_client:1:6 sent to tasks:redis_client:1:responses\n",
      "Recieved single request in queue tasks:requests:cola_1\n",
      "Processed request with id tasks:redis_client:1:7 in queue tasks:requests:cola_1\n",
      "Response with id tasks:redis_client:1:7 sent to tasks:redis_client:1:responses\n",
      "Recieved single request in queue tasks:requests:cola_1\n",
      "Processed request with id tasks:redis_client:1:8 in queue tasks:requests:cola_1\n",
      "Response with id tasks:redis_client:1:8 sent to tasks:redis_client:1:responses\n",
      "Recieved single request in queue tasks:requests:cola_1\n",
      "Processed request with id tasks:redis_client:1:9 in queue tasks:requests:cola_1\n",
      "Response with id tasks:redis_client:1:9 sent to tasks:redis_client:1:responses\n",
      "Recieved single request in queue tasks:requests:cola_1\n",
      "Processed request with id tasks:redis_client:1:10 in queue tasks:requests:cola_1\n",
      "Response with id tasks:redis_client:1:10 sent to tasks:redis_client:1:responses\n",
      "Recieved single request in queue tasks:requests:cola_1\n",
      "Processed request with id tasks:redis_client:1:11 in queue tasks:requests:cola_1\n",
      "Response with id tasks:redis_client:1:11 sent to tasks:redis_client:1:responses\n",
      "Recieved single request in queue tasks:requests:cola_1\n",
      "Processed request with id tasks:redis_client:1:12 in queue tasks:requests:cola_1\n",
      "Response with id tasks:redis_client:1:12 sent to tasks:redis_client:1:responses\n",
      "Processed request with id tasks:redis_client:1:13 in queue tasks:requests:cola_1\n",
      "Response with id tasks:redis_client:1:13 sent to tasks:redis_client:1:responses\n",
      "Processed request with id tasks:redis_client:1:14 in queue tasks:requests:cola_1\n",
      "Response with id tasks:redis_client:1:14 sent to tasks:redis_client:1:responses\n",
      "Processed request with id tasks:redis_client:1:15 in queue tasks:requests:cola_1\n",
      "Response with id tasks:redis_client:1:15 sent to tasks:redis_client:1:responses\n",
      "Processed request with id tasks:redis_client:1:16 in queue tasks:requests:cola_1\n",
      "Response with id tasks:redis_client:1:16 sent to tasks:redis_client:1:responses\n",
      "Processed request with id tasks:redis_client:1:17 in queue tasks:requests:cola_1\n",
      "Response with id tasks:redis_client:1:17 sent to tasks:redis_client:1:responses\n",
      "Processed request with id tasks:redis_client:1:18 in queue tasks:requests:cola_1\n",
      "Response with id tasks:redis_client:1:18 sent to tasks:redis_client:1:responses\n",
      "Processed request with id tasks:redis_client:1:19 in queue tasks:requests:cola_1\n",
      "Response with id tasks:redis_client:1:19 sent to tasks:redis_client:1:responses\n",
      "Processed request with id tasks:redis_client:1:20 in queue tasks:requests:cola_1\n",
      "Response with id tasks:redis_client:1:20 sent to tasks:redis_client:1:responses\n",
      "Processed request with id tasks:redis_client:1:21 in queue tasks:requests:cola_1\n",
      "Response with id tasks:redis_client:1:21 sent to tasks:redis_client:1:responses\n",
      "Recieved single request in queue tasks:requests:cola_1\n",
      "Processed request with id tasks:redis_client:1:22 in queue tasks:requests:cola_1\n",
      "Response with id tasks:redis_client:1:22 sent to tasks:redis_client:1:responses\n",
      "Processed request with id tasks:redis_client:1:23 in queue tasks:requests:cola_1\n",
      "Response with id tasks:redis_client:1:23 sent to tasks:redis_client:1:responses\n",
      "Processed request with id tasks:redis_client:1:24 in queue tasks:requests:cola_1\n",
      "Response with id tasks:redis_client:1:24 sent to tasks:redis_client:1:responses\n",
      "Processed request with id tasks:redis_client:1:25 in queue tasks:requests:cola_1\n",
      "Response with id tasks:redis_client:1:25 sent to tasks:redis_client:1:responses\n",
      "Processed request with id tasks:redis_client:1:26 in queue tasks:requests:cola_1\n",
      "Response with id tasks:redis_client:1:26 sent to tasks:redis_client:1:responses\n",
      "Processed request with id tasks:redis_client:1:27 in queue tasks:requests:cola_1\n",
      "Response with id tasks:redis_client:1:27 sent to tasks:redis_client:1:responses\n",
      "Processed request with id tasks:redis_client:1:28 in queue tasks:requests:cola_1\n",
      "Response with id tasks:redis_client:1:28 sent to tasks:redis_client:1:responses\n",
      "Processed request with id tasks:redis_client:1:29 in queue tasks:requests:cola_1\n",
      "Response with id tasks:redis_client:1:29 sent to tasks:redis_client:1:responses\n",
      "Processed request with id tasks:redis_client:1:30 in queue tasks:requests:cola_1\n",
      "Response with id tasks:redis_client:1:30 sent to tasks:redis_client:1:responses\n",
      "Processed request with id tasks:redis_client:1:31 in queue tasks:requests:cola_1\n",
      "Response with id tasks:redis_client:1:31 sent to tasks:redis_client:1:responses\n",
      "Recieved single request in queue tasks:requests:cola_1\n",
      "Processed request with id tasks:redis_client:1:32 in queue tasks:requests:cola_1\n",
      "Response with id tasks:redis_client:1:32 sent to tasks:redis_client:1:responses\n",
      "Recieved single request in queue tasks:requests:cola_1\n",
      "Processed request with id tasks:redis_client:1:33 in queue tasks:requests:cola_1\n",
      "Response with id tasks:redis_client:1:33 sent to tasks:redis_client:1:responses\n",
      "Recieved single request in queue tasks:requests:cola_1\n",
      "Processed request with id tasks:redis_client:1:34 in queue tasks:requests:cola_1\n",
      "Response with id tasks:redis_client:1:34 sent to tasks:redis_client:1:responses\n",
      "Recieved single request in queue tasks:requests:cola_1\n",
      "Processed request with id tasks:redis_client:1:35 in queue tasks:requests:cola_1\n",
      "Response with id tasks:redis_client:1:35 sent to tasks:redis_client:1:responses\n",
      "Recieved single request in queue tasks:requests:cola_1\n",
      "Processed request with id tasks:redis_client:1:36 in queue tasks:requests:cola_1\n",
      "Response with id tasks:redis_client:1:36 sent to tasks:redis_client:1:responses\n",
      "Recieved single request in queue tasks:requests:cola_1\n",
      "Processed request with id tasks:redis_client:1:37 in queue tasks:requests:cola_1\n",
      "Response with id tasks:redis_client:1:37 sent to tasks:redis_client:1:responses\n",
      "Recieved single request in queue tasks:requests:cola_1\n",
      "Processed request with id tasks:redis_client:1:38 in queue tasks:requests:cola_1\n",
      "Response with id tasks:redis_client:1:38 sent to tasks:redis_client:1:responses\n",
      "Recieved single request in queue tasks:requests:cola_1\n",
      "Processed request with id tasks:redis_client:1:39 in queue tasks:requests:cola_1\n",
      "Response with id tasks:redis_client:1:39 sent to tasks:redis_client:1:responses\n"
     ]
    }
   ],
   "source": [
    "server.run()"
   ]
  },
  {
   "cell_type": "code",
   "execution_count": null,
   "metadata": {},
   "outputs": [],
   "source": []
  },
  {
   "cell_type": "code",
   "execution_count": null,
   "metadata": {},
   "outputs": [],
   "source": []
  }
 ],
 "metadata": {
  "kernelspec": {
   "display_name": "Python 3",
   "language": "python",
   "name": "python3"
  },
  "language_info": {
   "codemirror_mode": {
    "name": "ipython",
    "version": 3
   },
   "file_extension": ".py",
   "mimetype": "text/x-python",
   "name": "python",
   "nbconvert_exporter": "python",
   "pygments_lexer": "ipython3",
   "version": "3.7.7"
  }
 },
 "nbformat": 4,
 "nbformat_minor": 4
}
