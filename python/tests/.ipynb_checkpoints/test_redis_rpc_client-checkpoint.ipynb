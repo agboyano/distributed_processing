{
 "cells": [
  {
   "cell_type": "code",
   "execution_count": 1,
   "metadata": {},
   "outputs": [],
   "source": [
    "import random\n",
    "\n",
    "from distributed_rpc.serializers import JsonSerializer\n",
    "from distributed_rpc.rpc_client import RPCClient\n",
    "from distributed_rpc.redis_connector import RedisConnector\n"
   ]
  },
  {
   "cell_type": "code",
   "execution_count": 2,
   "metadata": {},
   "outputs": [],
   "source": [
    "REDIS_HOST = \"localhost\"\n",
    "REDIS_PORT = 6379\n",
    "REDIS_DB = 0\n",
    "NAMESPACE = \"tasks\""
   ]
  },
  {
   "cell_type": "code",
   "execution_count": 3,
   "metadata": {},
   "outputs": [
    {
     "name": "stderr",
     "output_type": "stream",
     "text": [
      "Client with id: tasks:redis_client:1\n",
      "Results queue: tasks:redis_client:1:responses\n"
     ]
    }
   ],
   "source": [
    "redis_connector = RedisConnector(redis_host=REDIS_HOST, redis_port=REDIS_PORT, \n",
    "                                 redis_db=REDIS_DB, namespace=NAMESPACE)\n",
    "\n",
    "client = RPCClient(JsonSerializer(), redis_connector, check_registry=\"cache\")"
   ]
  },
  {
   "cell_type": "code",
   "execution_count": 4,
   "metadata": {},
   "outputs": [
    {
     "name": "stderr",
     "output_type": "stream",
     "text": [
      "Sent request with id: tasks:redis_client:1:1 to queue tasks:requests:cola_2\n"
     ]
    }
   ],
   "source": [
    "def f(x,y): return x + y\n",
    "\n",
    "y = client.rpc_async_fn(f, [1, 2.0])"
   ]
  },
  {
   "cell_type": "code",
   "execution_count": 5,
   "metadata": {},
   "outputs": [
    {
     "data": {
      "text/plain": [
       "3.0"
      ]
     },
     "execution_count": 5,
     "metadata": {},
     "output_type": "execute_result"
    }
   ],
   "source": [
    "y.get()"
   ]
  },
  {
   "cell_type": "code",
   "execution_count": 6,
   "metadata": {},
   "outputs": [
    {
     "name": "stderr",
     "output_type": "stream",
     "text": [
      "Sent request with id: tasks:redis_client:1:2 to queue tasks:requests:cola_1\n",
      "Sent request with id: tasks:redis_client:1:3 to queue tasks:requests:cola_1\n",
      "Sent request with id: tasks:redis_client:1:4 to queue tasks:requests:cola_1\n",
      "Sent request with id: tasks:redis_client:1:5 to queue tasks:requests:cola_1\n",
      "Sent request with id: tasks:redis_client:1:6 to queue tasks:requests:cola_1\n",
      "Sent request with id: tasks:redis_client:1:7 to queue tasks:requests:cola_1\n",
      "Sent request with id: tasks:redis_client:1:8 to queue tasks:requests:cola_1\n",
      "Sent request with id: tasks:redis_client:1:9 to queue tasks:requests:cola_1\n",
      "Sent request with id: tasks:redis_client:1:10 to queue tasks:requests:cola_1\n",
      "Sent request with id: tasks:redis_client:1:11 to queue tasks:requests:cola_1\n"
     ]
    },
    {
     "name": "stdout",
     "output_type": "stream",
     "text": [
      "('add', [0.845913867815452, 0.7784195908668198], {})\n",
      "('div', [0.3868583586431483, 0.8225096195650141], {})\n",
      "('div', [0.9059351589957474, 0.7851569050196873], {})\n",
      "('mul', [0.36302207095541483, 0.9912087424448128], {})\n",
      "('add', [0.5472791122661869, 0.36388896361023815], {})\n",
      "('add', [0.8165422321288862, 0.14421961271578898], {})\n",
      "('add', [0.3835822436097178, 0.010349406987874343], {})\n",
      "('div', [0.8481365306323112, 0.8264745852631835], {})\n",
      "('div', [0.29271154783635944, 0.768986841350042], {})\n",
      "('add', [0.27507301946617135, 0.5306686626774871], {})\n"
     ]
    }
   ],
   "source": [
    "fs =[]\n",
    "tp = []\n",
    "N = 10\n",
    "for i in range(N):\n",
    "    fn = random.choice((\"add\", \"mul\", \"div\"))\n",
    "    t = (fn, [random.random(),random.random()], {})\n",
    "    print(t)\n",
    "    tp.append(t)\n",
    "    fs.append(client.rpc_async(t[0], t[1]))"
   ]
  },
  {
   "cell_type": "code",
   "execution_count": 7,
   "metadata": {},
   "outputs": [
    {
     "data": {
      "text/plain": [
       "[1.6243334586822717,\n",
       " 0.4703390081294601,\n",
       " 1.1538269016089615,\n",
       " 0.35983065043142837,\n",
       " 0.911168075876425,\n",
       " 0.9607618448446752,\n",
       " 0.39393165059759216,\n",
       " 1.026210056250223,\n",
       " 0.38064571732134156,\n",
       " 0.8057416821436585]"
      ]
     },
     "execution_count": 7,
     "metadata": {},
     "output_type": "execute_result"
    }
   ],
   "source": [
    "[f.get() for f in fs]"
   ]
  },
  {
   "cell_type": "code",
   "execution_count": 8,
   "metadata": {},
   "outputs": [
    {
     "name": "stderr",
     "output_type": "stream",
     "text": [
      "Sent batch request with 10 requests to tasks:requests:cola_1\n"
     ]
    }
   ],
   "source": [
    "fs = client.rpc_batch_async(tp)"
   ]
  },
  {
   "cell_type": "code",
   "execution_count": 9,
   "metadata": {},
   "outputs": [
    {
     "data": {
      "text/plain": [
       "[1.6243334586822717,\n",
       " 0.4703390081294601,\n",
       " 1.1538269016089615,\n",
       " 0.35983065043142837,\n",
       " 0.911168075876425,\n",
       " 0.9607618448446752,\n",
       " 0.39393165059759216,\n",
       " 1.026210056250223,\n",
       " 0.38064571732134156,\n",
       " 0.8057416821436585]"
      ]
     },
     "execution_count": 9,
     "metadata": {},
     "output_type": "execute_result"
    }
   ],
   "source": [
    "[f.get() for f in fs]"
   ]
  },
  {
   "cell_type": "code",
   "execution_count": 10,
   "metadata": {},
   "outputs": [
    {
     "name": "stderr",
     "output_type": "stream",
     "text": [
      "Sent batch request with 10 requests to tasks:requests:cola_1\n"
     ]
    },
    {
     "data": {
      "text/plain": [
       "[1.6243334586822717,\n",
       " 0.4703390081294601,\n",
       " 1.1538269016089615,\n",
       " 0.35983065043142837,\n",
       " 0.911168075876425,\n",
       " 0.9607618448446752,\n",
       " 0.39393165059759216,\n",
       " 1.026210056250223,\n",
       " 0.38064571732134156,\n",
       " 0.8057416821436585]"
      ]
     },
     "execution_count": 10,
     "metadata": {},
     "output_type": "execute_result"
    }
   ],
   "source": [
    "client.rpc_batch_sync(tp)"
   ]
  },
  {
   "cell_type": "code",
   "execution_count": 11,
   "metadata": {},
   "outputs": [
    {
     "name": "stdout",
     "output_type": "stream",
     "text": [
      "('div', [0.18243538105064572, 0.0035839778160564606], {})\n",
      "('mul', [0.832588785597587, 0.006085900417658885], {})\n",
      "('div', [0.6832172257495739, 0.6127223722109842], {})\n",
      "('div', [0.9636603264277778, 0.1402293894974005], {})\n",
      "('kkk', [0.32209146904334185, 0.9311965812049787], {})\n",
      "('add', [0.3075190740541982, 0.12197984382130234], {})\n",
      "('div', [0.03184383484794373, 0.5431392980023901], {})\n",
      "('kkk', [0.9641477312968899, 0.9992918504097064], {})\n",
      "('kkk', [0.596031337424707, 0.3105983978220309], {})\n",
      "('add', [0.2334078247661322, 0.0298670449020475], {})\n"
     ]
    }
   ],
   "source": [
    "fs =[]\n",
    "tp = []\n",
    "N = 10\n",
    "for i in range(N):\n",
    "    fn = random.choice((\"add\", \"mul\", \"div\", \"kkk\"))\n",
    "    t = (fn, [random.random(),random.random()], {})\n",
    "    print(t)\n",
    "    tp.append(t)"
   ]
  },
  {
   "cell_type": "code",
   "execution_count": 12,
   "metadata": {},
   "outputs": [
    {
     "name": "stderr",
     "output_type": "stream",
     "text": [
      "Sent request with id: tasks:redis_client:1:32 to queue tasks:requests:cola_1\n",
      "Sent request with id: tasks:redis_client:1:33 to queue tasks:requests:cola_1\n",
      "Sent request with id: tasks:redis_client:1:34 to queue tasks:requests:cola_1\n",
      "Sent request with id: tasks:redis_client:1:35 to queue tasks:requests:cola_1\n"
     ]
    },
    {
     "name": "stdout",
     "output_type": "stream",
     "text": [
      "Method kkk does not exist/is not available.\n"
     ]
    }
   ],
   "source": [
    "try:\n",
    "    fs = [client.rpc_async(t[0], t[1]) for t in tp]\n",
    "except Exception as e:\n",
    "    print(e)"
   ]
  },
  {
   "cell_type": "code",
   "execution_count": 13,
   "metadata": {},
   "outputs": [
    {
     "name": "stdout",
     "output_type": "stream",
     "text": [
      "Method kkk does not exist/is not available.\n"
     ]
    }
   ],
   "source": [
    "try:    \n",
    "    fs = client.rpc_batch_async(tp)\n",
    "except Exception as e:\n",
    "    print(e)"
   ]
  },
  {
   "cell_type": "code",
   "execution_count": 14,
   "metadata": {},
   "outputs": [
    {
     "data": {
      "text/plain": [
       "[]"
      ]
     },
     "execution_count": 14,
     "metadata": {},
     "output_type": "execute_result"
    }
   ],
   "source": [
    "[f.safe_get(.1) for f in fs]"
   ]
  },
  {
   "cell_type": "code",
   "execution_count": 15,
   "metadata": {},
   "outputs": [
    {
     "name": "stdout",
     "output_type": "stream",
     "text": [
      "Method kkk does not exist/is not available.\n"
     ]
    }
   ],
   "source": [
    "try:\n",
    "    x = client.rpc_batch_sync(tp, timeout=5)\n",
    "except Exception as e:\n",
    "    print(e)"
   ]
  },
  {
   "cell_type": "code",
   "execution_count": 16,
   "metadata": {},
   "outputs": [
    {
     "name": "stdout",
     "output_type": "stream",
     "text": [
      "Method kkk does not exist/is not available.\n"
     ]
    }
   ],
   "source": [
    "try:    \n",
    "    x = client.rpc_batch_sync(tp, timeout=5)\n",
    "except Exception as e:\n",
    "    print(e)"
   ]
  },
  {
   "cell_type": "code",
   "execution_count": 17,
   "metadata": {},
   "outputs": [
    {
     "name": "stderr",
     "output_type": "stream",
     "text": [
      "Sent request with id: tasks:redis_client:1:36 to queue tasks:requests:cola_1\n"
     ]
    }
   ],
   "source": [
    "x = client.rpc_async(\"div\", [1, 0])"
   ]
  },
  {
   "cell_type": "code",
   "execution_count": 18,
   "metadata": {},
   "outputs": [
    {
     "name": "stdout",
     "output_type": "stream",
     "text": [
      "Error -32603 : Internal RPC error.\n",
      "\n",
      " Traceback (most recent call last):\n",
      "  File \"/run/media/augusto/b7ab0c04-52de-43c7-97ef-daca03d07e33/home/augusto/tfm/distributed_rpc/rpc_server.py\", line 145, in _process_single_request\n",
      "    result = func[request[\"method\"]](*args, **kwargs)\n",
      "  File \"<ipython-input-4-cc39e5df0f9b>\", line 13, in div\n",
      "    return x / y\n",
      "ZeroDivisionError: division by zero\n",
      "\n"
     ]
    }
   ],
   "source": [
    "try:\n",
    "    x.get()\n",
    "except Exception as e:\n",
    "    print(e)"
   ]
  },
  {
   "cell_type": "code",
   "execution_count": 19,
   "metadata": {},
   "outputs": [
    {
     "name": "stderr",
     "output_type": "stream",
     "text": [
      "Sent request with id: tasks:redis_client:1:37 to queue tasks:requests:cola_1\n"
     ]
    }
   ],
   "source": [
    "client.check_registry=\"never\"\n",
    "client.set_default_queue(\"cola_1\")\n",
    "\n",
    "x = client.rpc_async(\"kk\", [1, 0])"
   ]
  },
  {
   "cell_type": "code",
   "execution_count": null,
   "metadata": {},
   "outputs": [],
   "source": []
  },
  {
   "cell_type": "code",
   "execution_count": 20,
   "metadata": {},
   "outputs": [
    {
     "name": "stdout",
     "output_type": "stream",
     "text": [
      "Error -32601 : The method does not exist/is not available.\n",
      "\n",
      " \n"
     ]
    }
   ],
   "source": [
    "try:\n",
    "    x.get()\n",
    "except Exception as e:\n",
    "    print(e)"
   ]
  },
  {
   "cell_type": "code",
   "execution_count": 21,
   "metadata": {},
   "outputs": [
    {
     "name": "stderr",
     "output_type": "stream",
     "text": [
      "Sent request with id: tasks:redis_client:1:38 to queue tasks:requests:cola_1\n"
     ]
    }
   ],
   "source": [
    "y = client.rpc_async(\"add\", [1, 0])"
   ]
  },
  {
   "cell_type": "code",
   "execution_count": 22,
   "metadata": {},
   "outputs": [
    {
     "data": {
      "text/plain": [
       "1"
      ]
     },
     "execution_count": 22,
     "metadata": {},
     "output_type": "execute_result"
    }
   ],
   "source": [
    "y.get(5)"
   ]
  },
  {
   "cell_type": "code",
   "execution_count": 23,
   "metadata": {},
   "outputs": [
    {
     "name": "stderr",
     "output_type": "stream",
     "text": [
      "Sent request with id: tasks:redis_client:1:39 to queue tasks:requests:cola_1\n"
     ]
    },
    {
     "name": "stdout",
     "output_type": "stream",
     "text": [
      "Error -32601 : The method does not exist/is not available.\n",
      "\n",
      " \n"
     ]
    }
   ],
   "source": [
    "def f(x,y): return x + y\n",
    "\n",
    "client.check_registry=\"never\"\n",
    "y = client.rpc_async_fn(f, [1, 2.0])\n",
    "try:\n",
    "    y.get()\n",
    "except Exception as e:\n",
    "    print(e)"
   ]
  },
  {
   "cell_type": "code",
   "execution_count": null,
   "metadata": {},
   "outputs": [],
   "source": []
  }
 ],
 "metadata": {
  "kernelspec": {
   "display_name": "Python 3",
   "language": "python",
   "name": "python3"
  },
  "language_info": {
   "codemirror_mode": {
    "name": "ipython",
    "version": 3
   },
   "file_extension": ".py",
   "mimetype": "text/x-python",
   "name": "python",
   "nbconvert_exporter": "python",
   "pygments_lexer": "ipython3",
   "version": "3.7.7"
  }
 },
 "nbformat": 4,
 "nbformat_minor": 4
}
