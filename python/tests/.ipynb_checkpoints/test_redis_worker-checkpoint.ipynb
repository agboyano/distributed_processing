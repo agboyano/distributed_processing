{
 "cells": [
  {
   "cell_type": "code",
   "execution_count": 1,
   "metadata": {},
   "outputs": [],
   "source": [
    "from distributed_processing.serializers import JsonSerializer\n",
    "from distributed_processing.worker import Worker\n",
    "from distributed_processing.redis_connector import RedisConnector"
   ]
  },
  {
   "cell_type": "code",
   "execution_count": 2,
   "metadata": {},
   "outputs": [],
   "source": [
    "REDIS_HOST = \"localhost\"\n",
    "REDIS_PORT = 6379\n",
    "REDIS_DB = 0\n",
    "NAMESPACE = \"tasks\""
   ]
  },
  {
   "cell_type": "code",
   "execution_count": 3,
   "metadata": {
    "tags": []
   },
   "outputs": [
    {
     "output_type": "stream",
     "name": "stderr",
     "text": "Worker id: tasks:redis_server:1\n"
    }
   ],
   "source": [
    "redis_connector = RedisConnector(redis_host=REDIS_HOST, redis_port=REDIS_PORT, \n",
    "                                 redis_db=REDIS_DB, namespace=NAMESPACE)\n",
    "\n",
    "\n",
    "redis_connector.clean_namespace()\n",
    "\n",
    "server = Worker(JsonSerializer(), redis_connector)\n",
    "\n"
   ]
  },
  {
   "cell_type": "code",
   "execution_count": 4,
   "metadata": {},
   "outputs": [
    {
     "output_type": "execute_result",
     "data": {
      "text/plain": "'\\n# Equivalente a:\\nimport dill\\nimport base64\\n\\ndef eval_py_function(str_fn, args=[], kwargs={}):\\n    \"str_fn encoded en base64 ascii\"\\n    return dill.loads(base64.b64decode(str_fn))(*args, **kwargs)\\n\\nserver.add_requests_queue(\"py_eval\", {\"eval_py_function\": eval_py_function})\\n'"
     },
     "metadata": {},
     "execution_count": 4
    }
   ],
   "source": [
    "server.add_python_eval()\n",
    "\n",
    "\"\"\"\n",
    "# Equivalente a:\n",
    "import dill\n",
    "import base64\n",
    "\n",
    "def eval_py_function(str_fn, args=[], kwargs={}):\n",
    "    \"str_fn encoded en base64 ascii\"\n",
    "    return dill.loads(base64.b64decode(str_fn))(*args, **kwargs)\n",
    "\n",
    "server.add_requests_queue(\"py_eval\", {\"eval_py_function\": eval_py_function})\n",
    "\"\"\""
   ]
  },
  {
   "cell_type": "code",
   "execution_count": 5,
   "metadata": {
    "tags": []
   },
   "outputs": [],
   "source": [
    "def add(x, y):\n",
    "    return x + y\n",
    "\n",
    "def mul(x, y):\n",
    "    return x * y\n",
    "\n",
    "def div(x, y):\n",
    "    return x / y\n",
    "\n",
    "func_dict1 = {\"add\" : add,\n",
    "              \"mul\" : mul,\n",
    "              \"div\" : div}\n",
    "\n",
    "server.add_requests_queue(\"cola_1\", func_dict1)\n"
   ]
  },
  {
   "cell_type": "code",
   "execution_count": 6,
   "metadata": {},
   "outputs": [],
   "source": [
    "def hola(nombre, calificativo=\"listo\"):\n",
    "    return f\"Hola {nombre}, eres muy {calificativo}\"\n",
    "\n",
    "func_dict2 = {\"hola\": hola}\n",
    "\n",
    "# Los métodos disponibles en cola_2 no los vamos a hacer públicos\n",
    "server.add_requests_queue(\"cola_2\", func_dict2, register=False)"
   ]
  },
  {
   "cell_type": "code",
   "execution_count": 7,
   "metadata": {
    "tags": []
   },
   "outputs": [
    {
     "output_type": "stream",
     "name": "stderr",
     "text": "Method eval_py_function published as available for queues: tasks:requests:py_eval\nMethod add published as available for queues: tasks:requests:cola_1\nMethod mul published as available for queues: tasks:requests:cola_1\nMethod div published as available for queues: tasks:requests:cola_1\n"
    }
   ],
   "source": [
    "# Publicamos todos los métodos de las colas \n",
    "server.update_methods_registry()"
   ]
  },
  {
   "cell_type": "code",
   "execution_count": 9,
   "metadata": {},
   "outputs": [
    {
     "output_type": "error",
     "ename": "NameError",
     "evalue": "name 'server' is not defined",
     "traceback": [
      "\u001b[0;31m---------------------------------------------------------------------------\u001b[0m",
      "\u001b[0;31mNameError\u001b[0m                                 Traceback (most recent call last)",
      "\u001b[0;32m<ipython-input-9-b0d84d6c5e6a>\u001b[0m in \u001b[0;36m<module>\u001b[0;34m\u001b[0m\n\u001b[0;32m----> 1\u001b[0;31m \u001b[0mserver\u001b[0m\u001b[0;34m.\u001b[0m\u001b[0mrun\u001b[0m\u001b[0;34m(\u001b[0m\u001b[0;34m)\u001b[0m\u001b[0;34m\u001b[0m\u001b[0;34m\u001b[0m\u001b[0m\n\u001b[0m",
      "\u001b[0;31mNameError\u001b[0m: name 'server' is not defined"
     ]
    }
   ],
   "source": [
    "server.run()"
   ]
  }
 ],
 "metadata": {
  "kernelspec": {
   "display_name": "Python 3",
   "language": "python",
   "name": "python3"
  },
  "language_info": {
   "codemirror_mode": {
    "name": "ipython",
    "version": 3
   },
   "file_extension": ".py",
   "mimetype": "text/x-python",
   "name": "python",
   "nbconvert_exporter": "python",
   "pygments_lexer": "ipython3",
   "version": "3.7.7-final"
  }
 },
 "nbformat": 4,
 "nbformat_minor": 4
}