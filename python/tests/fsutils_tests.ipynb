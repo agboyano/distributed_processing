{
 "cells": [
  {
   "cell_type": "code",
   "execution_count": 1,
   "metadata": {},
   "outputs": [],
   "source": [
    "import fsutils"
   ]
  },
  {
   "cell_type": "code",
   "execution_count": 2,
   "metadata": {},
   "outputs": [],
   "source": [
    "CURRO = True"
   ]
  },
  {
   "cell_type": "code",
   "execution_count": 3,
   "metadata": {},
   "outputs": [],
   "source": [
    "if CURRO:\n",
    "    NS_PATH =\"G:\\\\fs_namespaces\\\\prueba\"\n",
    "    DICT_PATH = \"G:\\\\fs_namespaces\\\\prueba\\\\ud_a\"\n",
    "    TMP_PATH = \"G:\\\\fs_namespaces\\\\prueba\\\\tmp\"\n",
    "\n",
    "    NS_PATH =\"C:\\\\fs_namespaces\\\\prueba\"\n",
    "    DICT_PATH = \"C:\\\\fs_namespaces\\\\prueba\\\\ud_a\"\n",
    "    TMP_PATH = \"C:\\\\fs_namespaces\\\\prueba\\\\tmp\"\n",
    "else:\n",
    "    NS_PATH = \"/home/augusto/python/notebooks/fs_namespaces/prueba\"\n",
    "    DICT_PATH = \"/home/augusto/python/notebooks/fs_namespaces/prueba/ud_a\"\n",
    "    TMP_PATH = \"/home/augusto/python/notebooks/fs_namespaces/tmp\""
   ]
  },
  {
   "cell_type": "code",
   "execution_count": 4,
   "metadata": {},
   "outputs": [],
   "source": [
    "ns = fsutils.structs.FSNamespace(NS_PATH, TMP_PATH)\n",
    "ns.clear()"
   ]
  },
  {
   "cell_type": "code",
   "execution_count": 5,
   "metadata": {},
   "outputs": [
    {
     "data": {
      "text/plain": [
       "[]"
      ]
     },
     "execution_count": 5,
     "metadata": {},
     "output_type": "execute_result"
    }
   ],
   "source": [
    "ns.names()"
   ]
  },
  {
   "cell_type": "code",
   "execution_count": 6,
   "metadata": {},
   "outputs": [
    {
     "data": {
      "text/plain": [
       "[]"
      ]
     },
     "execution_count": 6,
     "metadata": {},
     "output_type": "execute_result"
    }
   ],
   "source": [
    "ns.names_types()"
   ]
  },
  {
   "cell_type": "code",
   "execution_count": 7,
   "metadata": {},
   "outputs": [],
   "source": [
    "ns.type(\"a\")"
   ]
  },
  {
   "cell_type": "code",
   "execution_count": 8,
   "metadata": {},
   "outputs": [],
   "source": [
    "#a = fsutils.structs.FSUDict(DICT_PATH, TMP_PATH)\n",
    "#a = fsutils.structs.FSUDict(DICT_PATH, TMP_PATH, fast=True)\n",
    "a = ns.udict(\"a\", fast=True) "
   ]
  },
  {
   "cell_type": "code",
   "execution_count": 9,
   "metadata": {},
   "outputs": [
    {
     "data": {
      "text/plain": [
       "[('a', 'ud')]"
      ]
     },
     "execution_count": 9,
     "metadata": {},
     "output_type": "execute_result"
    }
   ],
   "source": [
    "ns.names_types()"
   ]
  },
  {
   "cell_type": "code",
   "execution_count": 10,
   "metadata": {},
   "outputs": [],
   "source": [
    "# lists unhashable in python\n",
    "# dicts currently not supported as keys. Error with filenames including : in windows. To do.\n",
    "\n",
    "a[\"1\"] = 3\n",
    "a[1] = 10\n",
    "a[\"go\"] = \"hola\"\n",
    "a[(1,2)] = [1, 2 , (1,4,5), \"kk\"]\n",
    "a[\"kk\"] = {\"a\": 1, \"b\":[1,2]}"
   ]
  },
  {
   "cell_type": "code",
   "execution_count": 11,
   "metadata": {},
   "outputs": [],
   "source": [
    "assert a[\"1\"] == 3\n",
    "assert a[1] == 10\n",
    "assert a[\"go\"] == \"hola\"\n",
    "assert a[(1,2)] == [1, 2 , (1,4,5), \"kk\"]\n",
    "assert a[\"kk\"] == {\"a\": 1, \"b\":[1,2]}\n",
    "assert a.keys() == ['1', 'go', 'kk', (1, 2), 1]\n",
    "assert a.items() == [('1', 3), ('go', 'hola'), ('kk', {'a': 1, 'b': [1, 2]}),((1, 2), [1, 2, (1, 4, 5), 'kk']),(1, 10)]\n",
    "assert len(a) == 5"
   ]
  },
  {
   "cell_type": "code",
   "execution_count": 12,
   "metadata": {},
   "outputs": [],
   "source": [
    "a[{\"adad\":1233, (1,3,4):[1,2,3,4], 3:1}] = 1234"
   ]
  },
  {
   "cell_type": "code",
   "execution_count": 13,
   "metadata": {},
   "outputs": [],
   "source": [
    "assert a[{\"adad\":1233, (1,3,4):[1,2,3,4], 3:1}] == 1234"
   ]
  },
  {
   "cell_type": "code",
   "execution_count": 14,
   "metadata": {},
   "outputs": [],
   "source": [
    "del a[\"go\"]"
   ]
  },
  {
   "cell_type": "code",
   "execution_count": 15,
   "metadata": {},
   "outputs": [],
   "source": [
    "assert not \"go\" in a.keys()\n",
    "assert 1 in a.keys()"
   ]
  },
  {
   "cell_type": "code",
   "execution_count": 16,
   "metadata": {},
   "outputs": [],
   "source": [
    "a.update([(x,x) for x in range(100)])"
   ]
  },
  {
   "cell_type": "code",
   "execution_count": 17,
   "metadata": {},
   "outputs": [],
   "source": [
    "for i in range(100):\n",
    "    assert a[i] == i"
   ]
  },
  {
   "cell_type": "code",
   "execution_count": 18,
   "metadata": {},
   "outputs": [],
   "source": [
    "a = ns.get(\"a\")\n",
    "a.clear()\n",
    "assert len(a) == 0"
   ]
  },
  {
   "cell_type": "code",
   "execution_count": 21,
   "metadata": {},
   "outputs": [],
   "source": [
    "y = ns.list(\"y\")\n",
    "y.clear()\n",
    "y.data.fast = False\n",
    "\n",
    "lst = []"
   ]
  },
  {
   "cell_type": "code",
   "execution_count": 22,
   "metadata": {},
   "outputs": [
    {
     "data": {
      "text/plain": [
       "[('y', 'li'), ('a', 'ud')]"
      ]
     },
     "execution_count": 22,
     "metadata": {},
     "output_type": "execute_result"
    }
   ],
   "source": [
    "ns.names_types()"
   ]
  },
  {
   "cell_type": "code",
   "execution_count": 23,
   "metadata": {},
   "outputs": [],
   "source": [
    "_ = [y.append(i) for i in range(1000)]\n",
    "_ = [lst.append(i) for i in range(1000)]"
   ]
  },
  {
   "cell_type": "code",
   "execution_count": 24,
   "metadata": {},
   "outputs": [],
   "source": [
    "# length and values\n",
    "\n",
    "assert len(y) == len(lst)\n",
    "assert sum(y.values()) == sum(lst)"
   ]
  },
  {
   "cell_type": "code",
   "execution_count": 25,
   "metadata": {},
   "outputs": [],
   "source": [
    "# order\n",
    "assert y.values() == lst"
   ]
  },
  {
   "cell_type": "code",
   "execution_count": 26,
   "metadata": {},
   "outputs": [
    {
     "data": {
      "text/plain": [
       "0"
      ]
     },
     "execution_count": 26,
     "metadata": {},
     "output_type": "execute_result"
    }
   ],
   "source": [
    "k = y.keys()\n",
    "v = y.values()\n",
    "errors = []\n",
    "for i in range(len(lst)):\n",
    "    if v[i] != lst[i]:\n",
    "        #print(i)\n",
    "        errors.append(i)\n",
    "\n",
    "len(errors)"
   ]
  },
  {
   "cell_type": "code",
   "execution_count": 27,
   "metadata": {},
   "outputs": [
    {
     "data": {
      "text/plain": [
       "0"
      ]
     },
     "execution_count": 27,
     "metadata": {},
     "output_type": "execute_result"
    }
   ],
   "source": [
    "len([k[i+1][0] - k[i][0] for i in range(len(v)-1) if (k[i+1][0] - k[i][0]) <= 0])"
   ]
  },
  {
   "cell_type": "code",
   "execution_count": 28,
   "metadata": {},
   "outputs": [],
   "source": [
    "y[0] = -1\n",
    "lst[0] = -1\n",
    "\n",
    "y[5] = 12\n",
    "lst[5] = 12"
   ]
  },
  {
   "cell_type": "code",
   "execution_count": 29,
   "metadata": {},
   "outputs": [],
   "source": [
    "assert y.values() == lst"
   ]
  },
  {
   "cell_type": "code",
   "execution_count": 30,
   "metadata": {},
   "outputs": [],
   "source": [
    "assert y.values()[:10] == lst[:10]"
   ]
  },
  {
   "cell_type": "code",
   "execution_count": 31,
   "metadata": {},
   "outputs": [],
   "source": [
    "_ = [y.pop(0) for i in range(100)]\n",
    "_ = [lst.pop(0) for i in range(100)]"
   ]
  },
  {
   "cell_type": "code",
   "execution_count": 32,
   "metadata": {},
   "outputs": [],
   "source": [
    "assert y.values() == lst"
   ]
  },
  {
   "cell_type": "code",
   "execution_count": 33,
   "metadata": {},
   "outputs": [],
   "source": [
    "_ = [y.insert(0, i) for i in range(100)]\n",
    "_ = [lst.insert(0, i) for i in range(100)]"
   ]
  },
  {
   "cell_type": "code",
   "execution_count": 34,
   "metadata": {},
   "outputs": [],
   "source": [
    "assert len(y) == len(lst)\n",
    "assert sum(y.values()) == sum(lst)"
   ]
  },
  {
   "cell_type": "code",
   "execution_count": 35,
   "metadata": {},
   "outputs": [],
   "source": [
    "assert y.values() == lst"
   ]
  },
  {
   "cell_type": "code",
   "execution_count": 36,
   "metadata": {},
   "outputs": [],
   "source": [
    "_ = [y.insert(i, i) for i in range(10)]\n",
    "_ = [lst.insert(i, i) for i in range(10)]"
   ]
  },
  {
   "cell_type": "code",
   "execution_count": 37,
   "metadata": {},
   "outputs": [],
   "source": [
    "assert len(y) == len(lst)\n",
    "assert sum(y.values()) == sum(lst)"
   ]
  },
  {
   "cell_type": "code",
   "execution_count": 38,
   "metadata": {},
   "outputs": [],
   "source": [
    "assert y.values() == lst"
   ]
  }
 ],
 "metadata": {
  "kernelspec": {
   "display_name": "Python 3 (ipykernel)",
   "language": "python",
   "name": "python3"
  },
  "language_info": {
   "codemirror_mode": {
    "name": "ipython",
    "version": 3
   },
   "file_extension": ".py",
   "mimetype": "text/x-python",
   "name": "python",
   "nbconvert_exporter": "python",
   "pygments_lexer": "ipython3",
   "version": "3.12.9"
  }
 },
 "nbformat": 4,
 "nbformat_minor": 2
}
