{
 "cells": [
  {
   "cell_type": "code",
   "execution_count": 1,
   "metadata": {},
   "outputs": [],
   "source": [
    "import random\n",
    "\n",
    "from distributed_processing.serializers import JsonSerializer\n",
    "from distributed_processing.client import Client\n",
    "from distributed_processing.redis_connector import RedisConnector\n"
   ]
  },
  {
   "cell_type": "code",
   "execution_count": 2,
   "metadata": {},
   "outputs": [],
   "source": [
    "REDIS_HOST = \"192.168.2.121\"\n",
    "REDIS_PORT = 6379\n",
    "REDIS_DB = 0\n",
    "NAMESPACE = \"montecarlos\""
   ]
  },
  {
   "cell_type": "code",
   "execution_count": 3,
   "metadata": {
    "tags": []
   },
   "outputs": [
    {
     "name": "stderr",
     "output_type": "stream",
     "text": [
      "Client with id: montecarlos:redis_client:1\n",
      "Results queue: montecarlos:redis_client:1:responses\n"
     ]
    }
   ],
   "source": [
    "redis_connector = RedisConnector(redis_host=REDIS_HOST, redis_port=REDIS_PORT, \n",
    "                                 redis_db=REDIS_DB, namespace=NAMESPACE)\n",
    "\n",
    "client = Client(JsonSerializer(), redis_connector, check_registry=\"cache\")"
   ]
  },
  {
   "cell_type": "code",
   "execution_count": 4,
   "metadata": {},
   "outputs": [],
   "source": [
    "import datetime\n",
    "\n",
    "NSIMULATIONS = 1000000\n",
    "\n",
    "V=0.20 # Volatilidad\n",
    "R=0.04 # Interés instantáneo (ln(1+r)?)\n",
    "COUPON_BARRIER=0.8\n",
    "KICKOUT_BARRIER=1.1\n",
    "PROTECTION_BARRIER=0.6\n",
    "COUPON_RATE=0.088\n",
    "\n",
    "obs_dates = [datetime.datetime(2012, 7, 4, 0, 0),\n",
    "             datetime.datetime(2013, 7, 5, 0, 0),\n",
    "             datetime.datetime(2014, 7, 7, 0, 0),\n",
    "             datetime.datetime(2015, 7, 6, 0, 0),\n",
    "             datetime.datetime(2016, 7, 5, 0, 0),\n",
    "             datetime.datetime(2017, 7, 5, 0, 0),\n",
    "             datetime.datetime(2018, 7, 5, 0, 0)]\n",
    "\n",
    "dates = [int((t-obs_dates[0]).days) for t in obs_dates]"
   ]
  },
  {
   "cell_type": "code",
   "execution_count": 5,
   "metadata": {},
   "outputs": [],
   "source": [
    "# Versión basada en RandomState\n",
    "# RandomState se ha quedado anticuado y utilza el generador MT19937\n",
    "# que es más lento que el generador ahora por defecto en numpy PGC64 \n",
    "\n",
    "\n",
    "nchunks = 4\n",
    "nsims = float(NSIMULATIONS) / float(nchunks)\n",
    "\n",
    "def chunks(nsims, nchunks):\n",
    "    chunks = [int(nsims)] * nchunks\n",
    "    diff = NSIMULATIONS - int(nsims) * nchunks\n",
    "    if diff>0:\n",
    "        for i in range(diff):\n",
    "            chunks[i] += 1\n",
    "    return chunks\n",
    "\n",
    "\n",
    "def args_kwargs(*args, **kwargs):\n",
    "    return list(args), kwargs\n",
    "\n",
    "\n",
    "\n",
    "def args_kwargs1(nsimulations):\n",
    "    return args_kwargs(nsimulations=nsimulations,\n",
    "                        v=V,\n",
    "                        r=R, \n",
    "                        coupon_barrier=COUPON_BARRIER,\n",
    "                        kickout_barrier=KICKOUT_BARRIER,\n",
    "                        protection_barrier=PROTECTION_BARRIER,\n",
    "                        coupon_rate=COUPON_RATE,\n",
    "                        dates=dates)\n",
    "\n",
    "all_args = [args_kwargs1(x) for x in chunks(int(nsims), nchunks)]\n",
    "\n",
    "\n",
    "def distributed_montecarlo():\n",
    "    sim = [client.rpc_async(\"mc_autocall_mp\", x[0], x[1]) for x in all_args]\n",
    "    sumas, sizes = list(zip(*[x.get() for x in sim]))\n",
    "    \n",
    "    return sum(sumas)/sum(sizes)\n",
    "    "
   ]
  },
  {
   "cell_type": "code",
   "execution_count": 6,
   "metadata": {
    "tags": []
   },
   "outputs": [
    {
     "name": "stdout",
     "output_type": "stream",
     "text": [
      "434 ms ± 23 ms per loop (mean ± std. dev. of 7 runs, 1 loop each)\n"
     ]
    }
   ],
   "source": [
    "%%timeit\n",
    "distributed_montecarlo()"
   ]
  },
  {
   "cell_type": "code",
   "execution_count": 7,
   "metadata": {},
   "outputs": [
    {
     "data": {
      "text/plain": [
       "1045.176238845213"
      ]
     },
     "execution_count": 7,
     "metadata": {},
     "output_type": "execute_result"
    }
   ],
   "source": [
    "\n",
    "distributed_montecarlo()"
   ]
  },
  {
   "cell_type": "code",
   "execution_count": 8,
   "metadata": {},
   "outputs": [
    {
     "data": {
      "text/plain": [
       "[<distributed_processing.async_result.AsyncResult at 0x1bf31fd4c88>,\n",
       " <distributed_processing.async_result.AsyncResult at 0x1bf31fd4c48>,\n",
       " <distributed_processing.async_result.AsyncResult at 0x1bf31fd4d08>,\n",
       " <distributed_processing.async_result.AsyncResult at 0x1bf31e54208>]"
      ]
     },
     "execution_count": 8,
     "metadata": {},
     "output_type": "execute_result"
    }
   ],
   "source": [
    "sim = [client.rpc_async(\"mc_autocall_mp\", x[0], x[1]) for x in all_args]\n",
    "sim"
   ]
  },
  {
   "cell_type": "code",
   "execution_count": 9,
   "metadata": {},
   "outputs": [
    {
     "data": {
      "text/plain": [
       "[[261306345.08881086, 250000.0],\n",
       " [261298406.08954075, 250000.0],\n",
       " [261304225.78301644, 250000.0],\n",
       " [261302161.69100052, 250000.0]]"
      ]
     },
     "execution_count": 9,
     "metadata": {},
     "output_type": "execute_result"
    }
   ],
   "source": [
    "[x.get() for x in sim]"
   ]
  },
  {
   "cell_type": "code",
   "execution_count": 10,
   "metadata": {},
   "outputs": [
    {
     "data": {
      "text/plain": [
       "1045.2111386523686"
      ]
     },
     "execution_count": 10,
     "metadata": {},
     "output_type": "execute_result"
    }
   ],
   "source": [
    "sumas, sizes = list(zip(*[x.get() for x in sim]))\n",
    "sum(sumas)/sum(sizes)"
   ]
  },
  {
   "cell_type": "code",
   "execution_count": 11,
   "metadata": {},
   "outputs": [],
   "source": [
    "# Versión basada en PGC64. Hay que pasar a la función la semilla y el número de salto.\n",
    "# Basado en https://numpy.org/doc/1.18/reference/random/parallel.html\n",
    "\n",
    "import secrets\n",
    "\n",
    "nchunks = 4\n",
    "nsims = float(NSIMULATIONS) / float(nchunks)\n",
    "\n",
    "\n",
    "def args_kwargs2(x):\n",
    "    seed = int(x[0])\n",
    "    jump = int(x[1])\n",
    "    nsim = int(x[2])\n",
    "    return args_kwargs(rndg=(seed, jump),\n",
    "                        nsimulations=nsim,\n",
    "                        v=V,\n",
    "                        r=R, \n",
    "                        coupon_barrier=COUPON_BARRIER,\n",
    "                        kickout_barrier=KICKOUT_BARRIER,\n",
    "                        protection_barrier=PROTECTION_BARRIER,\n",
    "                        coupon_rate=COUPON_RATE,\n",
    "                        dates=dates)\n",
    "\n",
    "\n",
    "\n",
    "seed = secrets.randbits(128)\n",
    "\n",
    "rnd_args = [x for x in zip([seed]*nchunks, range(nchunks),  chunks(int(nsims), nchunks))]\n",
    "\n",
    "all_args = [args_kwargs2(x) for x in rnd_args]\n",
    "\n",
    "def distributed_montecarlo2():\n",
    "    sim = [client.rpc_async(\"mc_autocall_mp2\", x[0], x[1]) for x in all_args]\n",
    "    sumas, sizes = list(zip(*[x.get() for x in sim]))\n",
    "    \n",
    "    return sum(sumas)/sum(sizes)\n",
    "    "
   ]
  },
  {
   "cell_type": "code",
   "execution_count": 12,
   "metadata": {},
   "outputs": [
    {
     "name": "stdout",
     "output_type": "stream",
     "text": [
      "422 ms ± 37.9 ms per loop (mean ± std. dev. of 7 runs, 1 loop each)\n"
     ]
    }
   ],
   "source": [
    "%%timeit\n",
    "distributed_montecarlo2()"
   ]
  },
  {
   "cell_type": "code",
   "execution_count": 13,
   "metadata": {},
   "outputs": [
    {
     "data": {
      "text/plain": [
       "1045.1879570700642"
      ]
     },
     "execution_count": 13,
     "metadata": {},
     "output_type": "execute_result"
    }
   ],
   "source": [
    "distributed_montecarlo2()"
   ]
  },
  {
   "cell_type": "code",
   "execution_count": null,
   "metadata": {},
   "outputs": [],
   "source": []
  }
 ],
 "metadata": {
  "kernelspec": {
   "display_name": "Python 3",
   "language": "python",
   "name": "python3"
  },
  "language_info": {
   "codemirror_mode": {
    "name": "ipython",
    "version": 3
   },
   "file_extension": ".py",
   "mimetype": "text/x-python",
   "name": "python",
   "nbconvert_exporter": "python",
   "pygments_lexer": "ipython3",
   "version": "3.7.9"
  }
 },
 "nbformat": 4,
 "nbformat_minor": 4
}
