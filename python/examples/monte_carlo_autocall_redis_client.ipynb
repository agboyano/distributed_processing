{
 "cells": [
  {
   "cell_type": "code",
   "execution_count": 1,
   "metadata": {},
   "outputs": [],
   "source": [
    "import random\n",
    "\n",
    "from distributed_processing.serializers import JsonSerializer\n",
    "from distributed_processing.client import Client\n",
    "from distributed_processing.redis_connector import RedisConnector\n"
   ]
  },
  {
   "cell_type": "code",
   "execution_count": 2,
   "metadata": {},
   "outputs": [],
   "source": [
    "REDIS_HOST = \"localhost\"\n",
    "REDIS_PORT = 6379\n",
    "REDIS_DB = 0\n",
    "NAMESPACE = \"montecarlos\""
   ]
  },
  {
   "cell_type": "code",
   "execution_count": 3,
   "metadata": {
    "tags": []
   },
   "outputs": [
    {
     "name": "stderr",
     "output_type": "stream",
     "text": [
      "Client with id: montecarlos:redis_client:9\n",
      "Results queue: montecarlos:redis_client:9:responses\n"
     ]
    }
   ],
   "source": [
    "redis_connector = RedisConnector(redis_host=REDIS_HOST, redis_port=REDIS_PORT, \n",
    "                                 redis_db=REDIS_DB, namespace=NAMESPACE)\n",
    "\n",
    "client = Client(JsonSerializer(), redis_connector, check_registry=\"cache\")"
   ]
  },
  {
   "cell_type": "code",
   "execution_count": 4,
   "metadata": {},
   "outputs": [],
   "source": [
    "import datetime\n",
    "\n",
    "NSIMULATIONS = 1000000\n",
    "\n",
    "V=0.20 # Volatilidad\n",
    "R=0.04 # Interés instantáneo (ln(1+r)?)\n",
    "COUPON_BARRIER=0.8\n",
    "KICKOUT_BARRIER=1.1\n",
    "PROTECTION_BARRIER=0.6\n",
    "COUPON_RATE=0.088\n",
    "\n",
    "obs_dates = [datetime.datetime(2012, 7, 4, 0, 0),\n",
    "             datetime.datetime(2013, 7, 5, 0, 0),\n",
    "             datetime.datetime(2014, 7, 7, 0, 0),\n",
    "             datetime.datetime(2015, 7, 6, 0, 0),\n",
    "             datetime.datetime(2016, 7, 5, 0, 0),\n",
    "             datetime.datetime(2017, 7, 5, 0, 0),\n",
    "             datetime.datetime(2018, 7, 5, 0, 0)]\n",
    "\n",
    "dates = [int((t-obs_dates[0]).days) for t in obs_dates]"
   ]
  },
  {
   "cell_type": "code",
   "execution_count": 5,
   "metadata": {},
   "outputs": [],
   "source": [
    "# Versión basada en RandomState\n",
    "# RandomState se ha quedado anticuado y utilza el generador MT19937\n",
    "# que es más lento que el generador ahora por defecto en numpy PGC64 \n",
    "\n",
    "\n",
    "nchunks = 32\n",
    "nsims = float(NSIMULATIONS) / float(nchunks)\n",
    "\n",
    "def chunks(nsims, nchunks):\n",
    "    chunks = [int(nsims)] * nchunks\n",
    "    diff = NSIMULATIONS - int(nsims) * nchunks\n",
    "    if diff>0:\n",
    "        for i in range(diff):\n",
    "            chunks[i] += 1\n",
    "    return chunks\n",
    "\n",
    "\n",
    "def args_kwargs(*args, **kwargs):\n",
    "    return list(args), kwargs\n",
    "\n",
    "\n",
    "\n",
    "def args_kwargs1(nsimulations):\n",
    "    return args_kwargs(nsimulations=nsimulations,\n",
    "                        v=V,\n",
    "                        r=R, \n",
    "                        coupon_barrier=COUPON_BARRIER,\n",
    "                        kickout_barrier=KICKOUT_BARRIER,\n",
    "                        protection_barrier=PROTECTION_BARRIER,\n",
    "                        coupon_rate=COUPON_RATE,\n",
    "                        dates=dates)\n",
    "\n",
    "all_args = [args_kwargs1(x) for x in chunks(int(nsims), nchunks)]\n",
    "\n",
    "\n",
    "def distributed_montecarlo():\n",
    "    sim = [client.rpc_async(\"mc_autocall_mp\", x[0], x[1]) for x in all_args]\n",
    "    sumas, sizes = list(zip(*[x.get() for x in sim]))\n",
    "    \n",
    "    return sum(sumas)/sum(sizes)\n",
    "    "
   ]
  },
  {
   "cell_type": "code",
   "execution_count": 6,
   "metadata": {
    "tags": []
   },
   "outputs": [
    {
     "name": "stdout",
     "output_type": "stream",
     "text": [
      "383 ms ± 7.66 ms per loop (mean ± std. dev. of 7 runs, 1 loop each)\n"
     ]
    }
   ],
   "source": [
    "%%timeit\n",
    "distributed_montecarlo()"
   ]
  },
  {
   "cell_type": "code",
   "execution_count": 7,
   "metadata": {},
   "outputs": [
    {
     "data": {
      "text/plain": [
       "1045.164092327497"
      ]
     },
     "execution_count": 7,
     "metadata": {},
     "output_type": "execute_result"
    }
   ],
   "source": [
    "distributed_montecarlo()"
   ]
  },
  {
   "cell_type": "code",
   "execution_count": 8,
   "metadata": {},
   "outputs": [
    {
     "data": {
      "text/plain": [
       "[<distributed_processing.async_result.AsyncResult at 0x22b35582508>,\n",
       " <distributed_processing.async_result.AsyncResult at 0x22b35582a88>,\n",
       " <distributed_processing.async_result.AsyncResult at 0x22b35582248>,\n",
       " <distributed_processing.async_result.AsyncResult at 0x22b35582b08>,\n",
       " <distributed_processing.async_result.AsyncResult at 0x22b35582108>,\n",
       " <distributed_processing.async_result.AsyncResult at 0x22b353fc0c8>,\n",
       " <distributed_processing.async_result.AsyncResult at 0x22b35582548>,\n",
       " <distributed_processing.async_result.AsyncResult at 0x22b35582648>,\n",
       " <distributed_processing.async_result.AsyncResult at 0x22b35582ac8>,\n",
       " <distributed_processing.async_result.AsyncResult at 0x22b35582208>,\n",
       " <distributed_processing.async_result.AsyncResult at 0x22b35582b48>,\n",
       " <distributed_processing.async_result.AsyncResult at 0x22b35582148>,\n",
       " <distributed_processing.async_result.AsyncResult at 0x22b35582f48>,\n",
       " <distributed_processing.async_result.AsyncResult at 0x22b35582e08>,\n",
       " <distributed_processing.async_result.AsyncResult at 0x22b35582e48>,\n",
       " <distributed_processing.async_result.AsyncResult at 0x22b35582e88>,\n",
       " <distributed_processing.async_result.AsyncResult at 0x22b35582088>,\n",
       " <distributed_processing.async_result.AsyncResult at 0x22b35582d08>,\n",
       " <distributed_processing.async_result.AsyncResult at 0x22b35582f08>,\n",
       " <distributed_processing.async_result.AsyncResult at 0x22b35582f88>,\n",
       " <distributed_processing.async_result.AsyncResult at 0x22b35582b88>,\n",
       " <distributed_processing.async_result.AsyncResult at 0x22b355820c8>,\n",
       " <distributed_processing.async_result.AsyncResult at 0x22b35582dc8>,\n",
       " <distributed_processing.async_result.AsyncResult at 0x22b35582288>,\n",
       " <distributed_processing.async_result.AsyncResult at 0x22b35582048>,\n",
       " <distributed_processing.async_result.AsyncResult at 0x22b35582388>,\n",
       " <distributed_processing.async_result.AsyncResult at 0x22b35582c88>,\n",
       " <distributed_processing.async_result.AsyncResult at 0x22b355821c8>,\n",
       " <distributed_processing.async_result.AsyncResult at 0x22b35582d88>,\n",
       " <distributed_processing.async_result.AsyncResult at 0x22b35582c48>,\n",
       " <distributed_processing.async_result.AsyncResult at 0x22b35582fc8>,\n",
       " <distributed_processing.async_result.AsyncResult at 0x22b35582ec8>]"
      ]
     },
     "execution_count": 8,
     "metadata": {},
     "output_type": "execute_result"
    }
   ],
   "source": [
    "sim = [client.rpc_async(\"mc_autocall_mp\", x[0], x[1]) for x in all_args]\n",
    "sim"
   ]
  },
  {
   "cell_type": "code",
   "execution_count": 9,
   "metadata": {},
   "outputs": [
    {
     "data": {
      "text/plain": [
       "[[32663261.19957483, 31250.0],\n",
       " [32663284.79660122, 31250.0],\n",
       " [32658327.76219603, 31250.0],\n",
       " [32663340.01168442, 31250.0],\n",
       " [32663384.391243167, 31250.0],\n",
       " [32662760.513942026, 31250.0],\n",
       " [32663304.535863586, 31250.0],\n",
       " [32654766.955722306, 31250.0],\n",
       " [32663439.42789009, 31250.0],\n",
       " [32649178.096680276, 31250.0],\n",
       " [32663389.817204557, 31250.0],\n",
       " [32661669.83242957, 31250.0],\n",
       " [32663084.561150983, 31250.0],\n",
       " [32657697.024199724, 31250.0],\n",
       " [32663678.14559345, 31250.0],\n",
       " [32663432.560359452, 31250.0],\n",
       " [32663339.436650176, 31250.0],\n",
       " [32662171.395375535, 31250.0],\n",
       " [32663148.55562962, 31250.0],\n",
       " [32663347.872152347, 31250.0],\n",
       " [32663126.942310024, 31250.0],\n",
       " [32663304.535863586, 31250.0],\n",
       " [32663476.48978208, 31250.0],\n",
       " [32663261.19957483, 31250.0],\n",
       " [32663688.196366616, 31250.0],\n",
       " [32663347.872152347, 31250.0],\n",
       " [32662460.436137293, 31250.0],\n",
       " [32663347.872152347, 31250.0],\n",
       " [32663511.983489677, 31250.0],\n",
       " [32662715.28435214, 31250.0],\n",
       " [32663261.19957483, 31250.0],\n",
       " [32661990.906662367, 31250.0]]"
      ]
     },
     "execution_count": 9,
     "metadata": {},
     "output_type": "execute_result"
    }
   ],
   "source": [
    "[x.get() for x in sim]"
   ]
  },
  {
   "cell_type": "code",
   "execution_count": 10,
   "metadata": {},
   "outputs": [
    {
     "data": {
      "text/plain": [
       "1045.1874998105616"
      ]
     },
     "execution_count": 10,
     "metadata": {},
     "output_type": "execute_result"
    }
   ],
   "source": [
    "sumas, sizes = list(zip(*[x.get() for x in sim]))\n",
    "sum(sumas)/sum(sizes)"
   ]
  },
  {
   "cell_type": "code",
   "execution_count": 11,
   "metadata": {},
   "outputs": [],
   "source": [
    "# Versión basada en PGC64. Hay que pasar a la función la semilla y el número de salto.\n",
    "# Basado en https://numpy.org/doc/1.18/reference/random/parallel.html\n",
    "\n",
    "import secrets\n",
    "\n",
    "\n",
    "def args_kwargs2(x):\n",
    "    seed = int(x[0])\n",
    "    jump = int(x[1])\n",
    "    nsim = int(x[2])\n",
    "    return args_kwargs(rndg=(seed, jump),\n",
    "                        nsimulations=nsim,\n",
    "                        v=V,\n",
    "                        r=R, \n",
    "                        coupon_barrier=COUPON_BARRIER,\n",
    "                        kickout_barrier=KICKOUT_BARRIER,\n",
    "                        protection_barrier=PROTECTION_BARRIER,\n",
    "                        coupon_rate=COUPON_RATE,\n",
    "                        dates=dates)\n",
    "\n",
    "\n",
    "\n",
    "seed = secrets.randbits(128)\n",
    "\n",
    "rnd_args = [x for x in zip([seed]*nchunks, range(nchunks),  chunks(int(nsims), nchunks))]\n",
    "\n",
    "all_args = [args_kwargs2(x) for x in rnd_args]\n",
    "\n",
    "def distributed_montecarlo2():\n",
    "    sim = [client.rpc_async(\"mc_autocall_mp2\", x[0], x[1]) for x in all_args]\n",
    "    sumas, sizes = list(zip(*[x.get() for x in sim]))\n",
    "    \n",
    "    return sum(sumas)/sum(sizes)\n",
    "    "
   ]
  },
  {
   "cell_type": "code",
   "execution_count": 12,
   "metadata": {},
   "outputs": [
    {
     "name": "stdout",
     "output_type": "stream",
     "text": [
      "374 ms ± 7 ms per loop (mean ± std. dev. of 7 runs, 1 loop each)\n"
     ]
    }
   ],
   "source": [
    "%%timeit\n",
    "distributed_montecarlo2()"
   ]
  },
  {
   "cell_type": "code",
   "execution_count": 13,
   "metadata": {},
   "outputs": [
    {
     "data": {
      "text/plain": [
       "1045.1756680159149"
      ]
     },
     "execution_count": 13,
     "metadata": {},
     "output_type": "execute_result"
    }
   ],
   "source": [
    "distributed_montecarlo2()"
   ]
  },
  {
   "cell_type": "code",
   "execution_count": 24,
   "metadata": {},
   "outputs": [],
   "source": [
    "# Versión basada en PGC64. Hay que pasar a la función la semilla y el número de salto.\n",
    "# Basado en https://numpy.org/doc/1.18/reference/random/parallel.html\n",
    "\n",
    "import secrets\n",
    "\n",
    "nchunks = 32\n",
    "nsims = float(NSIMULATIONS) / float(nchunks)\n",
    "\n",
    "def args_kwargs2(x):\n",
    "    seed = int(x[0])\n",
    "    jump = int(x[1])\n",
    "    nsim = int(x[2])\n",
    "    return args_kwargs(rndg=(seed, jump),\n",
    "                        nsimulations=nsim,\n",
    "                        v=V,\n",
    "                        r=R, \n",
    "                        coupon_barrier=COUPON_BARRIER,\n",
    "                        kickout_barrier=KICKOUT_BARRIER,\n",
    "                        protection_barrier=PROTECTION_BARRIER,\n",
    "                        coupon_rate=COUPON_RATE,\n",
    "                        dates=dates)\n",
    "\n",
    "\n",
    "\n",
    "seed = secrets.randbits(128)\n",
    "\n",
    "rnd_args = [x for x in zip([seed]*nchunks, range(nchunks),  chunks(int(nsims), nchunks))]\n",
    "\n",
    "all_args = [args_kwargs2(x) for x in rnd_args]\n",
    "\n",
    "def distributed_empty_montecarlo():\n",
    "    sim = [client.rpc_async(\"mc_autocall_empty\", x[0], x[1]) for x in all_args]\n",
    "    sumas, sizes = list(zip(*[x.get() for x in sim]))\n",
    "    \n",
    "    return sum(sumas)/sum(sizes)\n",
    "    "
   ]
  },
  {
   "cell_type": "code",
   "execution_count": 25,
   "metadata": {},
   "outputs": [
    {
     "name": "stdout",
     "output_type": "stream",
     "text": [
      "17.8 ms ± 1 ms per loop (mean ± std. dev. of 7 runs, 100 loops each)\n"
     ]
    }
   ],
   "source": [
    "%%timeit\n",
    "distributed_empty_montecarlo()"
   ]
  },
  {
   "cell_type": "code",
   "execution_count": null,
   "metadata": {},
   "outputs": [],
   "source": []
  }
 ],
 "metadata": {
  "kernelspec": {
   "display_name": "Python 3",
   "language": "python",
   "name": "python3"
  },
  "language_info": {
   "codemirror_mode": {
    "name": "ipython",
    "version": 3
   },
   "file_extension": ".py",
   "mimetype": "text/x-python",
   "name": "python",
   "nbconvert_exporter": "python",
   "pygments_lexer": "ipython3",
   "version": "3.7.9"
  }
 },
 "nbformat": 4,
 "nbformat_minor": 4
}
