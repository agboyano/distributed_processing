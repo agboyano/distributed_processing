{
 "cells": [
  {
   "cell_type": "code",
   "execution_count": 1,
   "metadata": {},
   "outputs": [],
   "source": [
    "import datetime\n",
    "from math import exp, sqrt\n",
    "import numpy as np"
   ]
  },
  {
   "cell_type": "code",
   "execution_count": 2,
   "metadata": {},
   "outputs": [],
   "source": [
    "NSIMULATIONS = 1000000\n",
    "\n",
    "V=0.20 # Volatilidad\n",
    "R=0.04 # Interés instantáneo (ln(1+r)?)\n",
    "COUPON_BARRIER=0.8\n",
    "KICKOUT_BARRIER=1.1\n",
    "PROTECTION_BARRIER=0.6\n",
    "COUPON_RATE=0.088"
   ]
  },
  {
   "cell_type": "code",
   "execution_count": 3,
   "metadata": {},
   "outputs": [],
   "source": [
    "obs_dates = [datetime.datetime(2012, 7, 4, 0, 0),\n",
    "             datetime.datetime(2013, 7, 5, 0, 0),\n",
    "             datetime.datetime(2014, 7, 7, 0, 0),\n",
    "             datetime.datetime(2015, 7, 6, 0, 0),\n",
    "             datetime.datetime(2016, 7, 5, 0, 0),\n",
    "             datetime.datetime(2017, 7, 5, 0, 0),\n",
    "             datetime.datetime(2018, 7, 5, 0, 0)]\n",
    "\n",
    "# Dates como enteros. Ahorra cálculos innecesarios con objetos datetime. \n",
    "dates = [int((t-obs_dates[0]).days) for t in obs_dates]"
   ]
  },
  {
   "cell_type": "code",
   "execution_count": 4,
   "metadata": {},
   "outputs": [],
   "source": [
    "def new_price(S_t, v, r, t1, t2):\n",
    "    T = (t2 - t1) / 365.0\n",
    "    return S_t * exp((r - 0.5 * v * v) * T + v * sqrt(T) * np.random.randn())\n",
    "\n",
    "\n",
    "def df(r, t1, t2):\n",
    "    return exp(-r * (t2 - t1) / 365.0)"
   ]
  },
  {
   "cell_type": "code",
   "execution_count": 5,
   "metadata": {},
   "outputs": [],
   "source": [
    "def mc_autocall(nsimulations,\n",
    "                v=V,\n",
    "                r=R, \n",
    "                coupon_barrier=COUPON_BARRIER,\n",
    "                kickout_barrier=KICKOUT_BARRIER,\n",
    "                protection_barrier=PROTECTION_BARRIER,\n",
    "                coupon_rate=COUPON_RATE,\n",
    "                dates=dates):\n",
    "    \n",
    "    assert(coupon_barrier >= protection_barrier)\n",
    "    \n",
    "    S = 1.0 \n",
    "    C = 1000.0 # Inversión inicial\n",
    "\n",
    "    start_date = dates[0]\n",
    "    \n",
    "    autocall_price = 0.0\n",
    "    \n",
    "    for i in range(nsimulations):\n",
    "        payoff = 0.0\n",
    "        \n",
    "        for j in range(1, len(dates)):\n",
    "            S = new_price(S, v, r, dates[j-1], dates[j])\n",
    "    \n",
    "            if S > coupon_barrier:\n",
    "                payoff += C * coupon_rate * df(r, start_date, dates[j])\n",
    "                \n",
    "            if S >= kickout_barrier:\n",
    "                break\n",
    "\n",
    "        if S < protection_barrier:\n",
    "            payoff += C * S * df(r, start_date, dates[j])\n",
    "                \n",
    "        else:\n",
    "            payoff += C * df(r, start_date, dates[j])\n",
    "\n",
    "        autocall_price += payoff\n",
    "\n",
    "    return float(autocall_price) / float(nsimulations)"
   ]
  },
  {
   "cell_type": "code",
   "execution_count": 6,
   "metadata": {
    "tags": []
   },
   "outputs": [
    {
     "name": "stdout",
     "output_type": "stream",
     "text": [
      "2.27 s ± 93.9 ms per loop (mean ± std. dev. of 7 runs, 1 loop each)\n"
     ]
    }
   ],
   "source": [
    "%%timeit\n",
    "mc_autocall(NSIMULATIONS,\n",
    "            v=V,\n",
    "            r=R, \n",
    "            coupon_barrier=COUPON_BARRIER,\n",
    "            kickout_barrier=KICKOUT_BARRIER,\n",
    "            protection_barrier=PROTECTION_BARRIER,\n",
    "            coupon_rate=COUPON_RATE,\n",
    "            dates=dates)"
   ]
  },
  {
   "cell_type": "code",
   "execution_count": 7,
   "metadata": {},
   "outputs": [
    {
     "data": {
      "text/plain": [
       "1045.2233315795322"
      ]
     },
     "execution_count": 7,
     "metadata": {},
     "output_type": "execute_result"
    }
   ],
   "source": [
    "mc_autocall(NSIMULATIONS,\n",
    "            v=V,\n",
    "            r=R, \n",
    "            coupon_barrier=COUPON_BARRIER,\n",
    "            kickout_barrier=KICKOUT_BARRIER,\n",
    "            protection_barrier=PROTECTION_BARRIER,\n",
    "            coupon_rate=COUPON_RATE,\n",
    "            dates=dates)"
   ]
  },
  {
   "cell_type": "code",
   "execution_count": 8,
   "metadata": {},
   "outputs": [],
   "source": [
    "\n",
    "def mc_autocall2(nsimulations,\n",
    "                 v=V,\n",
    "                 r=R, \n",
    "                 coupon_barrier=COUPON_BARRIER,\n",
    "                 kickout_barrier=KICKOUT_BARRIER,\n",
    "                 protection_barrier=PROTECTION_BARRIER,\n",
    "                 coupon_rate=COUPON_RATE,\n",
    "                 dates=dates):\n",
    "    \n",
    "    assert(coupon_barrier >= protection_barrier)\n",
    "    \n",
    "    S = 1.0\n",
    "    C = 1000.0\n",
    "\n",
    "    start_date = dates[0]\n",
    "\n",
    "    autocall_prices = []\n",
    "\n",
    "    coupons_discounted = [C * coupon_rate * df(r, start_date, dates[j]) for j in range(len(dates))]\n",
    "    principal_discounted = [C * df(r, start_date, dates[j]) for j in range(len(dates))]\n",
    "    \n",
    "    for i in range(nsimulations):\n",
    "        autocall_price = 0.0\n",
    "        \n",
    "        for j in range(1, len(dates)):\n",
    "            S = new_price(S, v, r, dates[j-1], dates[j])\n",
    "    \n",
    "            if S > coupon_barrier:\n",
    "                autocall_price += coupons_discounted[j]\n",
    "                \n",
    "            if S >= kickout_barrier:\n",
    "                break\n",
    "\n",
    "        if S < protection_barrier:\n",
    "            autocall_price += S * principal_discounted[j]\n",
    "                \n",
    "        else:\n",
    "            autocall_price += principal_discounted[j]\n",
    "\n",
    "        autocall_prices.append(autocall_price)\n",
    "\n",
    "    final_autocall_price = sum(autocall_prices) / float(nsimulations)\n",
    "    return final_autocall_price"
   ]
  },
  {
   "cell_type": "code",
   "execution_count": 9,
   "metadata": {
    "tags": []
   },
   "outputs": [
    {
     "name": "stdout",
     "output_type": "stream",
     "text": [
      "1.66 s ± 43 ms per loop (mean ± std. dev. of 7 runs, 1 loop each)\n"
     ]
    }
   ],
   "source": [
    "%%timeit\n",
    "mc_autocall2(NSIMULATIONS,\n",
    "              v=V,\n",
    "              r=R, \n",
    "              coupon_barrier=COUPON_BARRIER,\n",
    "              kickout_barrier=KICKOUT_BARRIER,\n",
    "              protection_barrier=PROTECTION_BARRIER,\n",
    "              coupon_rate=COUPON_RATE,\n",
    "              dates=dates)"
   ]
  },
  {
   "cell_type": "code",
   "execution_count": 10,
   "metadata": {},
   "outputs": [],
   "source": [
    "def mc_autocall3(nsimulations,\n",
    "                 v=V,\n",
    "                 r=R, \n",
    "                 coupon_barrier=COUPON_BARRIER,\n",
    "                 kickout_barrier=KICKOUT_BARRIER,\n",
    "                 protection_barrier=PROTECTION_BARRIER,\n",
    "                 coupon_rate=COUPON_RATE,\n",
    "                 dates=dates):\n",
    "    \n",
    "    assert(coupon_barrier >= protection_barrier)\n",
    "    \n",
    "    S = 1.0\n",
    "    C = 1000.0\n",
    "\n",
    "    start_date = dates[0]\n",
    "\n",
    "    autocall_prices = []\n",
    "\n",
    "    coupons_discounted = [C * coupon_rate * df(r, start_date, dates[j]) for j in range(len(dates))]\n",
    "    principal_discounted = [C * df(r, start_date, dates[j]) for j in range(len(dates))]\n",
    "    \n",
    "    def p_exp(t1, t2):\n",
    "        T = (t2 - t1) / 365.0\n",
    "        return ((r - 0.5 * v * v) * T, v * sqrt(T)) \n",
    "        \n",
    "    \n",
    "    partial_exp = [p_exp(dates[j], dates[j+1]) for j in range(len(dates)-1)]\n",
    "     \n",
    "    for i in range(nsimulations):\n",
    "        autocall_price = 0.0\n",
    "        \n",
    "        for j in range(1, len(dates)):\n",
    "            S = S * exp(partial_exp[j-1][0] + partial_exp[j-1][1] * np.random.randn()) \n",
    "    \n",
    "            if S > coupon_barrier:\n",
    "                autocall_price += coupons_discounted[j]\n",
    "                \n",
    "            if S >= kickout_barrier:\n",
    "                break\n",
    "\n",
    "        if S < protection_barrier:\n",
    "            autocall_price += S * principal_discounted[j]\n",
    "                \n",
    "        else:\n",
    "            autocall_price += principal_discounted[j]\n",
    "\n",
    "        autocall_prices.append(autocall_price)\n",
    "\n",
    "    final_autocall_price = sum(autocall_prices) / float(nsimulations)\n",
    "    return final_autocall_price"
   ]
  },
  {
   "cell_type": "code",
   "execution_count": 11,
   "metadata": {
    "tags": []
   },
   "outputs": [
    {
     "name": "stdout",
     "output_type": "stream",
     "text": [
      "1.29 s ± 2.61 ms per loop (mean ± std. dev. of 7 runs, 1 loop each)\n"
     ]
    }
   ],
   "source": [
    "%%timeit\n",
    "mc_autocall3(NSIMULATIONS,\n",
    "             v=V,\n",
    "             r=R, \n",
    "             coupon_barrier=COUPON_BARRIER,\n",
    "             kickout_barrier=KICKOUT_BARRIER,\n",
    "             protection_barrier=PROTECTION_BARRIER,\n",
    "             coupon_rate=COUPON_RATE,\n",
    "             dates=dates)"
   ]
  },
  {
   "cell_type": "code",
   "execution_count": null,
   "metadata": {},
   "outputs": [],
   "source": []
  },
  {
   "cell_type": "code",
   "execution_count": 12,
   "metadata": {},
   "outputs": [],
   "source": [
    "def mc_autocall4(nsimulations,\n",
    "                 v=V,\n",
    "                 r=R, \n",
    "                 coupon_barrier=COUPON_BARRIER,\n",
    "                 kickout_barrier=KICKOUT_BARRIER,\n",
    "                 protection_barrier=PROTECTION_BARRIER,\n",
    "                 coupon_rate=COUPON_RATE,\n",
    "                 dates=dates):\n",
    "    \n",
    "    assert(coupon_barrier >= protection_barrier)\n",
    "    \n",
    "    S = 1.0\n",
    "    C = 1000.0\n",
    "\n",
    "    start_date = dates[0]\n",
    "\n",
    "    autocall_prices = []\n",
    "\n",
    "    coupons_discounted = [C * coupon_rate * df(r, start_date, dates[j]) for j in range(len(dates))]\n",
    "    principal_discounted = [C * df(r, start_date, dates[j]) for j in range(len(dates))]\n",
    "    \n",
    "    def p_exp(t1, t2):\n",
    "        T = (t2 - t1)/ 365.0\n",
    "        return ((r - 0.5 * v**2) * T, v * sqrt(T)) \n",
    "        \n",
    "    \n",
    "    partial_exp = [p_exp(dates[j], dates[j+1]) for j in range(len(dates)-1)]\n",
    "    \n",
    "    rnd = np.random.randn(nsimulations, len(dates)-1)   \n",
    "    \n",
    "    for i in range(nsimulations):\n",
    "        autocall_price = 0.0\n",
    "        \n",
    "        for j in range(1, len(dates)):\n",
    "            S = S * exp(partial_exp[j-1][0] + partial_exp[j-1][1] * rnd[i, j-1]) \n",
    "    \n",
    "            if S > coupon_barrier:\n",
    "                autocall_price += coupons_discounted[j]\n",
    "                \n",
    "            if S >= kickout_barrier:\n",
    "                break\n",
    "\n",
    "        if S < protection_barrier:\n",
    "            autocall_price += S * principal_discounted[j]\n",
    "                \n",
    "        else:\n",
    "            autocall_price += principal_discounted[j]\n",
    "\n",
    "        autocall_prices.append(autocall_price)\n",
    "\n",
    "    final_autocall_price = sum(autocall_prices) / float(nsimulations)\n",
    "    return final_autocall_price"
   ]
  },
  {
   "cell_type": "code",
   "execution_count": 13,
   "metadata": {
    "tags": []
   },
   "outputs": [
    {
     "name": "stdout",
     "output_type": "stream",
     "text": [
      "1.4 s ± 84.3 ms per loop (mean ± std. dev. of 7 runs, 1 loop each)\n"
     ]
    }
   ],
   "source": [
    "%%timeit\n",
    "mc_autocall4(NSIMULATIONS,\n",
    "             v=V,\n",
    "             r=R, \n",
    "             coupon_barrier=COUPON_BARRIER,\n",
    "             kickout_barrier=KICKOUT_BARRIER,\n",
    "             protection_barrier=PROTECTION_BARRIER,\n",
    "             coupon_rate=COUPON_RATE,\n",
    "             dates=dates)"
   ]
  },
  {
   "cell_type": "code",
   "execution_count": 14,
   "metadata": {},
   "outputs": [],
   "source": [
    "def mc_autocall5(nsimulations,\n",
    "                 v=V,\n",
    "                 r=R, \n",
    "                 coupon_barrier=COUPON_BARRIER,\n",
    "                 kickout_barrier=KICKOUT_BARRIER,\n",
    "                 protection_barrier=PROTECTION_BARRIER,\n",
    "                 coupon_rate=COUPON_RATE,\n",
    "                 dates=dates):\n",
    "    \n",
    "    assert(coupon_barrier >= protection_barrier)\n",
    "    \n",
    "    S = 1.0\n",
    "    C = 1000.0\n",
    "\n",
    "    start_date = dates[0]\n",
    "\n",
    "    autocall_prices = [0.0] * nsimulations\n",
    "\n",
    "    coupons_discounted = [C * coupon_rate * df(r, start_date, dates[j]) for j in range(len(dates))]\n",
    "    principal_discounted = [C * df(r, start_date, dates[j]) for j in range(len(dates))]\n",
    "    \n",
    "    def p_exp(t1, t2):\n",
    "        T = (t2 - t1) / 365.0\n",
    "        return ((r - 0.5 * v**2) * T, v * sqrt(T)) \n",
    "        \n",
    "    \n",
    "    partial_exp = [p_exp(dates[j], dates[j+1]) for j in range(len(dates)-1)]\n",
    "    \n",
    "    rnd = np.random.randn(nsimulations, len(dates)-1)   \n",
    "    \n",
    "    for i in range(nsimulations):\n",
    "        autocall_price = 0.0\n",
    "        \n",
    "        for j in range(1, len(dates)):\n",
    "            S = S * exp(partial_exp[j-1][0] + partial_exp[j-1][1] * rnd[i, j-1]) \n",
    "    \n",
    "            if S > coupon_barrier:\n",
    "                autocall_price += coupons_discounted[j]\n",
    "                \n",
    "            if S >= kickout_barrier:\n",
    "                break\n",
    "\n",
    "        if S < protection_barrier:\n",
    "            autocall_price += S * principal_discounted[j]\n",
    "                \n",
    "        else:\n",
    "            autocall_price += principal_discounted[j]\n",
    "\n",
    "        autocall_prices[i] = autocall_price\n",
    "\n",
    "    final_autocall_price = sum(autocall_prices) / float(nsimulations)\n",
    "    return final_autocall_price"
   ]
  },
  {
   "cell_type": "code",
   "execution_count": 15,
   "metadata": {
    "tags": []
   },
   "outputs": [
    {
     "name": "stdout",
     "output_type": "stream",
     "text": [
      "1.42 s ± 119 ms per loop (mean ± std. dev. of 7 runs, 1 loop each)\n"
     ]
    }
   ],
   "source": [
    "%%timeit\n",
    "mc_autocall5(NSIMULATIONS,\n",
    "             v=V,\n",
    "             r=R, \n",
    "             coupon_barrier=COUPON_BARRIER,\n",
    "             kickout_barrier=KICKOUT_BARRIER,\n",
    "             protection_barrier=PROTECTION_BARRIER,\n",
    "             coupon_rate=COUPON_RATE,\n",
    "             dates=dates)"
   ]
  },
  {
   "cell_type": "code",
   "execution_count": 16,
   "metadata": {},
   "outputs": [],
   "source": [
    "# Multiprocessing con números aleatorios paralelos basados en RandomState\n",
    "# RandomState se ha quedado anticuado y utilza el generador MT19937\n",
    "# que es más lento que el generador ahora por defecto en numpy PGC64 \n",
    "\n",
    "from multiprocessing import Pool\n",
    "\n",
    "def mc_autocall_mapper(nsimulations,\n",
    "                   v=V,\n",
    "                   r=R, \n",
    "                   coupon_barrier=COUPON_BARRIER,\n",
    "                   kickout_barrier=KICKOUT_BARRIER,\n",
    "                   protection_barrier=PROTECTION_BARRIER,\n",
    "                   coupon_rate=COUPON_RATE,\n",
    "                   dates=dates):\n",
    "    \n",
    "    assert(coupon_barrier >= protection_barrier)\n",
    "\n",
    "    # Hay que tener cuidado con la desserialización desde json. \n",
    "    # En json son todo flotantes.\n",
    "    nsimulations = int(nsimulations)\n",
    "    \n",
    "    S = 1.0\n",
    "    C = 1000.0\n",
    "\n",
    "    start_date = dates[0]\n",
    "\n",
    "    autocall_prices = [0.0] * nsimulations\n",
    "\n",
    "    coupons_discounted = [C * coupon_rate * df(r, start_date, dates[j]) for j in range(len(dates))]\n",
    "    principal_discounted = [C * df(r, start_date, dates[j]) for j in range(len(dates))]\n",
    "    \n",
    "    def p_exp(t1, t2):\n",
    "        T = (t2 - t1) / 365.0\n",
    "        return ((r - 0.5 * v**2) * T, v * sqrt(T)) \n",
    "        \n",
    "    \n",
    "    partial_exp = [p_exp(dates[j], dates[j+1]) for j in range(len(dates)-1)]\n",
    "    \n",
    "    rnd = np.random.RandomState().randn(nsimulations, len(dates)-1) \n",
    "    \n",
    "    # muy importante RandomState() para multiproceso ya que reinicializa la semilla\n",
    "    # numpy.random.RandomState(seed=None)\n",
    "    # If seed is None, then the MT19937 BitGenerator is initialized by reading data from /dev/urandom \n",
    "    # (or the Windows analogue) if available or seed from the clock otherwise.\n",
    "    \n",
    "    for i in range(nsimulations):\n",
    "        autocall_price = 0.0\n",
    "        \n",
    "        for j in range(1, len(dates)):\n",
    "            S = S * exp(partial_exp[j-1][0] + partial_exp[j-1][1] * rnd[i, j-1]) \n",
    "    \n",
    "            if S > coupon_barrier:\n",
    "                autocall_price += coupons_discounted[j]\n",
    "                \n",
    "            if S >= kickout_barrier:\n",
    "                break\n",
    "\n",
    "        if S < protection_barrier:\n",
    "            autocall_price += S * principal_discounted[j]\n",
    "                \n",
    "        else:\n",
    "            autocall_price += principal_discounted[j]\n",
    "\n",
    "        autocall_prices[i] = autocall_price\n",
    "\n",
    "    return sum(autocall_prices), float(nsimulations)"
   ]
  },
  {
   "cell_type": "code",
   "execution_count": 17,
   "metadata": {},
   "outputs": [],
   "source": [
    "nworkers = 4\n",
    "nsims = float(NSIMULATIONS) / float(nworkers)\n",
    "\n",
    "p = Pool(nworkers)\n",
    "\n",
    "\n",
    "chunks = [int(nsims)] * nworkers\n",
    "diff = NSIMULATIONS - int(nsims) * nworkers\n",
    "if diff>0:\n",
    "    for i in range(diff):\n",
    "        chunks[i] += 1\n",
    "\n",
    "# Lo dejamos por completitud.\n",
    "# En linux funciona incluso en los notebooks de Jupyter\n",
    "def f(nsimulations):\n",
    "    return mc_autocall_mapper(nsimulations,\n",
    "                          v=V,\n",
    "                          r=R, \n",
    "                          coupon_barrier=COUPON_BARRIER,\n",
    "                          kickout_barrier=KICKOUT_BARRIER,\n",
    "                          protection_barrier=PROTECTION_BARRIER,\n",
    "                          coupon_rate=COUPON_RATE,\n",
    "                          dates=dates)\n",
    "\n",
    "# En windows desde los notebooks de Jupyter da error\n",
    "# la serialización de funciones en multiprocessing.\n",
    "# El truco es escribir la función en un módulo y pasar la referencia.\n",
    "\n",
    "import mc_autocall_mapper\n",
    "\n",
    "f = mc_autocall_mapper.f\n",
    "\n",
    "def map_reduce(f, n):\n",
    "    suma, size = list(zip(*p.map(f, chunks)))\n",
    "    return sum(suma)/float(sum(size))\n",
    "    "
   ]
  },
  {
   "cell_type": "code",
   "execution_count": 18,
   "metadata": {
    "tags": []
   },
   "outputs": [
    {
     "name": "stdout",
     "output_type": "stream",
     "text": [
      "467 ms ± 28 ms per loop (mean ± std. dev. of 7 runs, 1 loop each)\n"
     ]
    }
   ],
   "source": [
    "%%timeit\n",
    "map_reduce(f, nworkers)\n"
   ]
  },
  {
   "cell_type": "code",
   "execution_count": 19,
   "metadata": {},
   "outputs": [
    {
     "data": {
      "text/plain": [
       "1045.219099855424"
      ]
     },
     "execution_count": 19,
     "metadata": {},
     "output_type": "execute_result"
    }
   ],
   "source": [
    "map_reduce(f, nworkers)"
   ]
  },
  {
   "cell_type": "code",
   "execution_count": 20,
   "metadata": {},
   "outputs": [],
   "source": [
    "# Versión basada en PGC64. Hay que pasar a la función la semilla y el número de salto.\n",
    "# Basado en https://numpy.org/doc/1.18/reference/random/parallel.html\n",
    "\n",
    "\n",
    "from multiprocessing import Pool\n",
    "import secrets\n",
    "from numpy.random import PCG64, Generator\n",
    "\n",
    "\n",
    "def mc_autocall_mapper2(rndg, nsimulations,\n",
    "                   v=V,\n",
    "                   r=R, \n",
    "                   coupon_barrier=COUPON_BARRIER,\n",
    "                   kickout_barrier=KICKOUT_BARRIER,\n",
    "                   protection_barrier=PROTECTION_BARRIER,\n",
    "                   coupon_rate=COUPON_RATE,\n",
    "                   dates=dates):\n",
    "    \n",
    "\n",
    "    rng = Generator(PCG64(int(rndg[0])).jumped(int(rndg[1])))\n",
    "    \n",
    "    assert(coupon_barrier >= protection_barrier)\n",
    "\n",
    "    # Hay que tener cuidado con la desserialización desde json. \n",
    "    # En json son todo flotantes.\n",
    "    nsimulations = int(nsimulations)\n",
    "    \n",
    "    S = 1.0\n",
    "    C = 1000.0\n",
    "\n",
    "    start_date = dates[0]\n",
    "\n",
    "    autocall_prices = [0.0] * nsimulations\n",
    "\n",
    "    coupons_discounted = [C * coupon_rate * df(r, start_date, dates[j]) for j in range(len(dates))]\n",
    "    principal_discounted = [C * df(r, start_date, dates[j]) for j in range(len(dates))]\n",
    "    \n",
    "    def p_exp(t1, t2):\n",
    "        T = (t2 - t1) / 365.0\n",
    "        return ((r - 0.5 * v**2) * T, v * sqrt(T)) \n",
    "        \n",
    "    \n",
    "    partial_exp = [p_exp(dates[j], dates[j+1]) for j in range(len(dates)-1)]\n",
    "    \n",
    "    rnd = rng.standard_normal((nsimulations, len(dates)-1)) \n",
    "    \n",
    "    for i in range(nsimulations):\n",
    "        autocall_price = 0.0\n",
    "        \n",
    "        for j in range(1, len(dates)):\n",
    "            S = S * exp(partial_exp[j-1][0] + partial_exp[j-1][1] * rnd[i, j-1]) \n",
    "    \n",
    "            if S > coupon_barrier:\n",
    "                autocall_price += coupons_discounted[j]\n",
    "                \n",
    "            if S >= kickout_barrier:\n",
    "                break\n",
    "\n",
    "        if S < protection_barrier:\n",
    "            autocall_price += S * principal_discounted[j]\n",
    "                \n",
    "        else:\n",
    "            autocall_price += principal_discounted[j]\n",
    "\n",
    "        autocall_prices[i] = autocall_price\n",
    "\n",
    "    return sum(autocall_prices), float(nsimulations)"
   ]
  },
  {
   "cell_type": "code",
   "execution_count": 21,
   "metadata": {},
   "outputs": [],
   "source": [
    "nworkers = 4\n",
    "nsims = float(NSIMULATIONS) / float(nworkers)\n",
    "\n",
    "p = Pool(nworkers)\n",
    "\n",
    "\n",
    "chunks = [int(nsims)] * nworkers\n",
    "diff = NSIMULATIONS - int(nsims) * nworkers\n",
    "if diff>0:\n",
    "    for i in range(diff):\n",
    "        chunks[i] += 1\n",
    " \n",
    "        \n",
    "# Lo dejamos por completitud.\n",
    "# En linux funciona incluso en los notebooks de Jupyter\n",
    "def f(x):\n",
    "    seed = int(x[0])\n",
    "    jump = int(x[1])\n",
    "    nsim = int(x[2])\n",
    "    return mc_autocall_mapper2(rndg=(seed, jump),\n",
    "                          nsimulations=nsim,\n",
    "                          v=V,\n",
    "                          r=R, \n",
    "                          coupon_barrier=COUPON_BARRIER,\n",
    "                          kickout_barrier=KICKOUT_BARRIER,\n",
    "                          protection_barrier=PROTECTION_BARRIER,\n",
    "                          coupon_rate=COUPON_RATE,\n",
    "                          dates=dates)\n",
    "\n",
    "# En windows desde los notebooks de Jupyter da error\n",
    "# la serialización de funciones en multiprocessing.\n",
    "# El truco es escribir la función en un módulo y pasar la referencia.\n",
    "\n",
    "f2 = mc_autocall_mapper.f2\n",
    "\n",
    "seed = secrets.randbits(128)\n",
    "\n",
    "args = [x for x in zip([seed]*nworkers, range(nworkers), chunks)]\n",
    "\n",
    "def map_reduce(f, n):\n",
    "    suma, size = list(zip(*p.map(f, args)))\n",
    "    return sum(suma)/float(sum(size))\n",
    "    "
   ]
  },
  {
   "cell_type": "code",
   "execution_count": 22,
   "metadata": {},
   "outputs": [
    {
     "name": "stdout",
     "output_type": "stream",
     "text": [
      "420 ms ± 31.7 ms per loop (mean ± std. dev. of 7 runs, 1 loop each)\n"
     ]
    }
   ],
   "source": [
    "%%timeit\n",
    "map_reduce(f2, nworkers)"
   ]
  },
  {
   "cell_type": "code",
   "execution_count": 23,
   "metadata": {},
   "outputs": [
    {
     "data": {
      "text/plain": [
       "1045.2238169193386"
      ]
     },
     "execution_count": 23,
     "metadata": {},
     "output_type": "execute_result"
    }
   ],
   "source": [
    "map_reduce(f2, nworkers)"
   ]
  }
 ],
 "metadata": {
  "kernelspec": {
   "display_name": "Python 3",
   "language": "python",
   "name": "python3"
  },
  "language_info": {
   "codemirror_mode": {
    "name": "ipython",
    "version": 3
   },
   "file_extension": ".py",
   "mimetype": "text/x-python",
   "name": "python",
   "nbconvert_exporter": "python",
   "pygments_lexer": "ipython3",
   "version": "3.7.9"
  }
 },
 "nbformat": 4,
 "nbformat_minor": 4
}
