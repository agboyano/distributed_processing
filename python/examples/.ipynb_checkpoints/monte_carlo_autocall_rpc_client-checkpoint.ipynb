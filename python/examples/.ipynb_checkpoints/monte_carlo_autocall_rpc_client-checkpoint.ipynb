{
 "cells": [
  {
   "cell_type": "code",
   "execution_count": 1,
   "metadata": {},
   "outputs": [],
   "source": [
    "import random\n",
    "\n",
    "from distributed_rpc.serializers import JsonSerializer\n",
    "from distributed_rpc.rpc_client import RPCClient\n",
    "from distributed_rpc.redis_connector import RedisConnector\n"
   ]
  },
  {
   "cell_type": "code",
   "execution_count": 2,
   "metadata": {},
   "outputs": [],
   "source": [
    "REDIS_HOST = \"localhost\"\n",
    "REDIS_PORT = 6379\n",
    "REDIS_DB = 0\n",
    "NAMESPACE = \"montecarlos\""
   ]
  },
  {
   "cell_type": "code",
   "execution_count": 3,
   "metadata": {},
   "outputs": [],
   "source": [
    "redis_connector = RedisConnector(redis_host=REDIS_HOST, redis_port=REDIS_PORT, \n",
    "                                 redis_db=REDIS_DB, namespace=NAMESPACE)\n",
    "\n",
    "client = RPCClient(JsonSerializer(), redis_connector, check_registry=\"cache\")"
   ]
  },
  {
   "cell_type": "code",
   "execution_count": 4,
   "metadata": {},
   "outputs": [],
   "source": [
    "import datetime\n",
    "\n",
    "NSIMULATIONS = 1000000\n",
    "\n",
    "V=0.20 # Volatilidad\n",
    "R=0.04 # Interés instantáneo (ln(1+r)?)\n",
    "COUPON_BARRIER=0.8\n",
    "KICKOUT_BARRIER=1.1\n",
    "PROTECTION_BARRIER=0.6\n",
    "COUPON_RATE=0.088\n",
    "\n",
    "obs_dates = [datetime.datetime(2012, 7, 4, 0, 0),\n",
    "             datetime.datetime(2013, 7, 5, 0, 0),\n",
    "             datetime.datetime(2014, 7, 7, 0, 0),\n",
    "             datetime.datetime(2015, 7, 6, 0, 0),\n",
    "             datetime.datetime(2016, 7, 5, 0, 0),\n",
    "             datetime.datetime(2017, 7, 5, 0, 0),\n",
    "             datetime.datetime(2018, 7, 5, 0, 0)]\n",
    "\n",
    "dates = [int((t-obs_dates[0]).days) for t in obs_dates]"
   ]
  },
  {
   "cell_type": "code",
   "execution_count": 5,
   "metadata": {},
   "outputs": [],
   "source": [
    "nchunks = 100\n",
    "nsimulations = NSIMULATIONS/nchunks\n",
    "\n",
    "def args_kwargs(*args, **kwargs):\n",
    "    return list(args), kwargs\n",
    "\n",
    "\n",
    "args, kwargs= args_kwargs(simulations=nsimulations,\n",
    "                            v=V,\n",
    "                            r=R, \n",
    "                            coupon_barrier=COUPON_BARRIER,\n",
    "                            kickout_barrier=KICKOUT_BARRIER,\n",
    "                            protection_barrier=PROTECTION_BARRIER,\n",
    "                            coupon_rate=COUPON_RATE,\n",
    "                            dates=dates)\n",
    "\n",
    "\n",
    "\n",
    "\n",
    "def distributed_montecarlo():\n",
    "    sim = [client.rpc_async(\"mc_autocall_mp\", args, kwargs) for i in range(nchunks)]\n",
    "    sumas, sizes = list(zip(*[x.get() for x in sim]))\n",
    "    \n",
    "    return sum(sumas)/sum(sizes)\n",
    "\n",
    "    \n",
    "\n",
    "    "
   ]
  },
  {
   "cell_type": "code",
   "execution_count": 6,
   "metadata": {},
   "outputs": [
    {
     "name": "stdout",
     "output_type": "stream",
     "text": [
      "1.9 s ± 49.4 ms per loop (mean ± std. dev. of 7 runs, 1 loop each)\n"
     ]
    }
   ],
   "source": [
    "%%timeit\n",
    "distributed_montecarlo()"
   ]
  },
  {
   "cell_type": "code",
   "execution_count": 7,
   "metadata": {},
   "outputs": [
    {
     "data": {
      "text/plain": [
       "1044.7415744474545"
      ]
     },
     "execution_count": 7,
     "metadata": {},
     "output_type": "execute_result"
    }
   ],
   "source": [
    "\n",
    "distributed_montecarlo()"
   ]
  },
  {
   "cell_type": "code",
   "execution_count": 8,
   "metadata": {},
   "outputs": [
    {
     "data": {
      "text/plain": [
       "86400"
      ]
     },
     "execution_count": 8,
     "metadata": {},
     "output_type": "execute_result"
    }
   ],
   "source": [
    "client.timeout"
   ]
  },
  {
   "cell_type": "code",
   "execution_count": 9,
   "metadata": {},
   "outputs": [],
   "source": [
    "import time"
   ]
  },
  {
   "cell_type": "code",
   "execution_count": 10,
   "metadata": {},
   "outputs": [],
   "source": [
    "a = time.time()"
   ]
  },
  {
   "cell_type": "code",
   "execution_count": 11,
   "metadata": {},
   "outputs": [
    {
     "data": {
      "text/plain": [
       "0.00553584098815918"
      ]
     },
     "execution_count": 11,
     "metadata": {},
     "output_type": "execute_result"
    }
   ],
   "source": [
    "time.time() - a"
   ]
  },
  {
   "cell_type": "code",
   "execution_count": null,
   "metadata": {},
   "outputs": [],
   "source": []
  }
 ],
 "metadata": {
  "kernelspec": {
   "display_name": "Python 3",
   "language": "python",
   "name": "python3"
  },
  "language_info": {
   "codemirror_mode": {
    "name": "ipython",
    "version": 3
   },
   "file_extension": ".py",
   "mimetype": "text/x-python",
   "name": "python",
   "nbconvert_exporter": "python",
   "pygments_lexer": "ipython3",
   "version": "3.7.7"
  }
 },
 "nbformat": 4,
 "nbformat_minor": 4
}
